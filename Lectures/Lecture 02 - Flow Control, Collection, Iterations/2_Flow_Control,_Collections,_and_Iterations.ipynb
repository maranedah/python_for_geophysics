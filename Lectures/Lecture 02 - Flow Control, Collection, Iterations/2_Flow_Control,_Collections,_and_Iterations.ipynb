{
  "nbformat": 4,
  "nbformat_minor": 0,
  "metadata": {
    "colab": {
      "provenance": [],
      "collapsed_sections": [
        "orange-operation",
        "cleared-mattress",
        "respected-principal",
        "mighty-first",
        "proof-vaccine",
        "identified-terrorist",
        "behavioral-master",
        "metropolitan-nashville",
        "advanced-administrator",
        "verbal-pocket",
        "015bd33a-2d3b-4939-ba66-0c622df899c4",
        "laden-burlington",
        "arctic-antarctica",
        "emerging-storm",
        "gothic-concern",
        "f1e4147f-847d-4a93-abc2-d8a905969c46",
        "8a3365d2-6d2a-46f6-91c6-3511dbd313e6",
        "4e3d70ce-2008-4ae3-a600-1b49e2db90a0",
        "computational-norman",
        "corporate-message",
        "ecological-halloween",
        "corrected-ballet",
        "fifth-recording"
      ]
    },
    "kernelspec": {
      "name": "python3",
      "display_name": "Python 3"
    },
    "language_info": {
      "name": "python"
    }
  },
  "cells": [
    {
      "cell_type": "markdown",
      "source": [
        "## Lecture 2: Flow Control, Collections and Iterations\n",
        "\n",
        "**Python for GeoSciences**\n",
        "\n",
        "*Professor: Mauricio Araneda Hernandez*\n"
      ],
      "metadata": {
        "id": "VWRByXbFKLXH"
      }
    },
    {
      "cell_type": "markdown",
      "source": [
        "---\n",
        "## Objectives of the class\n",
        "\n",
        "- Flow Control.\n",
        "- Colections: Lists, tuples and dictionaries.\n",
        "- Iterators.\n",
        "---"
      ],
      "metadata": {
        "id": "cgbg0kOGKROS"
      }
    },
    {
      "cell_type": "markdown",
      "metadata": {
        "tags": [],
        "id": "diagnostic-doctrine"
      },
      "source": [
        "### Boolean operators\n",
        "\n",
        "The following tables show how the logical operations `and`, `or` and `not` work."
      ]
    },
    {
      "cell_type": "markdown",
      "metadata": {
        "id": "physical-gathering"
      },
      "source": [
        "#### Operator `and`\n",
        "\n",
        "Implements the logical operation `and`."
      ]
    },
    {
      "cell_type": "code",
      "execution_count": null,
      "metadata": {
        "ExecuteTime": {
          "end_time": "2021-03-22T19:47:25.648406Z",
          "start_time": "2021-03-22T19:47:25.636406Z"
        },
        "id": "empty-episode",
        "colab": {
          "base_uri": "https://localhost:8080/"
        },
        "outputId": "2bb52312-3a15-4159-cf2e-acfaeb2f4bc7"
      },
      "outputs": [
        {
          "output_type": "stream",
          "name": "stdout",
          "text": [
            "| Bool1  -  Bool2 |  Resultado\n",
            "------------------------------\n",
            "| True  and True  |  True\n",
            "| False and True  |  False\n",
            "| True  and False |  False\n",
            "| False and False |  False\n"
          ]
        }
      ],
      "source": [
        "print('| Bool1  -  Bool2 |  Resultado')\n",
        "print('-'*30)\n",
        "print('| True  and True  | ', True and True)\n",
        "print('| False and True  | ', False and True)\n",
        "print('| True  and False | ', True and False)\n",
        "print('| False and False | ', False and False)"
      ]
    },
    {
      "cell_type": "markdown",
      "metadata": {
        "id": "olympic-louisville"
      },
      "source": [
        "#### Operator `or`\n",
        "\n",
        "Implements the logical operation `or`."
      ]
    },
    {
      "cell_type": "code",
      "execution_count": null,
      "metadata": {
        "ExecuteTime": {
          "end_time": "2021-03-22T19:47:40.866246Z",
          "start_time": "2021-03-22T19:47:40.858245Z"
        },
        "id": "played-breakfast",
        "colab": {
          "base_uri": "https://localhost:8080/"
        },
        "outputId": "c8db4c38-2ffe-4f84-8f1a-dbd85bff867d"
      },
      "outputs": [
        {
          "output_type": "stream",
          "name": "stdout",
          "text": [
            "| Bool1  -  Bool2 |  Resultado\n",
            "------------------------------\n",
            "| True  or True  |  True\n",
            "| False or True  |  True\n",
            "| True  or False |  True\n",
            "| False or False |  False\n"
          ]
        }
      ],
      "source": [
        "print('| Bool1  -  Bool2 |  Resultado')\n",
        "print('------------------------------')\n",
        "print('| True  or True  | ', True or True)\n",
        "print('| False or True  | ', False or True)\n",
        "print('| True  or False | ', True or False)\n",
        "print('| False or False | ', False or False)"
      ]
    },
    {
      "cell_type": "markdown",
      "metadata": {
        "id": "grateful-atlas"
      },
      "source": [
        "#### Operator `not`\n",
        "\n",
        "\n",
        "Implements the logical operation \"negation\"."
      ]
    },
    {
      "cell_type": "code",
      "execution_count": null,
      "metadata": {
        "id": "ad43ed3c-e999-41ad-9b5a-56079ccef153",
        "colab": {
          "base_uri": "https://localhost:8080/"
        },
        "outputId": "0e17385c-9701-4f68-be57-818599d01be6"
      },
      "outputs": [
        {
          "output_type": "stream",
          "name": "stdout",
          "text": [
            "| Bool1      |  Resultado\n",
            "-------------------------\n",
            "| not True   |  False\n",
            "| not False  |  True\n"
          ]
        }
      ],
      "source": [
        "print('| Bool1      |  Resultado')\n",
        "print('-------------------------')\n",
        "print('| not True   | ', not True)\n",
        "print('| not False  | ', not False)"
      ]
    },
    {
      "cell_type": "markdown",
      "metadata": {
        "ExecuteTime": {
          "end_time": "2021-03-22T15:16:11.183686Z",
          "start_time": "2021-03-22T15:16:11.173687Z"
        },
        "id": "little-instrumentation"
      },
      "source": [
        "> **Question ❓:** Do `&&` and `||` operators exist in Python?"
      ]
    },
    {
      "cell_type": "markdown",
      "metadata": {
        "id": "greater-internship"
      },
      "source": [
        "---\n",
        "\n",
        "## Part 4: Flow Control"
      ]
    },
    {
      "cell_type": "markdown",
      "metadata": {
        "id": "ordinary-navigation"
      },
      "source": [
        "A **Flow Control** structure refers to a type of code structure that allows us to decide whether or not to execute a given code segment based on a Boolean expression or variable:\n",
        "\n",
        "````python\n",
        "\n",
        "if expression_boolean_0:\n",
        "    # I execute this code if expression_boolean_0 is True.\n",
        "    ...  \n",
        "\n",
        "elif boolean_expression_1:\n",
        "    # I execute this code if expression_boolean_1 is `True` and expression_boolean_0 is False.\n",
        "    ...\n",
        "    \n",
        "else:\n",
        "    # I execute this code if expression_boolean_0 and expression_boolean_1 are False.\n",
        "    ...\n",
        "\n",
        "```\n",
        "\n",
        "- Note 1:** You can use ```elif``` as many times as necessary (zero times if you don't need it). \n",
        "- Note 2:**: The keyword ```else``` ends the flow and is optional. That is, you can make\n",
        "a flow control without using ``else``.\n"
      ]
    },
    {
      "cell_type": "markdown",
      "metadata": {
        "id": "infrared-crossing"
      },
      "source": [
        "### Indented Block\n",
        "\n",
        "\n",
        "It is possible to observe that under each expression ```if```, ```elif``` or ```else```, the corresponding actions are executed 4 spaces further inside. This is known as indentation.\n",
        "\n",
        "In `Python`, each line of code belongs to a *block*. In addition, each block has a hierarchy: in the case of flow control, each keyword defines a 4-space indented block under it. \n",
        "\n",
        "> **Question ❓**: How is block-dependent code handled in other languages?"
      ]
    },
    {
      "cell_type": "code",
      "execution_count": null,
      "metadata": {
        "ExecuteTime": {
          "end_time": "2021-03-22T19:55:30.847496Z",
          "start_time": "2021-03-22T19:55:30.831497Z"
        },
        "id": "working-garden",
        "colab": {
          "base_uri": "https://localhost:8080/"
        },
        "outputId": "562e948f-4540-4c22-9f1f-4a4e8e65c344"
      },
      "outputs": [
        {
          "output_type": "stream",
          "name": "stdout",
          "text": [
            "I do not have what you are requesting 🤷\n"
          ]
        }
      ],
      "source": [
        "question = \"Hello, what would you like to drink?\"\n",
        "\n",
        "answer = 'juice'\n",
        "\n",
        "if 'tea' in answer:\n",
        "    print(\"I'll bring you your 🍵 in a moment.\")\n",
        "    \n",
        "elif answer == 'coffe':\n",
        "    print(\"I'll bring you your ☕ right away.\")\n",
        "    \n",
        "else: \n",
        "    print('I do not have what you are requesting 🤷')"
      ]
    },
    {
      "cell_type": "markdown",
      "metadata": {
        "id": "a3fa9c2b"
      },
      "source": [
        "\n",
        "We can write compact if/else statements in Python as follows:"
      ]
    },
    {
      "cell_type": "code",
      "execution_count": null,
      "metadata": {
        "id": "aff43757"
      },
      "outputs": [],
      "source": [
        "number = 31"
      ]
    },
    {
      "cell_type": "code",
      "execution_count": null,
      "metadata": {
        "id": "7ad41866",
        "colab": {
          "base_uri": "https://localhost:8080/",
          "height": 35
        },
        "outputId": "1db4cb56-01ef-4bcd-cd0f-8be80a8f88ea"
      },
      "outputs": [
        {
          "output_type": "execute_result",
          "data": {
            "text/plain": [
              "'Odd'"
            ],
            "application/vnd.google.colaboratory.intrinsic+json": {
              "type": "string"
            }
          },
          "metadata": {},
          "execution_count": 7
        }
      ],
      "source": [
        "if number % 2 == 0:\n",
        "    result = 'Even'\n",
        "else: \n",
        "    result = 'Odd'\n",
        "result"
      ]
    },
    {
      "cell_type": "code",
      "execution_count": null,
      "metadata": {
        "id": "0f15a758",
        "colab": {
          "base_uri": "https://localhost:8080/",
          "height": 35
        },
        "outputId": "051ac29f-c542-4d64-c9d2-b3fc8a812cca"
      },
      "outputs": [
        {
          "output_type": "execute_result",
          "data": {
            "text/plain": [
              "'Odd'"
            ],
            "application/vnd.google.colaboratory.intrinsic+json": {
              "type": "string"
            }
          },
          "metadata": {},
          "execution_count": 8
        }
      ],
      "source": [
        "result = 'Even' if number % 2 == 0 else 'Odd'\n",
        "result"
      ]
    },
    {
      "cell_type": "markdown",
      "metadata": {
        "id": "digital-incentive"
      },
      "source": [
        "---\n",
        "\n",
        "## Part 5: Collections\n",
        "\n",
        "A **collection** is a structure that allows you to store data and operate on it. Some of the possible operations are:\n",
        "- Sorting\n",
        "- Mappings (applying a function to each element)\n",
        "- Filtering\n",
        "- Reduction (aggregate all elements according to some function, for example sum)\n",
        "- Etc... \n",
        "\n",
        "\n",
        "In turn, they can be: \n",
        "\n",
        "1. **Mutables** (lists, sets), which in simple words, allow addition, deletion and modification of their elements. \n",
        "\n",
        "2. **Immutable** (tuples). Their elements cannot be modified,\n",
        "\n",
        "Finally, it is possible to **iterate** (*(Perform a certain action several times)*) on these structures and calculate reduction operations on them (averages, medians, sums, etc ...).\n",
        "\n",
        "For this reason, *iterators are closely related to Python programming for data analysis*."
      ]
    },
    {
      "cell_type": "markdown",
      "metadata": {
        "id": "dynamic-dragon"
      },
      "source": [
        "## Lists\n",
        "\n",
        "We create the lists using the brackets ([]). "
      ]
    },
    {
      "cell_type": "code",
      "execution_count": null,
      "metadata": {
        "ExecuteTime": {
          "end_time": "2021-03-22T19:57:50.566059Z",
          "start_time": "2021-03-22T19:57:50.551060Z"
        },
        "id": "racial-optimum",
        "colab": {
          "base_uri": "https://localhost:8080/"
        },
        "outputId": "e0e3bd40-d02f-46fe-95e4-d3c4a1118d90"
      },
      "outputs": [
        {
          "output_type": "execute_result",
          "data": {
            "text/plain": [
              "[]"
            ]
          },
          "metadata": {},
          "execution_count": 9
        }
      ],
      "source": [
        "# List without elements but initialized.\n",
        "empty_list = []\n",
        "empty_list"
      ]
    },
    {
      "cell_type": "code",
      "execution_count": null,
      "metadata": {
        "scrolled": true,
        "id": "amateur-morocco",
        "colab": {
          "base_uri": "https://localhost:8080/"
        },
        "outputId": "2c407ac7-d2c6-4add-bed8-76d1cc18be0d"
      },
      "outputs": [
        {
          "output_type": "execute_result",
          "data": {
            "text/plain": [
              "[1, 2, 3]"
            ]
          },
          "metadata": {},
          "execution_count": 10
        }
      ],
      "source": [
        "# List with elements\n",
        "list_1 = [1, 2, 3]\n",
        "list_1"
      ]
    },
    {
      "cell_type": "markdown",
      "metadata": {
        "id": "discrete-filter"
      },
      "source": [
        "We can also create a list with different types of data (including other collections)."
      ]
    },
    {
      "cell_type": "code",
      "execution_count": null,
      "metadata": {
        "ExecuteTime": {
          "end_time": "2021-03-22T19:58:06.077336Z",
          "start_time": "2021-03-22T19:58:06.062335Z"
        },
        "id": "collaborative-rescue",
        "colab": {
          "base_uri": "https://localhost:8080/"
        },
        "outputId": "2f87ac24-a6d7-4189-d0cf-7a98cda644b6"
      },
      "outputs": [
        {
          "output_type": "execute_result",
          "data": {
            "text/plain": [
              "[1, 2, 10.0, 'hola', True, [0, 1, 2]]"
            ]
          },
          "metadata": {},
          "execution_count": 11
        }
      ],
      "source": [
        "lista_2 = [1, 2, 10.0, 'hola', True, [0, 1, 2]]\n",
        "lista_2"
      ]
    },
    {
      "cell_type": "markdown",
      "metadata": {
        "id": "8a5f65bf"
      },
      "source": [
        "> Philosophical Question 🤔: Is it good to do this in data science? What consequences can it have?"
      ]
    },
    {
      "cell_type": "markdown",
      "metadata": {
        "id": "compound-civilization"
      },
      "source": [
        "And we can access the number of elements in the list using the `len(variable_list)` function."
      ]
    },
    {
      "cell_type": "code",
      "execution_count": null,
      "metadata": {
        "ExecuteTime": {
          "end_time": "2021-03-23T13:47:49.256063Z",
          "start_time": "2021-03-23T13:47:49.006052Z"
        },
        "id": "adapted-failing",
        "colab": {
          "base_uri": "https://localhost:8080/"
        },
        "outputId": "19d0b7a4-3585-4ec2-f713-9cc59e73c551"
      },
      "outputs": [
        {
          "output_type": "execute_result",
          "data": {
            "text/plain": [
              "6"
            ]
          },
          "metadata": {},
          "execution_count": 12
        }
      ],
      "source": [
        "# Length of the list = Number of elements in the list.\n",
        "len(lista_2)"
      ]
    },
    {
      "cell_type": "markdown",
      "metadata": {
        "id": "orange-operation"
      },
      "source": [
        "### Operaciones con listas"
      ]
    },
    {
      "cell_type": "markdown",
      "metadata": {
        "id": "cleared-mattress"
      },
      "source": [
        "#### Indexed: How to access certain items in the list\n",
        "\n",
        "\n",
        "Each element of a list is associated with an index, which identifies the position of the element within the list.\n",
        "```python\n",
        "lista = ['Grapes 🍇', 'Melon 🍈', 'Watermelon 🍉', 'Apricot 🍊', 'Lemon 🍋']]\n",
        "indices -> [ 0 1 2 3 4 ] \n",
        "\n",
        "```\n",
        "\n",
        "We can access a certain element of the list using the following syntax \n",
        "\n",
        "```python\n",
        "lista[index]\n",
        "```\n",
        "\n"
      ]
    },
    {
      "cell_type": "code",
      "execution_count": null,
      "metadata": {
        "ExecuteTime": {
          "end_time": "2021-03-22T19:59:05.476354Z",
          "start_time": "2021-03-22T19:59:05.461354Z"
        },
        "id": "6b0ef001-0d3c-4489-825f-b4683abd90d8",
        "colab": {
          "base_uri": "https://localhost:8080/"
        },
        "outputId": "74a4745d-a4b9-425c-95ff-aadc3b1c3518"
      },
      "outputs": [
        {
          "output_type": "execute_result",
          "data": {
            "text/plain": [
              "5"
            ]
          },
          "metadata": {},
          "execution_count": 13
        }
      ],
      "source": [
        "lista = ['Grapes 🍇', 'Melon 🍈', 'Watermelon 🍉', 'Apricot 🍊', 'Lemon 🍋']\n",
        "\n",
        "# len(list) allows us to see the number of elements contained in the list.\n",
        "\n",
        "len(lista)"
      ]
    },
    {
      "cell_type": "code",
      "execution_count": null,
      "metadata": {
        "id": "premium-contribution",
        "colab": {
          "base_uri": "https://localhost:8080/",
          "height": 35
        },
        "outputId": "030b6b3e-625d-4939-d261-e71a2815dc56"
      },
      "outputs": [
        {
          "output_type": "execute_result",
          "data": {
            "text/plain": [
              "'Grapes 🍇'"
            ],
            "application/vnd.google.colaboratory.intrinsic+json": {
              "type": "string"
            }
          },
          "metadata": {},
          "execution_count": 14
        }
      ],
      "source": [
        "lista[0]"
      ]
    },
    {
      "cell_type": "code",
      "execution_count": null,
      "metadata": {
        "ExecuteTime": {
          "end_time": "2021-03-22T19:59:13.168055Z",
          "start_time": "2021-03-22T19:59:13.158028Z"
        },
        "id": "younger-harbor",
        "colab": {
          "base_uri": "https://localhost:8080/",
          "height": 35
        },
        "outputId": "89301aa7-b15d-4bf1-d6cd-26bc4611a4a1"
      },
      "outputs": [
        {
          "output_type": "execute_result",
          "data": {
            "text/plain": [
              "'Melon 🍈'"
            ],
            "application/vnd.google.colaboratory.intrinsic+json": {
              "type": "string"
            }
          },
          "metadata": {},
          "execution_count": 15
        }
      ],
      "source": [
        "lista[1]"
      ]
    },
    {
      "cell_type": "markdown",
      "metadata": {
        "id": "a97d1d41-3d68-4f31-b9e5-5807015c6ab3"
      },
      "source": [
        "Negative indexing allows us to start from the last element to the first one.\n"
      ]
    },
    {
      "cell_type": "code",
      "execution_count": null,
      "metadata": {
        "ExecuteTime": {
          "end_time": "2021-03-22T19:59:30.685686Z",
          "start_time": "2021-03-22T19:59:30.673688Z"
        },
        "id": "beautiful-prayer",
        "colab": {
          "base_uri": "https://localhost:8080/",
          "height": 35
        },
        "outputId": "96e665a9-382b-4ed4-de73-fa2cc79e07ab"
      },
      "outputs": [
        {
          "output_type": "execute_result",
          "data": {
            "text/plain": [
              "'Lemon 🍋'"
            ],
            "application/vnd.google.colaboratory.intrinsic+json": {
              "type": "string"
            }
          },
          "metadata": {},
          "execution_count": 16
        }
      ],
      "source": [
        "lista[-1]"
      ]
    },
    {
      "cell_type": "markdown",
      "metadata": {
        "jp-MarkdownHeadingCollapsed": true,
        "tags": [],
        "id": "8c43cf2a-8e1c-4ce1-ab18-ff87641f4b02"
      },
      "source": [
        "Indices start from zero. Then, to remove element i, we have to subtract 1 from it."
      ]
    },
    {
      "cell_type": "code",
      "execution_count": null,
      "metadata": {
        "ExecuteTime": {
          "end_time": "2021-03-22T20:01:32.006964Z",
          "start_time": "2021-03-22T20:01:31.991966Z"
        },
        "id": "competitive-valuation",
        "colab": {
          "base_uri": "https://localhost:8080/",
          "height": 35
        },
        "outputId": "99ca12c4-0128-4089-cceb-f74cb98a11fc"
      },
      "outputs": [
        {
          "output_type": "execute_result",
          "data": {
            "text/plain": [
              "'Lemon 🍋'"
            ],
            "application/vnd.google.colaboratory.intrinsic+json": {
              "type": "string"
            }
          },
          "metadata": {},
          "execution_count": 17
        }
      ],
      "source": [
        "# El código anterior es equivalente a algo similar a esto:\n",
        "lista[len(lista) - 1]"
      ]
    },
    {
      "cell_type": "code",
      "execution_count": null,
      "metadata": {
        "ExecuteTime": {
          "end_time": "2021-03-22T20:01:41.166890Z",
          "start_time": "2021-03-22T20:01:41.153886Z"
        },
        "id": "determined-olympus",
        "colab": {
          "base_uri": "https://localhost:8080/",
          "height": 35
        },
        "outputId": "13e9104a-73c9-4564-ca31-3c8dca514beb"
      },
      "outputs": [
        {
          "output_type": "execute_result",
          "data": {
            "text/plain": [
              "'Lemon 🍋'"
            ],
            "application/vnd.google.colaboratory.intrinsic+json": {
              "type": "string"
            }
          },
          "metadata": {},
          "execution_count": 18
        }
      ],
      "source": [
        "lista[-1]"
      ]
    },
    {
      "cell_type": "markdown",
      "metadata": {
        "id": "widespread-serbia"
      },
      "source": [
        "We can mutate a value in a list using \n",
        "\n",
        "```python\n",
        "lista[index] = new_value\n",
        "```"
      ]
    },
    {
      "cell_type": "code",
      "execution_count": null,
      "metadata": {
        "id": "defined-allergy",
        "colab": {
          "base_uri": "https://localhost:8080/"
        },
        "outputId": "dfdab3ce-43b5-42ce-9339-6b2b0546c29e"
      },
      "outputs": [
        {
          "output_type": "execute_result",
          "data": {
            "text/plain": [
              "['Grapes 🍇', 'Melon 🍈', 'Watermelon 🍉', 'Apricot 🍊', 'Lemon 🍋']"
            ]
          },
          "metadata": {},
          "execution_count": 19
        }
      ],
      "source": [
        "lista"
      ]
    },
    {
      "cell_type": "code",
      "execution_count": null,
      "metadata": {
        "scrolled": true,
        "id": "threatened-channel",
        "colab": {
          "base_uri": "https://localhost:8080/"
        },
        "outputId": "10d917c0-bb53-4999-ed48-ae6976bea395"
      },
      "outputs": [
        {
          "output_type": "execute_result",
          "data": {
            "text/plain": [
              "['Apple', 'Melon 🍈', 'Watermelon 🍉', 'Apricot 🍊', 'Lemon 🍋']"
            ]
          },
          "metadata": {},
          "execution_count": 20
        }
      ],
      "source": [
        "lista[0] = 'Apple' # Modify the element at index 0 to '🍏 '.\n",
        "lista"
      ]
    },
    {
      "cell_type": "markdown",
      "metadata": {
        "id": "tracked-quality"
      },
      "source": [
        "Note: We can simulate matrices through lists of lists."
      ]
    },
    {
      "cell_type": "code",
      "execution_count": null,
      "metadata": {
        "ExecuteTime": {
          "end_time": "2021-03-22T20:02:01.976235Z",
          "start_time": "2021-03-22T20:02:01.959238Z"
        },
        "id": "driven-vacuum",
        "colab": {
          "base_uri": "https://localhost:8080/"
        },
        "outputId": "daed8c8d-2e96-49ee-ce56-1bbc77fd7356"
      },
      "outputs": [
        {
          "output_type": "execute_result",
          "data": {
            "text/plain": [
              "[7, 8, 9]"
            ]
          },
          "metadata": {},
          "execution_count": 21
        }
      ],
      "source": [
        "matrix = [\n",
        "    [1, 2, 3], \n",
        "    [4, 5, 6], \n",
        "    [7, 8, 9]\n",
        "]\n",
        "\n",
        "matrix[2]  # i = Third row"
      ]
    },
    {
      "cell_type": "markdown",
      "metadata": {
        "id": "e0a06c34"
      },
      "source": [
        "Since we have a list with lists, the first index brings us a complete list, and with a second index we can extract a single value from the array."
      ]
    },
    {
      "cell_type": "code",
      "execution_count": null,
      "metadata": {
        "ExecuteTime": {
          "end_time": "2021-03-22T20:02:26.495024Z",
          "start_time": "2021-03-22T20:02:26.487026Z"
        },
        "scrolled": true,
        "id": "english-missile",
        "colab": {
          "base_uri": "https://localhost:8080/"
        },
        "outputId": "90c98649-f5bf-43fb-adc5-1d1bc85dc9d6"
      },
      "outputs": [
        {
          "output_type": "execute_result",
          "data": {
            "text/plain": [
              "7"
            ]
          },
          "metadata": {},
          "execution_count": 22
        }
      ],
      "source": [
        "# To access an element of the matrix, we can use a double indexing.\n",
        "\n",
        "matrix[2][0] # i = Third row, j = first column"
      ]
    },
    {
      "cell_type": "markdown",
      "metadata": {
        "id": "respected-principal"
      },
      "source": [
        "#### Slice: Select a sublist from certain indexes.\n",
        "\n",
        "Note that this operation returns a new list with references to the data of the original list (it does not copy them)."
      ]
    },
    {
      "cell_type": "code",
      "execution_count": null,
      "metadata": {
        "ExecuteTime": {
          "end_time": "2021-03-22T20:02:49.919181Z",
          "start_time": "2021-03-22T20:02:49.901179Z"
        },
        "id": "different-uzbekistan",
        "colab": {
          "base_uri": "https://localhost:8080/"
        },
        "outputId": "49d38e48-f440-44a2-e196-c98f5786c8f1"
      },
      "outputs": [
        {
          "output_type": "execute_result",
          "data": {
            "text/plain": [
              "['Grapes 🍇', 'Melon 🍈', 'Watermelon 🍉', 'Apricot 🍊', 'Lemon 🍋']"
            ]
          },
          "metadata": {},
          "execution_count": 23
        }
      ],
      "source": [
        "lista_3 = ['Grapes 🍇', 'Melon 🍈', 'Watermelon 🍉', 'Apricot 🍊', 'Lemon 🍋']\n",
        "\n",
        "lista_3[:]"
      ]
    },
    {
      "cell_type": "markdown",
      "metadata": {
        "id": "mighty-first"
      },
      "source": [
        "#### Append: Adds an element to the end of the list.\n",
        "\n",
        "This operation mutates the original list"
      ]
    },
    {
      "cell_type": "code",
      "execution_count": null,
      "metadata": {
        "ExecuteTime": {
          "end_time": "2021-03-22T20:06:11.031940Z",
          "start_time": "2021-03-22T20:06:11.021910Z"
        },
        "id": "banner-cowboy",
        "colab": {
          "base_uri": "https://localhost:8080/"
        },
        "outputId": "3f799ed6-e26f-4d7d-ff16-5d0e91fbce03"
      },
      "outputs": [
        {
          "output_type": "execute_result",
          "data": {
            "text/plain": [
              "['Grapes 🍇', 'Melon 🍈', 'Watermelon 🍉', 'Apricot 🍊', 'Lemon 🍋', 'Apple 🍎']"
            ]
          },
          "metadata": {},
          "execution_count": 24
        }
      ],
      "source": [
        "lista = ['Grapes 🍇', 'Melon 🍈', 'Watermelon 🍉', 'Apricot 🍊', 'Lemon 🍋']\n",
        "\n",
        "lista.append('Apple 🍎')\n",
        "lista"
      ]
    },
    {
      "cell_type": "markdown",
      "metadata": {
        "ExecuteTime": {
          "end_time": "2021-03-22T17:22:38.838554Z",
          "start_time": "2021-03-22T17:22:38.823544Z"
        },
        "id": "functioning-header"
      },
      "source": [
        "> **Question**: What happens if we run it again?"
      ]
    },
    {
      "cell_type": "code",
      "execution_count": null,
      "metadata": {
        "ExecuteTime": {
          "end_time": "2021-03-22T20:06:24.586145Z",
          "start_time": "2021-03-22T20:06:24.575142Z"
        },
        "id": "amino-commodity",
        "colab": {
          "base_uri": "https://localhost:8080/"
        },
        "outputId": "09e0cfdc-2f97-40bd-bee6-3f693802fc44"
      },
      "outputs": [
        {
          "output_type": "execute_result",
          "data": {
            "text/plain": [
              "['Grapes 🍇',\n",
              " 'Melon 🍈',\n",
              " 'Watermelon 🍉',\n",
              " 'Apricot 🍊',\n",
              " 'Lemon 🍋',\n",
              " 'Apple 🍎',\n",
              " 'Apple 🍎']"
            ]
          },
          "metadata": {},
          "execution_count": 25
        }
      ],
      "source": [
        "lista.append('Apple 🍎')\n",
        "lista"
      ]
    },
    {
      "cell_type": "code",
      "execution_count": null,
      "metadata": {
        "id": "1fd560f9-dfe4-4378-ab26-64fa2f1e1297",
        "colab": {
          "base_uri": "https://localhost:8080/"
        },
        "outputId": "1dd25854-fca1-4ba8-c195-73ce679ed176"
      },
      "outputs": [
        {
          "output_type": "execute_result",
          "data": {
            "text/plain": [
              "['Grapes 🍇',\n",
              " 'Melon 🍈',\n",
              " 'Watermelon 🍉',\n",
              " 'Apricot 🍊',\n",
              " 'Lemon 🍋',\n",
              " 'Apple 🍎',\n",
              " 'Apple 🍎']"
            ]
          },
          "metadata": {},
          "execution_count": 26
        }
      ],
      "source": [
        "lista"
      ]
    },
    {
      "cell_type": "markdown",
      "metadata": {
        "ExecuteTime": {
          "end_time": "2021-03-22T17:25:28.562746Z",
          "start_time": "2021-03-22T17:25:28.552750Z"
        },
        "id": "proof-vaccine"
      },
      "source": [
        "#### Concatenation of lists\n",
        "\n",
        "Lists can also be concatenated. These lists will generate a **new list** instead of mutating the source list."
      ]
    },
    {
      "cell_type": "code",
      "execution_count": null,
      "metadata": {
        "ExecuteTime": {
          "end_time": "2021-03-23T13:48:20.670219Z",
          "start_time": "2021-03-23T13:48:20.651210Z"
        },
        "id": "copyrighted-schema",
        "colab": {
          "base_uri": "https://localhost:8080/"
        },
        "outputId": "2ea0e829-d784-434a-86f3-590593a7c9c9"
      },
      "outputs": [
        {
          "output_type": "execute_result",
          "data": {
            "text/plain": [
              "['Grapes 🍇',\n",
              " 'Melon 🍈',\n",
              " 'Watermelon 🍉',\n",
              " 'Apricot 🍊',\n",
              " 'Lemon 🍋',\n",
              " 'Apple 🍎',\n",
              " 'Banana 🍌',\n",
              " 'Pineapple 🍍']"
            ]
          },
          "metadata": {},
          "execution_count": 27
        }
      ],
      "source": [
        "# We clean the list before the original one we had.\n",
        "lista = ['Grapes 🍇', 'Melon 🍈', 'Watermelon 🍉', 'Apricot 🍊', 'Lemon 🍋']\n",
        "\n",
        "# Concatenate\n",
        "new_list = lista + ['Apple 🍎', 'Banana 🍌', 'Pineapple 🍍']\n",
        "new_list"
      ]
    },
    {
      "cell_type": "code",
      "execution_count": null,
      "metadata": {
        "id": "6ae613d3-dee6-45b3-9407-a056cc7d7976",
        "colab": {
          "base_uri": "https://localhost:8080/"
        },
        "outputId": "c962cf34-812d-4c53-91de-f049daf749cd"
      },
      "outputs": [
        {
          "output_type": "execute_result",
          "data": {
            "text/plain": [
              "['Pineapple 🍍', 'Grapes 🍇', 'Melon 🍈', 'Watermelon 🍉', 'Apricot 🍊', 'Lemon 🍋']"
            ]
          },
          "metadata": {},
          "execution_count": 28
        }
      ],
      "source": [
        "['Pineapple 🍍'] + lista"
      ]
    },
    {
      "cell_type": "markdown",
      "metadata": {
        "id": "identified-terrorist"
      },
      "source": [
        "#### Pop: Removes from the list the element indicated by a certain index.\n",
        "\n",
        "Remark: If it does not find an element at the specified index, it raises an exception and terminates the execution of the program."
      ]
    },
    {
      "cell_type": "code",
      "execution_count": null,
      "metadata": {
        "ExecuteTime": {
          "end_time": "2021-03-23T13:48:26.935898Z",
          "start_time": "2021-03-23T13:48:26.915897Z"
        },
        "id": "threaded-future",
        "colab": {
          "base_uri": "https://localhost:8080/",
          "height": 35
        },
        "outputId": "1fe9cf8c-cfe7-43bd-b805-6147f3b7e568"
      },
      "outputs": [
        {
          "output_type": "execute_result",
          "data": {
            "text/plain": [
              "'Melon 🍈'"
            ],
            "application/vnd.google.colaboratory.intrinsic+json": {
              "type": "string"
            }
          },
          "metadata": {},
          "execution_count": 29
        }
      ],
      "source": [
        "lista.pop(1)"
      ]
    },
    {
      "cell_type": "code",
      "execution_count": null,
      "metadata": {
        "ExecuteTime": {
          "end_time": "2021-03-23T13:48:27.708582Z",
          "start_time": "2021-03-23T13:48:27.698582Z"
        },
        "id": "monetary-theater",
        "colab": {
          "base_uri": "https://localhost:8080/",
          "height": 166
        },
        "outputId": "b9cfc6fe-8493-4165-fff0-714618da850f"
      },
      "outputs": [
        {
          "output_type": "error",
          "ename": "IndexError",
          "evalue": "ignored",
          "traceback": [
            "\u001b[0;31m---------------------------------------------------------------------------\u001b[0m",
            "\u001b[0;31mIndexError\u001b[0m                                Traceback (most recent call last)",
            "\u001b[0;32m<ipython-input-30-a6de0e913f77>\u001b[0m in \u001b[0;36m<module>\u001b[0;34m\u001b[0m\n\u001b[0;32m----> 1\u001b[0;31m \u001b[0mlista\u001b[0m\u001b[0;34m.\u001b[0m\u001b[0mpop\u001b[0m\u001b[0;34m(\u001b[0m\u001b[0;36m100\u001b[0m\u001b[0;34m)\u001b[0m\u001b[0;34m\u001b[0m\u001b[0;34m\u001b[0m\u001b[0m\n\u001b[0m",
            "\u001b[0;31mIndexError\u001b[0m: pop index out of range"
          ]
        }
      ],
      "source": [
        "lista.pop(100)"
      ]
    },
    {
      "cell_type": "markdown",
      "metadata": {
        "ExecuteTime": {
          "end_time": "2021-03-22T18:06:52.967997Z",
          "start_time": "2021-03-22T18:06:52.953004Z"
        },
        "id": "behavioral-master"
      },
      "source": [
        "#### Sorting\n",
        "\n",
        "Note: Sorts according to how >= is defined for the data."
      ]
    },
    {
      "cell_type": "code",
      "execution_count": null,
      "metadata": {
        "ExecuteTime": {
          "end_time": "2021-03-23T13:48:32.069063Z",
          "start_time": "2021-03-23T13:48:32.052063Z"
        },
        "scrolled": true,
        "id": "persistent-stretch",
        "colab": {
          "base_uri": "https://localhost:8080/"
        },
        "outputId": "1e216587-6cfd-4331-aa28-22e1bd775dc0"
      },
      "outputs": [
        {
          "output_type": "execute_result",
          "data": {
            "text/plain": [
              "[-8, -3, 0, 0, 1, 2, 3, 10]"
            ]
          },
          "metadata": {},
          "execution_count": 31
        }
      ],
      "source": [
        "# Orden numérico.\n",
        "unsorted_list = [10, 3, 2, -8, 1, 0, 0, -3]\n",
        "unsorted_list.sort()\n",
        "unsorted_list"
      ]
    },
    {
      "cell_type": "markdown",
      "metadata": {
        "id": "cf31b50d-fa59-4b87-979f-ccd6924a2f97"
      },
      "source": [
        "The lexicographic order is also used for string sorting"
      ]
    },
    {
      "cell_type": "code",
      "execution_count": null,
      "metadata": {
        "ExecuteTime": {
          "end_time": "2021-03-23T13:48:32.845205Z",
          "start_time": "2021-03-23T13:48:32.829250Z"
        },
        "id": "aggressive-production",
        "colab": {
          "base_uri": "https://localhost:8080/"
        },
        "outputId": "f22ebf08-cea7-4013-a8d6-da8369afe9cd"
      },
      "outputs": [
        {
          "output_type": "execute_result",
          "data": {
            "text/plain": [
              "['Viennese 🍖', 'avocado 🥑', 'bread 🥖', 'ketchup 🍶', 'mayo 🍶', 'tomato 🍅']"
            ]
          },
          "metadata": {},
          "execution_count": 32
        }
      ],
      "source": [
        "# Using lists with strings is done with lexicographic order.\n",
        "unsorted_list_2 = ['Viennese 🍖', 'bread 🥖', 'tomato 🍅', 'avocado 🥑', 'mayo 🍶', 'ketchup 🍶']\n",
        "unsorted_list_2.sort()\n",
        "unsorted_list_2"
      ]
    },
    {
      "cell_type": "markdown",
      "metadata": {
        "id": "metropolitan-nashville"
      },
      "source": [
        "#### Index: Searches for the delivered item in the list and returns its index."
      ]
    },
    {
      "cell_type": "code",
      "execution_count": null,
      "metadata": {
        "ExecuteTime": {
          "end_time": "2021-03-23T13:49:32.322633Z",
          "start_time": "2021-03-23T13:49:32.302594Z"
        },
        "id": "modular-maximum",
        "colab": {
          "base_uri": "https://localhost:8080/"
        },
        "outputId": "23c928a4-72fd-43c3-a9a7-00832f00b753"
      },
      "outputs": [
        {
          "output_type": "execute_result",
          "data": {
            "text/plain": [
              "['Grapes 🍇', 'Melon 🍈', 'Watermelon 🍉', 'Apricot 🍊', 'Lemon 🍋']"
            ]
          },
          "metadata": {},
          "execution_count": 33
        }
      ],
      "source": [
        "# We remember that there was in list\n",
        "lista = ['Grapes 🍇', 'Melon 🍈', 'Watermelon 🍉', 'Apricot 🍊', 'Lemon 🍋']\n",
        "lista"
      ]
    },
    {
      "cell_type": "code",
      "execution_count": null,
      "metadata": {
        "ExecuteTime": {
          "end_time": "2021-03-23T13:49:33.304645Z",
          "start_time": "2021-03-23T13:49:33.291629Z"
        },
        "scrolled": true,
        "id": "allied-coral",
        "colab": {
          "base_uri": "https://localhost:8080/"
        },
        "outputId": "63735aea-1b6e-4e18-a804-5de4e22cf737"
      },
      "outputs": [
        {
          "output_type": "execute_result",
          "data": {
            "text/plain": [
              "2"
            ]
          },
          "metadata": {},
          "execution_count": 34
        }
      ],
      "source": [
        "lista.index('Watermelon 🍉')"
      ]
    },
    {
      "cell_type": "code",
      "execution_count": null,
      "metadata": {
        "ExecuteTime": {
          "end_time": "2021-03-23T13:49:36.762155Z",
          "start_time": "2021-03-23T13:49:36.746124Z"
        },
        "id": "amended-congress",
        "colab": {
          "base_uri": "https://localhost:8080/",
          "height": 166
        },
        "outputId": "f64a5480-8495-4910-9637-2e3522f75b04"
      },
      "outputs": [
        {
          "output_type": "error",
          "ename": "ValueError",
          "evalue": "ignored",
          "traceback": [
            "\u001b[0;31m---------------------------------------------------------------------------\u001b[0m",
            "\u001b[0;31mValueError\u001b[0m                                Traceback (most recent call last)",
            "\u001b[0;32m<ipython-input-35-702b29ebf790>\u001b[0m in \u001b[0;36m<module>\u001b[0;34m\u001b[0m\n\u001b[0;32m----> 1\u001b[0;31m \u001b[0mlista\u001b[0m\u001b[0;34m.\u001b[0m\u001b[0mindex\u001b[0m\u001b[0;34m(\u001b[0m\u001b[0;34m'Blueberry 🫐'\u001b[0m\u001b[0;34m)\u001b[0m\u001b[0;34m\u001b[0m\u001b[0;34m\u001b[0m\u001b[0m\n\u001b[0m",
            "\u001b[0;31mValueError\u001b[0m: 'Blueberry \\U0001fad0' is not in list"
          ]
        }
      ],
      "source": [
        "lista.index('Blueberry 🫐')"
      ]
    },
    {
      "cell_type": "markdown",
      "metadata": {
        "id": "graduate-alignment"
      },
      "source": [
        "You can find a complete guide here of all the methods (functions) you can run with a list:\n",
        "    \n",
        "https://www.programiz.com/python-programming/list"
      ]
    },
    {
      "cell_type": "markdown",
      "metadata": {
        "ExecuteTime": {
          "end_time": "2021-03-22T18:01:08.375069Z",
          "start_time": "2021-03-22T18:01:08.362071Z"
        },
        "tags": [],
        "id": "advanced-administrator"
      },
      "source": [
        "### Parentheses: Strings.\n",
        "\n",
        "Strings are a special type of list that is not mutable, but can be indexed."
      ]
    },
    {
      "cell_type": "code",
      "execution_count": null,
      "metadata": {
        "id": "c51d0fa6-9587-4124-977e-cbaa37af6bb9",
        "colab": {
          "base_uri": "https://localhost:8080/"
        },
        "outputId": "7b740e45-45de-4867-b18a-b8401f63a116"
      },
      "outputs": [
        {
          "output_type": "execute_result",
          "data": {
            "text/plain": [
              "['j', 'u', 'a', 'n']"
            ]
          },
          "metadata": {},
          "execution_count": 37
        }
      ],
      "source": [
        "['j', 'u', 'a', 'n']"
      ]
    },
    {
      "cell_type": "code",
      "execution_count": null,
      "metadata": {
        "ExecuteTime": {
          "end_time": "2021-03-22T20:03:15.091952Z",
          "start_time": "2021-03-22T20:03:15.076952Z"
        },
        "id": "derived-identifier",
        "colab": {
          "base_uri": "https://localhost:8080/",
          "height": 35
        },
        "outputId": "06e09918-80b2-43c5-f8ef-e880b16ca476"
      },
      "outputs": [
        {
          "output_type": "execute_result",
          "data": {
            "text/plain": [
              "'an'"
            ],
            "application/vnd.google.colaboratory.intrinsic+json": {
              "type": "string"
            }
          },
          "metadata": {},
          "execution_count": 38
        }
      ],
      "source": [
        "name = 'Juan'\n",
        "name[2:4]"
      ]
    },
    {
      "cell_type": "markdown",
      "metadata": {
        "id": "final-nicaragua"
      },
      "source": [
        "They can also be converted to list, and lists to string."
      ]
    },
    {
      "cell_type": "code",
      "execution_count": null,
      "metadata": {
        "ExecuteTime": {
          "end_time": "2021-03-22T20:03:39.934091Z",
          "start_time": "2021-03-22T20:03:39.916065Z"
        },
        "id": "olive-meeting",
        "colab": {
          "base_uri": "https://localhost:8080/"
        },
        "outputId": "4be556fe-0e6c-4566-9ddf-900d6a3838e8"
      },
      "outputs": [
        {
          "output_type": "execute_result",
          "data": {
            "text/plain": [
              "['J', 'u', 'a', 'n']"
            ]
          },
          "metadata": {},
          "execution_count": 39
        }
      ],
      "source": [
        "list(name)"
      ]
    },
    {
      "cell_type": "code",
      "execution_count": null,
      "metadata": {
        "ExecuteTime": {
          "end_time": "2021-03-22T20:03:54.221041Z",
          "start_time": "2021-03-22T20:03:54.207054Z"
        },
        "id": "immune-endorsement",
        "colab": {
          "base_uri": "https://localhost:8080/",
          "height": 35
        },
        "outputId": "8f76a373-7827-4b04-e6de-15a337daf71f"
      },
      "outputs": [
        {
          "output_type": "execute_result",
          "data": {
            "text/plain": [
              "\"['J', 'u', 'a', 'n']\""
            ],
            "application/vnd.google.colaboratory.intrinsic+json": {
              "type": "string"
            }
          },
          "metadata": {},
          "execution_count": 40
        }
      ],
      "source": [
        "str(['J', 'u', 'a', 'n'])"
      ]
    },
    {
      "cell_type": "code",
      "execution_count": null,
      "metadata": {
        "id": "d46b8d7b-185e-46c0-8a40-557815d7790e",
        "colab": {
          "base_uri": "https://localhost:8080/",
          "height": 35
        },
        "outputId": "537dc98d-235e-431f-c956-48d981c0441d"
      },
      "outputs": [
        {
          "output_type": "execute_result",
          "data": {
            "text/plain": [
              "'Juan'"
            ],
            "application/vnd.google.colaboratory.intrinsic+json": {
              "type": "string"
            }
          },
          "metadata": {},
          "execution_count": 41
        }
      ],
      "source": [
        "''.join(['J', 'u', 'a', 'n'])"
      ]
    },
    {
      "cell_type": "markdown",
      "metadata": {
        "id": "organic-strap"
      },
      "source": [
        "And we can separate/join them according to some character"
      ]
    },
    {
      "cell_type": "code",
      "execution_count": null,
      "metadata": {
        "ExecuteTime": {
          "end_time": "2021-03-22T20:04:50.394800Z",
          "start_time": "2021-03-22T20:04:50.386782Z"
        },
        "id": "australian-summer",
        "colab": {
          "base_uri": "https://localhost:8080/"
        },
        "outputId": "da5080c8-f6fe-4ef8-aa95-b45c5d699e33"
      },
      "outputs": [
        {
          "output_type": "execute_result",
          "data": {
            "text/plain": [
              "['Juan', 'eats', 'vegetables']"
            ]
          },
          "metadata": {},
          "execution_count": 42
        }
      ],
      "source": [
        "'Juan eats vegetables'.split(' ')"
      ]
    },
    {
      "cell_type": "code",
      "execution_count": null,
      "metadata": {
        "ExecuteTime": {
          "end_time": "2021-03-22T20:05:39.326724Z",
          "start_time": "2021-03-22T20:05:39.315728Z"
        },
        "id": "sonic-meaning",
        "colab": {
          "base_uri": "https://localhost:8080/",
          "height": 35
        },
        "outputId": "d2d16c70-1734-4552-af08-013fc2992cb8"
      },
      "outputs": [
        {
          "output_type": "execute_result",
          "data": {
            "text/plain": [
              "'Juan-eats-vegetables'"
            ],
            "application/vnd.google.colaboratory.intrinsic+json": {
              "type": "string"
            }
          },
          "metadata": {},
          "execution_count": 43
        }
      ],
      "source": [
        "# The string you put before the join will be the one that joins the strings of the array. \n",
        "# In this case, they will be joined with '-'.\n",
        "'-'.join(['Juan', 'eats', 'vegetables'])"
      ]
    },
    {
      "cell_type": "markdown",
      "metadata": {
        "ExecuteTime": {
          "end_time": "2021-03-22T18:13:21.155383Z",
          "start_time": "2021-03-22T18:13:21.138410Z"
        },
        "id": "experimental-store"
      },
      "source": [
        "## Tuples\n",
        "\n",
        "Tuples follow the same principle as lists in terms of storing data, however, unlike lists, tuples are **inmutable**. An advantage over lists is that **they are more computationally efficient and lighter weight**. "
      ]
    },
    {
      "cell_type": "code",
      "execution_count": null,
      "metadata": {
        "ExecuteTime": {
          "end_time": "2021-03-23T13:49:58.837087Z",
          "start_time": "2021-03-23T13:49:58.819087Z"
        },
        "id": "incorporated-coffee",
        "colab": {
          "base_uri": "https://localhost:8080/"
        },
        "outputId": "364c5853-df50-467f-8057-e71bf1f490ba"
      },
      "outputs": [
        {
          "output_type": "execute_result",
          "data": {
            "text/plain": [
              "(1, 2, 3)"
            ]
          },
          "metadata": {},
          "execution_count": 44
        }
      ],
      "source": [
        "# Parentheses are used to create them.\n",
        "\n",
        "tupla = (1, 2, 3)\n",
        "tupla"
      ]
    },
    {
      "cell_type": "markdown",
      "metadata": {
        "id": "textile-table"
      },
      "source": [
        "Like lists, their elements can be accessed through indexing (starting from 0!)."
      ]
    },
    {
      "cell_type": "code",
      "execution_count": null,
      "metadata": {
        "ExecuteTime": {
          "end_time": "2021-03-23T13:50:00.583597Z",
          "start_time": "2021-03-23T13:50:00.564640Z"
        },
        "id": "unlimited-candidate",
        "colab": {
          "base_uri": "https://localhost:8080/"
        },
        "outputId": "f4af31c8-ffd5-4ca8-9a42-9bbad10ba94c"
      },
      "outputs": [
        {
          "output_type": "execute_result",
          "data": {
            "text/plain": [
              "1"
            ]
          },
          "metadata": {},
          "execution_count": 45
        }
      ],
      "source": [
        "tupla[0]"
      ]
    },
    {
      "cell_type": "code",
      "execution_count": null,
      "metadata": {
        "ExecuteTime": {
          "end_time": "2021-03-23T13:50:01.245933Z",
          "start_time": "2021-03-23T13:50:01.227906Z"
        },
        "id": "decent-partition",
        "colab": {
          "base_uri": "https://localhost:8080/"
        },
        "outputId": "a684d75d-80d5-4749-af58-39629aa232c2"
      },
      "outputs": [
        {
          "output_type": "execute_result",
          "data": {
            "text/plain": [
              "3"
            ]
          },
          "metadata": {},
          "execution_count": 46
        }
      ],
      "source": [
        "tupla[-1]"
      ]
    },
    {
      "cell_type": "code",
      "execution_count": null,
      "metadata": {
        "ExecuteTime": {
          "end_time": "2021-03-23T13:50:01.811887Z",
          "start_time": "2021-03-23T13:50:01.803886Z"
        },
        "id": "standard-birmingham",
        "colab": {
          "base_uri": "https://localhost:8080/"
        },
        "outputId": "1c75181c-a892-4a76-fd36-83213fdfa1e0"
      },
      "outputs": [
        {
          "output_type": "execute_result",
          "data": {
            "text/plain": [
              "(1, 2)"
            ]
          },
          "metadata": {},
          "execution_count": 47
        }
      ],
      "source": [
        "tupla[0:2]"
      ]
    },
    {
      "cell_type": "markdown",
      "metadata": {
        "id": "medium-mining"
      },
      "source": [
        "> **Question**: What happens if we try to change a value in a tuple?"
      ]
    },
    {
      "cell_type": "code",
      "execution_count": null,
      "metadata": {
        "ExecuteTime": {
          "end_time": "2021-03-22T20:10:48.920390Z",
          "start_time": "2021-03-22T20:10:48.909387Z"
        },
        "id": "primary-doctrine",
        "colab": {
          "base_uri": "https://localhost:8080/",
          "height": 166
        },
        "outputId": "69c12e6b-fe91-4bfc-aaba-51c8fb55f495"
      },
      "outputs": [
        {
          "output_type": "error",
          "ename": "TypeError",
          "evalue": "ignored",
          "traceback": [
            "\u001b[0;31m---------------------------------------------------------------------------\u001b[0m",
            "\u001b[0;31mTypeError\u001b[0m                                 Traceback (most recent call last)",
            "\u001b[0;32m<ipython-input-48-01b44280c6e0>\u001b[0m in \u001b[0;36m<module>\u001b[0;34m\u001b[0m\n\u001b[0;32m----> 1\u001b[0;31m \u001b[0mtupla\u001b[0m\u001b[0;34m[\u001b[0m\u001b[0;36m0\u001b[0m\u001b[0;34m]\u001b[0m \u001b[0;34m=\u001b[0m \u001b[0;36m1\u001b[0m\u001b[0;34m\u001b[0m\u001b[0;34m\u001b[0m\u001b[0m\n\u001b[0m",
            "\u001b[0;31mTypeError\u001b[0m: 'tuple' object does not support item assignment"
          ]
        }
      ],
      "source": [
        "tupla[0] = 1"
      ]
    },
    {
      "cell_type": "markdown",
      "metadata": {
        "id": "1cf52fde-7625-410e-b072-e53ef6c0ac03"
      },
      "source": [
        "> **Question**: How could I add new elements to a tuple?"
      ]
    },
    {
      "cell_type": "code",
      "execution_count": null,
      "metadata": {
        "id": "03544ab5-eba6-4337-85fe-52ebecac9376",
        "colab": {
          "base_uri": "https://localhost:8080/"
        },
        "outputId": "53258960-9e0d-4b78-fa3c-716ddb63b11c"
      },
      "outputs": [
        {
          "output_type": "execute_result",
          "data": {
            "text/plain": [
              "(1, 2, 3, 4)"
            ]
          },
          "metadata": {},
          "execution_count": 49
        }
      ],
      "source": [
        "nueva_tupla = (1, 2, 3, 4)\n",
        "nueva_tupla"
      ]
    },
    {
      "cell_type": "markdown",
      "metadata": {
        "id": "verbal-pocket"
      },
      "source": [
        "#### Unpacking\n",
        "\n",
        "Tuples and lists share access to their elements through the syntax ```[*]```. Both tuples and lists can be \"unpacked\", the *pythonic* term is **unpacking**. Example:"
      ]
    },
    {
      "cell_type": "code",
      "execution_count": null,
      "metadata": {
        "ExecuteTime": {
          "end_time": "2021-03-23T13:50:04.356386Z",
          "start_time": "2021-03-23T13:50:04.348385Z"
        },
        "id": "pregnant-stamp"
      },
      "outputs": [],
      "source": [
        "# Tuples Unpacking\n",
        "a, b, c, d = ('🚗', '🚌', '🚒', '🚕')"
      ]
    },
    {
      "cell_type": "code",
      "execution_count": null,
      "metadata": {
        "ExecuteTime": {
          "end_time": "2021-03-23T13:50:04.949324Z",
          "start_time": "2021-03-23T13:50:04.931285Z"
        },
        "id": "anticipated-seeking",
        "colab": {
          "base_uri": "https://localhost:8080/",
          "height": 35
        },
        "outputId": "2fcfa796-8f7c-48b5-bf8d-e03b735ce760"
      },
      "outputs": [
        {
          "output_type": "execute_result",
          "data": {
            "text/plain": [
              "'🚗'"
            ],
            "application/vnd.google.colaboratory.intrinsic+json": {
              "type": "string"
            }
          },
          "metadata": {},
          "execution_count": 51
        }
      ],
      "source": [
        "a"
      ]
    },
    {
      "cell_type": "code",
      "execution_count": null,
      "metadata": {
        "ExecuteTime": {
          "end_time": "2021-03-23T13:50:05.473217Z",
          "start_time": "2021-03-23T13:50:05.458188Z"
        },
        "scrolled": true,
        "id": "charitable-hotel",
        "colab": {
          "base_uri": "https://localhost:8080/",
          "height": 35
        },
        "outputId": "e83977a3-8d14-4ad0-b1e4-fd0dd4779e85"
      },
      "outputs": [
        {
          "output_type": "execute_result",
          "data": {
            "text/plain": [
              "'🚌'"
            ],
            "application/vnd.google.colaboratory.intrinsic+json": {
              "type": "string"
            }
          },
          "metadata": {},
          "execution_count": 52
        }
      ],
      "source": [
        "b"
      ]
    },
    {
      "cell_type": "code",
      "execution_count": null,
      "metadata": {
        "id": "397d107c-382a-43a7-be7c-bce1f9ef0416",
        "colab": {
          "base_uri": "https://localhost:8080/",
          "height": 35
        },
        "outputId": "0453750f-1cc7-4f87-ea40-7963b2deb515"
      },
      "outputs": [
        {
          "output_type": "execute_result",
          "data": {
            "text/plain": [
              "'🚒'"
            ],
            "application/vnd.google.colaboratory.intrinsic+json": {
              "type": "string"
            }
          },
          "metadata": {},
          "execution_count": 53
        }
      ],
      "source": [
        "c"
      ]
    },
    {
      "cell_type": "code",
      "execution_count": null,
      "metadata": {
        "id": "98cdfbc7-4273-44ed-95c7-16b3e4831530",
        "colab": {
          "base_uri": "https://localhost:8080/",
          "height": 35
        },
        "outputId": "345153fa-1ca9-4fce-9687-0ee5290fdfb4"
      },
      "outputs": [
        {
          "output_type": "execute_result",
          "data": {
            "text/plain": [
              "'🚕'"
            ],
            "application/vnd.google.colaboratory.intrinsic+json": {
              "type": "string"
            }
          },
          "metadata": {},
          "execution_count": 54
        }
      ],
      "source": [
        "d"
      ]
    },
    {
      "cell_type": "markdown",
      "metadata": {
        "id": "brilliant-hungarian"
      },
      "source": [
        "## Dictionaries\n",
        "\n",
        "A dictionary corresponds to the Pythonic implementation of a \"key-value\" type application.\n",
        "It allows us to create structures that allow us to represent data in a more natural way.\n",
        "\n",
        "**Example**:"
      ]
    },
    {
      "cell_type": "code",
      "execution_count": null,
      "metadata": {
        "ExecuteTime": {
          "end_time": "2021-03-23T13:50:12.556210Z",
          "start_time": "2021-03-23T13:50:12.547228Z"
        },
        "id": "deadly-lloyd",
        "colab": {
          "base_uri": "https://localhost:8080/"
        },
        "outputId": "0c707e10-531f-49cf-b06c-320b3d082485"
      },
      "outputs": [
        {
          "output_type": "execute_result",
          "data": {
            "text/plain": [
              "{'name': 'Juan', 'age': 29, 'hobby': 'guitar'}"
            ]
          },
          "metadata": {},
          "execution_count": 55
        }
      ],
      "source": [
        "d = {\n",
        "    'name': 'Juan', \n",
        "    'age': 29,\n",
        "    'hobby': 'guitar',\n",
        "}\n",
        "d"
      ]
    },
    {
      "cell_type": "markdown",
      "metadata": {
        "id": "centered-cursor"
      },
      "source": [
        "The data in a dictionary can be accessed using the syntax ``dictionary[key]``."
      ]
    },
    {
      "cell_type": "code",
      "execution_count": null,
      "metadata": {
        "ExecuteTime": {
          "end_time": "2021-03-23T13:50:14.083270Z",
          "start_time": "2021-03-23T13:50:14.064275Z"
        },
        "id": "tropical-trinity",
        "colab": {
          "base_uri": "https://localhost:8080/",
          "height": 35
        },
        "outputId": "d2709781-aa56-4030-d15e-fc7340e4b310"
      },
      "outputs": [
        {
          "output_type": "execute_result",
          "data": {
            "text/plain": [
              "'Juan'"
            ],
            "application/vnd.google.colaboratory.intrinsic+json": {
              "type": "string"
            }
          },
          "metadata": {},
          "execution_count": 56
        }
      ],
      "source": [
        "d['name']"
      ]
    },
    {
      "cell_type": "markdown",
      "metadata": {
        "id": "successful-buffer"
      },
      "source": [
        "> **Question**: What happens if we try to access a key that does not exist in the dictionary?"
      ]
    },
    {
      "cell_type": "code",
      "execution_count": null,
      "metadata": {
        "ExecuteTime": {
          "end_time": "2021-03-23T13:50:15.397944Z",
          "start_time": "2021-03-23T13:50:15.386966Z"
        },
        "id": "creative-institute",
        "colab": {
          "base_uri": "https://localhost:8080/",
          "height": 166
        },
        "outputId": "8e32b095-13cf-4532-8755-ff47037133d4"
      },
      "outputs": [
        {
          "output_type": "error",
          "ename": "KeyError",
          "evalue": "ignored",
          "traceback": [
            "\u001b[0;31m---------------------------------------------------------------------------\u001b[0m",
            "\u001b[0;31mKeyError\u001b[0m                                  Traceback (most recent call last)",
            "\u001b[0;32m<ipython-input-57-a78f5b02b8c2>\u001b[0m in \u001b[0;36m<module>\u001b[0;34m\u001b[0m\n\u001b[0;32m----> 1\u001b[0;31m \u001b[0md\u001b[0m\u001b[0;34m[\u001b[0m\u001b[0;34m'last_name'\u001b[0m\u001b[0;34m]\u001b[0m\u001b[0;34m\u001b[0m\u001b[0;34m\u001b[0m\u001b[0m\n\u001b[0m",
            "\u001b[0;31mKeyError\u001b[0m: 'last_name'"
          ]
        }
      ],
      "source": [
        "d['last_name']"
      ]
    },
    {
      "cell_type": "markdown",
      "metadata": {
        "id": "architectural-thesaurus"
      },
      "source": [
        "We can check if a key exists in the dictionary using the operator `in`."
      ]
    },
    {
      "cell_type": "code",
      "execution_count": null,
      "metadata": {
        "ExecuteTime": {
          "end_time": "2021-03-23T13:50:16.641522Z",
          "start_time": "2021-03-23T13:50:16.634521Z"
        },
        "id": "amino-mortgage",
        "colab": {
          "base_uri": "https://localhost:8080/"
        },
        "outputId": "dc1ad8a8-e084-4e34-bb7d-dd9995d2e7b1"
      },
      "outputs": [
        {
          "output_type": "execute_result",
          "data": {
            "text/plain": [
              "False"
            ]
          },
          "metadata": {},
          "execution_count": 58
        }
      ],
      "source": [
        "'last_name' in d"
      ]
    },
    {
      "cell_type": "code",
      "execution_count": null,
      "metadata": {
        "id": "d2ddb245-d867-4a8f-b737-0803d3a0577f",
        "colab": {
          "base_uri": "https://localhost:8080/"
        },
        "outputId": "df972c39-645f-415a-805a-3008a5f9d174"
      },
      "outputs": [
        {
          "output_type": "stream",
          "name": "stdout",
          "text": [
            "last_name is not present in the dictionary\n"
          ]
        }
      ],
      "source": [
        "if 'last_name' in d:\n",
        "    print(d['last_name'])\n",
        "else:\n",
        "    print('last_name is not present in the dictionary')"
      ]
    },
    {
      "cell_type": "markdown",
      "metadata": {
        "id": "015bd33a-2d3b-4939-ba66-0c622df899c4"
      },
      "source": [
        "#### Add key to the dictionary"
      ]
    },
    {
      "cell_type": "code",
      "execution_count": null,
      "metadata": {
        "id": "89d12392-0b8c-4514-830c-3c2cd9484d08"
      },
      "outputs": [],
      "source": [
        "d['last_name'] = 'Pérez'"
      ]
    },
    {
      "cell_type": "code",
      "execution_count": null,
      "metadata": {
        "id": "8e71eddd-9a26-4c74-8ccb-cc072e0d2835",
        "colab": {
          "base_uri": "https://localhost:8080/"
        },
        "outputId": "02f91125-2ffd-45fd-d282-e3b555ad853e"
      },
      "outputs": [
        {
          "output_type": "execute_result",
          "data": {
            "text/plain": [
              "{'name': 'Juan', 'age': 29, 'hobby': 'guitar', 'last_name': 'Pérez'}"
            ]
          },
          "metadata": {},
          "execution_count": 61
        }
      ],
      "source": [
        "d"
      ]
    },
    {
      "cell_type": "markdown",
      "metadata": {
        "id": "laden-burlington"
      },
      "source": [
        "#### Mutate Dictionary\n",
        "\n",
        "We can modify a value present in the dictionary similar to how we did with lists, but changing the index by the key:"
      ]
    },
    {
      "cell_type": "code",
      "execution_count": null,
      "metadata": {
        "ExecuteTime": {
          "end_time": "2021-03-22T20:16:08.234933Z",
          "start_time": "2021-03-22T20:16:08.211924Z"
        },
        "id": "future-asthma",
        "colab": {
          "base_uri": "https://localhost:8080/"
        },
        "outputId": "23a5db51-d745-4f3f-a911-f065811aec64"
      },
      "outputs": [
        {
          "output_type": "execute_result",
          "data": {
            "text/plain": [
              "{'name': 'Juan', 'age': 39, 'hobby': 'guitar', 'last_name': 'Pérez'}"
            ]
          },
          "metadata": {},
          "execution_count": 62
        }
      ],
      "source": [
        "d['age'] = 39\n",
        "d"
      ]
    },
    {
      "cell_type": "markdown",
      "metadata": {
        "id": "alert-water"
      },
      "source": [
        "You can remove elements from the dictionary using the `del` operator."
      ]
    },
    {
      "cell_type": "code",
      "execution_count": null,
      "metadata": {
        "ExecuteTime": {
          "end_time": "2021-03-22T20:16:58.312264Z",
          "start_time": "2021-03-22T20:16:58.302264Z"
        },
        "id": "blank-wednesday",
        "colab": {
          "base_uri": "https://localhost:8080/"
        },
        "outputId": "ad7f5bcb-9ad6-4d41-a741-92179180ac2f"
      },
      "outputs": [
        {
          "output_type": "execute_result",
          "data": {
            "text/plain": [
              "{'name': 'Juan', 'age': 39, 'last_name': 'Pérez'}"
            ]
          },
          "metadata": {},
          "execution_count": 63
        }
      ],
      "source": [
        "del d['hobby']\n",
        "d"
      ]
    },
    {
      "cell_type": "markdown",
      "metadata": {
        "id": "arctic-antarctica"
      },
      "source": [
        "#### Access *collections* with dictionary items"
      ]
    },
    {
      "cell_type": "markdown",
      "metadata": {
        "id": "massive-revelation"
      },
      "source": [
        "To obtain the keys of a dictionary you can use the ```.keys()`` method. \n"
      ]
    },
    {
      "cell_type": "code",
      "execution_count": null,
      "metadata": {
        "ExecuteTime": {
          "end_time": "2021-03-22T20:16:50.035215Z",
          "start_time": "2021-03-22T20:16:50.029208Z"
        },
        "id": "extensive-royal"
      },
      "outputs": [],
      "source": [
        "# We redefine the dictionary to the original one for the following example\n",
        "d = {'name': 'Juan', 'age': 29}"
      ]
    },
    {
      "cell_type": "code",
      "execution_count": null,
      "metadata": {
        "ExecuteTime": {
          "end_time": "2021-03-22T20:16:24.765298Z",
          "start_time": "2021-03-22T20:16:24.753298Z"
        },
        "id": "sophisticated-praise",
        "colab": {
          "base_uri": "https://localhost:8080/"
        },
        "outputId": "50a217d8-3238-4128-dfec-7c28ccebb44b"
      },
      "outputs": [
        {
          "output_type": "execute_result",
          "data": {
            "text/plain": [
              "dict_keys(['name', 'age'])"
            ]
          },
          "metadata": {},
          "execution_count": 65
        }
      ],
      "source": [
        "d.keys() # Note that it is not a list!\n",
        "d.keys()"
      ]
    },
    {
      "cell_type": "code",
      "execution_count": null,
      "metadata": {
        "id": "b4645299",
        "colab": {
          "base_uri": "https://localhost:8080/"
        },
        "outputId": "3b3d1d4a-d77a-4b14-ca95-736306bcd340"
      },
      "outputs": [
        {
          "output_type": "execute_result",
          "data": {
            "text/plain": [
              "['name', 'age']"
            ]
          },
          "metadata": {},
          "execution_count": 66
        }
      ],
      "source": [
        "list(d.keys())"
      ]
    },
    {
      "cell_type": "markdown",
      "metadata": {
        "id": "opponent-palmer"
      },
      "source": [
        "To obtain the elements we can use the `.values()` method."
      ]
    },
    {
      "cell_type": "code",
      "execution_count": null,
      "metadata": {
        "ExecuteTime": {
          "end_time": "2021-03-22T20:16:40.046254Z",
          "start_time": "2021-03-22T20:16:40.032232Z"
        },
        "id": "three-insider",
        "colab": {
          "base_uri": "https://localhost:8080/"
        },
        "outputId": "a39b2b9e-8b65-4469-eef7-68897cbb2f16"
      },
      "outputs": [
        {
          "output_type": "execute_result",
          "data": {
            "text/plain": [
              "dict_values(['Juan', 29])"
            ]
          },
          "metadata": {},
          "execution_count": 67
        }
      ],
      "source": [
        "d.values()"
      ]
    },
    {
      "cell_type": "markdown",
      "metadata": {
        "id": "controlled-theology"
      },
      "source": [
        "And tuples can be obtained by specifying all the `(keys, value)` in the dictionary"
      ]
    },
    {
      "cell_type": "code",
      "execution_count": null,
      "metadata": {
        "id": "about-toolbox",
        "colab": {
          "base_uri": "https://localhost:8080/"
        },
        "outputId": "46d3358c-7ed9-4da1-8d97-ee05169c4bca"
      },
      "outputs": [
        {
          "output_type": "execute_result",
          "data": {
            "text/plain": [
              "dict_items([('name', 'Juan'), ('age', 29)])"
            ]
          },
          "metadata": {},
          "execution_count": 68
        }
      ],
      "source": [
        "d.items()"
      ]
    },
    {
      "cell_type": "markdown",
      "metadata": {
        "id": "magnetic-gambling"
      },
      "source": [
        "----\n",
        "\n",
        "## Part 6: Iterations"
      ]
    },
    {
      "cell_type": "markdown",
      "metadata": {
        "id": "emerging-storm"
      },
      "source": [
        "Iterations allow you to step through and perform some action on each element of a collection. There are several ways to accomplish this:\n",
        "\n",
        "\n",
        "### While Cycle - Proposed Personal study.\n",
        "\n",
        "\n",
        "**While:** a ```while``` cycle allows to perform an ```action``` depending on the truth value of a ```condition```, its structure is:\n",
        "\n",
        "```python\n",
        "while condition: # Boolean condition\n",
        "    action # Indented block\n",
        "```"
      ]
    },
    {
      "cell_type": "code",
      "execution_count": null,
      "metadata": {
        "ExecuteTime": {
          "end_time": "2021-03-23T13:50:19.897248Z",
          "start_time": "2021-03-23T13:50:19.875247Z"
        },
        "id": "wanted-maker",
        "colab": {
          "base_uri": "https://localhost:8080/"
        },
        "outputId": "695231a6-6a46-4548-a959-264bf2485fd6"
      },
      "outputs": [
        {
          "output_type": "stream",
          "name": "stdout",
          "text": [
            "0 10\n",
            "1 20\n",
            "2 30\n",
            "3 40\n",
            "4 50\n",
            "5 60\n",
            "6 70\n",
            "7 80\n",
            "8 90\n",
            "9 100\n"
          ]
        }
      ],
      "source": [
        "counter = 0\n",
        "lista = [10, 20, 30, 40, 50, 60, 70, 80, 90, 100]\n",
        "\n",
        "while counter < len(lista):\n",
        "    print(counter, lista[counter])\n",
        "    counter += 1"
      ]
    },
    {
      "cell_type": "markdown",
      "metadata": {
        "id": "gothic-concern"
      },
      "source": [
        "### For loop\n",
        "\n",
        "A ```for``` loop allows you to repeat performing an ```action``` depending on the elements of a *collection*. Its structure corresponds to:\n",
        "\n",
        "```python\n",
        "for element in collection: \n",
        "    action_on_element\n",
        "\n",
        "```\n",
        "\n",
        "in this case ```element``` corresponds to a variable that takes, sequentially, the values of the iterator. \n"
      ]
    },
    {
      "cell_type": "markdown",
      "metadata": {
        "id": "f1e4147f-847d-4a93-abc2-d8a905969c46"
      },
      "source": [
        "#### Iteration on list"
      ]
    },
    {
      "cell_type": "code",
      "execution_count": null,
      "metadata": {
        "ExecuteTime": {
          "end_time": "2021-03-23T13:50:21.833277Z",
          "start_time": "2021-03-23T13:50:21.818239Z"
        },
        "id": "alleged-mercy"
      },
      "outputs": [],
      "source": [
        "lista = [0, 1, 2, 3, 4, 5]\n"
      ]
    },
    {
      "cell_type": "code",
      "execution_count": null,
      "metadata": {
        "ExecuteTime": {
          "end_time": "2021-03-23T13:50:22.476165Z",
          "start_time": "2021-03-23T13:50:22.459150Z"
        },
        "id": "smoking-secret",
        "colab": {
          "base_uri": "https://localhost:8080/"
        },
        "outputId": "839c833b-e216-49b4-fc93-2cb537f1a246"
      },
      "outputs": [
        {
          "output_type": "stream",
          "name": "stdout",
          "text": [
            "0 ^ 2 = 0\n",
            "1 ^ 2 = 1\n",
            "2 ^ 2 = 4\n",
            "3 ^ 2 = 9\n",
            "4 ^ 2 = 16\n",
            "5 ^ 2 = 25\n"
          ]
        }
      ],
      "source": [
        "for element in lista:\n",
        "    print(element, '^ 2 =', element ** 2)"
      ]
    },
    {
      "cell_type": "markdown",
      "metadata": {
        "id": "8a3365d2-6d2a-46f6-91c6-3511dbd313e6"
      },
      "source": [
        "### Iteration on dictionary keys"
      ]
    },
    {
      "cell_type": "code",
      "execution_count": null,
      "metadata": {
        "id": "6f955e5d",
        "colab": {
          "base_uri": "https://localhost:8080/"
        },
        "outputId": "19b04350-b164-4d29-d55f-a65b0f0caea4"
      },
      "outputs": [
        {
          "output_type": "execute_result",
          "data": {
            "text/plain": [
              "{'name': 'Juan', 'age': 29, 'hobby': 'guitar'}"
            ]
          },
          "metadata": {},
          "execution_count": 72
        }
      ],
      "source": [
        "d = {\n",
        "    'name': 'Juan', \n",
        "    'age': 29, \n",
        "    'hobby': 'guitar',\n",
        "}\n",
        "d"
      ]
    },
    {
      "cell_type": "code",
      "execution_count": null,
      "metadata": {
        "ExecuteTime": {
          "end_time": "2021-03-22T20:21:39.879297Z",
          "start_time": "2021-03-22T20:21:39.859296Z"
        },
        "id": "amateur-stewart",
        "colab": {
          "base_uri": "https://localhost:8080/"
        },
        "outputId": "821b88c2-694b-40e3-94cd-763d89d7da67"
      },
      "outputs": [
        {
          "output_type": "stream",
          "name": "stdout",
          "text": [
            "NAME : Juan\n",
            "AGE : 29\n",
            "HOBBY : guitar\n"
          ]
        }
      ],
      "source": [
        "for key in d:\n",
        "    value = d[key]\n",
        "    print(f'{key.upper()} : {value}')"
      ]
    },
    {
      "cell_type": "markdown",
      "metadata": {
        "id": "4e3d70ce-2008-4ae3-a600-1b49e2db90a0"
      },
      "source": [
        "#### Iteration on dictionary items\n",
        "\n",
        "Recall that `d.items()` gave us a structure similar to a list `[(key_1, value_1), ...]`.\n",
        "Since each item is a tuple, we can unpack it into key, value in the same loop."
      ]
    },
    {
      "cell_type": "code",
      "execution_count": null,
      "metadata": {
        "id": "f9528bc1-f2b5-4d24-887e-495127fe89fc",
        "colab": {
          "base_uri": "https://localhost:8080/"
        },
        "outputId": "a635c37c-d4e2-46a7-acbf-e3c2c2a9fdf0"
      },
      "outputs": [
        {
          "output_type": "execute_result",
          "data": {
            "text/plain": [
              "dict_items([('name', 'Juan'), ('age', 29), ('hobby', 'guitar')])"
            ]
          },
          "metadata": {},
          "execution_count": 74
        }
      ],
      "source": [
        "d.items()"
      ]
    },
    {
      "cell_type": "code",
      "execution_count": null,
      "metadata": {
        "ExecuteTime": {
          "end_time": "2021-03-22T20:22:17.080653Z",
          "start_time": "2021-03-22T20:22:17.073658Z"
        },
        "id": "guilty-effects",
        "colab": {
          "base_uri": "https://localhost:8080/"
        },
        "outputId": "bbd79b75-82e3-4782-b2fc-b9ca775619c8"
      },
      "outputs": [
        {
          "output_type": "stream",
          "name": "stdout",
          "text": [
            "NAME : Juan\n",
            "AGE : 29\n",
            "HOBBY : guitar\n"
          ]
        }
      ],
      "source": [
        "for key, value in d.items():\n",
        "    print(f'{key.upper()} : {value}')"
      ]
    },
    {
      "cell_type": "markdown",
      "metadata": {
        "id": "computational-norman"
      },
      "source": [
        "### Utilities for iteration"
      ]
    },
    {
      "cell_type": "markdown",
      "metadata": {
        "id": "corporate-message"
      },
      "source": [
        "#### Enumerator\n",
        "\n",
        "It allows to have the index of the element to which we are accessing. For this, use the `enumerate(list)` function."
      ]
    },
    {
      "cell_type": "code",
      "execution_count": null,
      "metadata": {
        "id": "d3a77bb8-cee6-42fa-8314-ef829050ceb3",
        "colab": {
          "base_uri": "https://localhost:8080/"
        },
        "outputId": "c5ae2fde-07a9-47e8-8d5d-be8213c83033"
      },
      "outputs": [
        {
          "output_type": "execute_result",
          "data": {
            "text/plain": [
              "[(0, 10), (1, 11), (2, 12), (3, 13), (4, 14), (5, 15)]"
            ]
          },
          "metadata": {},
          "execution_count": 76
        }
      ],
      "source": [
        "lista = [10, 11, 12, 13, 14, 15]\n",
        "\n",
        "list(enumerate(lista))"
      ]
    },
    {
      "cell_type": "code",
      "execution_count": null,
      "metadata": {
        "ExecuteTime": {
          "end_time": "2021-03-22T20:22:27.345116Z",
          "start_time": "2021-03-22T20:22:27.325122Z"
        },
        "id": "elect-adelaide",
        "colab": {
          "base_uri": "https://localhost:8080/"
        },
        "outputId": "8d0e16f1-1956-4bbb-e331-2014aaea006d"
      },
      "outputs": [
        {
          "output_type": "stream",
          "name": "stdout",
          "text": [
            "Index: 0 | Element: 10\n",
            "I found an index that is a multiple of 3: 0\n",
            "Index: 1 | Element: 11\n",
            "Index: 2 | Element: 12\n",
            "Index: 3 | Element: 13\n",
            "I found an index that is a multiple of 3: 3\n",
            "Index: 4 | Element: 14\n",
            "Index: 5 | Element: 15\n"
          ]
        }
      ],
      "source": [
        "for index, element in enumerate(lista):\n",
        "    print(f'Index: {index} | Element: {element}')\n",
        "    if index % 3 == 0:\n",
        "        print(f'I found an index that is a multiple of 3: {index}')"
      ]
    },
    {
      "cell_type": "markdown",
      "metadata": {
        "id": "ecological-halloween"
      },
      "source": [
        "#### Range\n",
        "\n",
        "Generates a sequence of numbers. It is not a list as such, but a generator.Syntax: \n",
        " \n",
        "```python\n",
        "range(start, end, optional(skip) )\n",
        "```"
      ]
    },
    {
      "cell_type": "code",
      "execution_count": null,
      "metadata": {
        "ExecuteTime": {
          "end_time": "2021-03-23T14:00:50.184140Z",
          "start_time": "2021-03-23T14:00:50.165117Z"
        },
        "id": "moved-century",
        "colab": {
          "base_uri": "https://localhost:8080/"
        },
        "outputId": "5dc1f072-d4a9-4972-9fcb-2c71c6ba9ec7"
      },
      "outputs": [
        {
          "output_type": "stream",
          "name": "stdout",
          "text": [
            "0\n",
            "1\n",
            "2\n",
            "3\n",
            "4\n"
          ]
        }
      ],
      "source": [
        "for element in range(0, 5):\n",
        "    print(element)"
      ]
    },
    {
      "cell_type": "code",
      "execution_count": null,
      "metadata": {
        "ExecuteTime": {
          "end_time": "2021-03-23T14:02:11.120715Z",
          "start_time": "2021-03-23T14:02:11.109702Z"
        },
        "id": "casual-recycling",
        "colab": {
          "base_uri": "https://localhost:8080/"
        },
        "outputId": "48153eff-199e-49fd-d7f3-2c2b95468e5c"
      },
      "outputs": [
        {
          "output_type": "stream",
          "name": "stdout",
          "text": [
            "0\n",
            "3\n",
            "6\n",
            "9\n"
          ]
        }
      ],
      "source": [
        "# We can also give it a jump, i.e., how much we will jump between one element and another.\n",
        "for element in range(0, 10, 3):\n",
        "    print(element)"
      ]
    },
    {
      "cell_type": "markdown",
      "metadata": {
        "id": "corrected-ballet"
      },
      "source": [
        "#### Zip\n",
        "\n",
        "Allows to iterate between two or more sequences at the same time. For this, it generates tuples with both values."
      ]
    },
    {
      "cell_type": "code",
      "execution_count": null,
      "metadata": {
        "ExecuteTime": {
          "end_time": "2021-03-23T13:58:54.552693Z",
          "start_time": "2021-03-23T13:58:54.542693Z"
        },
        "id": "sixth-communication",
        "colab": {
          "base_uri": "https://localhost:8080/"
        },
        "outputId": "9b6e3d50-4397-4b30-c216-d215c7fca986"
      },
      "outputs": [
        {
          "output_type": "execute_result",
          "data": {
            "text/plain": [
              "[('name', 'Juan'), ('age', '27'), ('hair', 'brown')]"
            ]
          },
          "metadata": {},
          "execution_count": 80
        }
      ],
      "source": [
        "questions = ['name', 'age', 'hair']\n",
        "answers = ['Juan', '27', 'brown']\n",
        "\n",
        "list(zip(questions, answers))\n"
      ]
    },
    {
      "cell_type": "code",
      "execution_count": null,
      "metadata": {
        "id": "59809ab2-e7dd-4a20-9254-b33aa6897e6d",
        "colab": {
          "base_uri": "https://localhost:8080/"
        },
        "outputId": "2b1e79f7-36d4-40cd-834d-b6bf5ab163a4"
      },
      "outputs": [
        {
          "output_type": "stream",
          "name": "stdout",
          "text": [
            "What is your name? It's Juan.\n",
            "What is your age? It's 27.\n",
            "What is your hair? It's brown.\n"
          ]
        }
      ],
      "source": [
        "for question, answer in zip(questions, answers):\n",
        "    print(f\"What is your {question}? It's {answer}.\")"
      ]
    },
    {
      "cell_type": "markdown",
      "metadata": {
        "id": "fifth-recording"
      },
      "source": [
        "### List Comprehensions\n",
        "\n",
        "This is a *elegant* 🧐 way to create collections.\n",
        "\n",
        "Suppose we want to create a list with all the letters of the word `notebook`."
      ]
    },
    {
      "cell_type": "code",
      "execution_count": null,
      "metadata": {
        "ExecuteTime": {
          "end_time": "2021-03-22T20:23:14.764115Z",
          "start_time": "2021-03-22T20:23:14.751130Z"
        },
        "id": "registered-sword",
        "colab": {
          "base_uri": "https://localhost:8080/"
        },
        "outputId": "39188932-938e-420c-880c-4bb8add55c8a"
      },
      "outputs": [
        {
          "output_type": "stream",
          "name": "stdout",
          "text": [
            "I added to the list: N\n",
            "I added to the list: O\n",
            "I added to the list: T\n",
            "I added to the list: E\n",
            "I added to the list: B\n",
            "I added to the list: O\n",
            "I added to the list: O\n",
            "I added to the list: K\n",
            "I added to the list:  \n",
            "I added to the list: 📗\n"
          ]
        },
        {
          "output_type": "execute_result",
          "data": {
            "text/plain": [
              "['N', 'O', 'T', 'E', 'B', 'O', 'O', 'K', ' ', '📗']"
            ]
          },
          "metadata": {},
          "execution_count": 84
        }
      ],
      "source": [
        "characters = []\n",
        "word = 'Notebook 📗'\n",
        "\n",
        "for char in word:\n",
        "    characters.append(char.upper())\n",
        "    print(f'I added to the list: {char.upper()}')\n",
        "\n",
        "characters"
      ]
    },
    {
      "cell_type": "markdown",
      "metadata": {
        "id": "illegal-meaning"
      },
      "source": [
        "We can replace this `for` loop with a more compact syntax:"
      ]
    },
    {
      "cell_type": "code",
      "execution_count": null,
      "metadata": {
        "ExecuteTime": {
          "end_time": "2021-03-22T20:23:58.748825Z",
          "start_time": "2021-03-22T20:23:58.740827Z"
        },
        "id": "formal-reset",
        "colab": {
          "base_uri": "https://localhost:8080/"
        },
        "outputId": "a5565ed3-eb2e-44d0-c0dd-d7dc0e8336dc"
      },
      "outputs": [
        {
          "output_type": "execute_result",
          "data": {
            "text/plain": [
              "['N', 'O', 'T', 'E', 'B', 'O', 'O', 'K', ' ', '📗']"
            ]
          },
          "metadata": {},
          "execution_count": 85
        }
      ],
      "source": [
        "characters = [char.upper() for char in word]\n",
        "characters"
      ]
    },
    {
      "cell_type": "markdown",
      "metadata": {
        "ExecuteTime": {
          "end_time": "2021-03-22T19:02:53.523752Z",
          "start_time": "2021-03-22T19:02:53.515781Z"
        },
        "id": "severe-artwork"
      },
      "source": [
        "This is known as **List Comprehension**."
      ]
    },
    {
      "cell_type": "markdown",
      "metadata": {
        "id": "distributed-vision"
      },
      "source": [
        "Suppose now that we generate a list of the first 10 integers and of these we want only the even numbers.\n",
        "A code using `for` would look like:"
      ]
    },
    {
      "cell_type": "code",
      "execution_count": null,
      "metadata": {
        "id": "bf5d7ccb-3c35-4675-ba36-317771f96ded",
        "colab": {
          "base_uri": "https://localhost:8080/"
        },
        "outputId": "eab8120a-de95-4153-8d37-1282121b0380"
      },
      "outputs": [
        {
          "output_type": "execute_result",
          "data": {
            "text/plain": [
              "[0, 1, 2, 3, 4, 5, 6, 7, 8, 9]"
            ]
          },
          "metadata": {},
          "execution_count": 86
        }
      ],
      "source": [
        "list(range(10))"
      ]
    },
    {
      "cell_type": "code",
      "execution_count": null,
      "metadata": {
        "ExecuteTime": {
          "end_time": "2021-03-22T20:24:21.286110Z",
          "start_time": "2021-03-22T20:24:21.276108Z"
        },
        "id": "rough-toner",
        "colab": {
          "base_uri": "https://localhost:8080/"
        },
        "outputId": "1f8b624c-3a7f-479e-8246-1087740524f0"
      },
      "outputs": [
        {
          "output_type": "execute_result",
          "data": {
            "text/plain": [
              "[0, 2, 4, 6, 8]"
            ]
          },
          "metadata": {},
          "execution_count": 87
        }
      ],
      "source": [
        "even_numbers = []\n",
        "for number in range(10):\n",
        "    if number % 2 == 0:\n",
        "        even_numbers.append(number)\n",
        "\n",
        "even_numbers"
      ]
    },
    {
      "cell_type": "markdown",
      "metadata": {
        "id": "completed-check"
      },
      "source": [
        "Using **List Comprehension**:"
      ]
    },
    {
      "cell_type": "code",
      "execution_count": null,
      "metadata": {
        "ExecuteTime": {
          "end_time": "2021-03-22T20:25:13.348291Z",
          "start_time": "2021-03-22T20:25:13.341291Z"
        },
        "id": "prostate-information",
        "colab": {
          "base_uri": "https://localhost:8080/"
        },
        "outputId": "17b491d1-8c45-4b4a-bad2-e154d844abf0"
      },
      "outputs": [
        {
          "output_type": "execute_result",
          "data": {
            "text/plain": [
              "[0, 2, 4, 6, 8]"
            ]
          },
          "metadata": {},
          "execution_count": 88
        }
      ],
      "source": [
        "even_numbers = [number for number in range(10) if number % 2 == 0]\n",
        "even_numbers"
      ]
    },
    {
      "cell_type": "code",
      "execution_count": null,
      "metadata": {
        "ExecuteTime": {
          "end_time": "2021-03-22T20:25:25.368603Z",
          "start_time": "2021-03-22T20:25:25.352606Z"
        },
        "id": "subsequent-wright",
        "colab": {
          "base_uri": "https://localhost:8080/"
        },
        "outputId": "1b4e7561-40db-45ac-8285-dc688efb3535"
      },
      "outputs": [
        {
          "output_type": "execute_result",
          "data": {
            "text/plain": [
              "['Even', 'Odd', 'Even', 'Odd', 'Even', 'Odd', 'Even', 'Odd', 'Even', 'Odd']"
            ]
          },
          "metadata": {},
          "execution_count": 89
        }
      ],
      "source": [
        "even_numbers = ['Even' if number % 2 == 0 else 'Odd' for number in range(10)]\n",
        "even_numbers"
      ]
    },
    {
      "cell_type": "markdown",
      "metadata": {
        "id": "transsexual-color"
      },
      "source": [
        "> **Question ❓:** Can sets or dictionaries be created using this notation?"
      ]
    },
    {
      "cell_type": "code",
      "execution_count": null,
      "metadata": {
        "id": "a31cf772-18c0-4e08-b2cd-2b0a61e84d61",
        "colab": {
          "base_uri": "https://localhost:8080/"
        },
        "outputId": "263532c0-4da6-468f-b81b-871a61cabb4e"
      },
      "outputs": [
        {
          "output_type": "execute_result",
          "data": {
            "text/plain": [
              "{0: 'Even',\n",
              " 1: 'Odd',\n",
              " 2: 'Even',\n",
              " 3: 'Odd',\n",
              " 4: 'Even',\n",
              " 5: 'Odd',\n",
              " 6: 'Even',\n",
              " 7: 'Odd',\n",
              " 8: 'Even',\n",
              " 9: 'Odd'}"
            ]
          },
          "metadata": {},
          "execution_count": 90
        }
      ],
      "source": [
        "{number: 'Even' if number % 2 == 0 else 'Odd' for number in range(10) }"
      ]
    },
    {
      "cell_type": "markdown",
      "metadata": {
        "id": "finnish-swimming"
      },
      "source": [
        "## Other references"
      ]
    },
    {
      "cell_type": "markdown",
      "metadata": {
        "id": "dimensional-cyprus"
      },
      "source": [
        "An excellent Python tutorial:\n",
        "    \n",
        "https://www.programiz.com/python-programming\n",
        "\n",
        "And the official tutorial: \n",
        "\n",
        "https://docs.python.org/es/3/tutorial/\n"
      ]
    },
    {
      "cell_type": "code",
      "execution_count": null,
      "metadata": {
        "id": "aad89ca4"
      },
      "outputs": [],
      "source": []
    },
    {
      "cell_type": "code",
      "execution_count": null,
      "metadata": {
        "id": "cd306309"
      },
      "outputs": [],
      "source": []
    },
    {
      "cell_type": "code",
      "execution_count": null,
      "metadata": {
        "id": "5edd54b9"
      },
      "outputs": [],
      "source": []
    },
    {
      "cell_type": "code",
      "source": [],
      "metadata": {
        "id": "MasVBEIaJ4h0"
      },
      "execution_count": null,
      "outputs": []
    }
  ]
}