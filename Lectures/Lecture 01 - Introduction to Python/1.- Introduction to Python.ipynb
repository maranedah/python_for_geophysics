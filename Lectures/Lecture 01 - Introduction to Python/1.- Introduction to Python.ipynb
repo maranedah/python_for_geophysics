{
 "cells": [
  {
   "cell_type": "markdown",
   "id": "201e2305-96c6-4aaa-a417-688dcdb888fe",
   "metadata": {},
   "source": [
    "## Class 1: Introduction to programming with `Python`\n",
    "\n",
    "**Python for GeoSciences**\n",
    "\n",
    "*Professor: Mauricio Araneda Hernandez*\n"
   ]
  },
  {
   "cell_type": "markdown",
   "id": "accepting-university",
   "metadata": {},
   "source": [
    "\n",
    "## Objectives of the class\n",
    "\n",
    "- Introduce `Python` and its philosophy.\n",
    "- Variables.\n",
    "- Basic data types and dynamic typing.\n",
    "- Operations, operators and transformations between data types.\n",
    "- Flow Control.\n",
    "- Colections: Lists, sets and dictionaries.\n",
    "- Iterators."
   ]
  },
  {
   "cell_type": "markdown",
   "id": "collective-springer",
   "metadata": {
    "jp-MarkdownHeadingCollapsed": true,
    "tags": []
   },
   "source": [
    "## Introduction to Python\n",
    "\n",
    "\n",
    "\n",
    "<div align='center'>\n",
    "<img src=./resources/python_logo.png width=400/>\n",
    "</div>\n",
    "\n",
    "`Python` is a multi-purpose programming language, design to preserve syntax legibility and **simplicity**.\n",
    "Its features and principles make it an easy-to-learn and powerful language.\n",
    "\n",
    "\n",
    "\n",
    "It is widely utilized in contexts such as:\n",
    "\n",
    "- Web Development, \n",
    "- Data Science, \n",
    "- Scripting\n",
    "- Desktop Software,\n",
    "- etc...\n",
    "\n",
    "> **Question ❓**: Where have you used `Python` before?"
   ]
  },
  {
   "cell_type": "markdown",
   "id": "ad716eb2",
   "metadata": {},
   "source": [
    "## Why would we use `Python` in GeoSciences?\n",
    "\n",
    "`Python` plays an important role in Data Science. Since Geosciences often rely on processing massive data from different sources with different formats it is important to know how to correctly process all this incoming data.\n",
    "\n",
    "Due to its simplicity and easy access, the community has prefered developing open libraries focused on solving data sciences problems for `Python` rather than other languages (although they exist). This diversity of open libraries is commonly known as *library ecosystem*.\n",
    "\n",
    "We will mostly focus on the elements related to data science and some GeoScience specific tools."
   ]
  },
  {
   "cell_type": "code",
   "execution_count": 1,
   "id": "arbitrary-contribution",
   "metadata": {
    "ExecuteTime": {
     "end_time": "2021-03-22T19:21:20.238432Z",
     "start_time": "2021-03-22T19:21:20.217433Z"
    }
   },
   "outputs": [
    {
     "name": "stdout",
     "output_type": "stream",
     "text": [
      "The Zen of Python, by Tim Peters\n",
      "\n",
      "Beautiful is better than ugly.\n",
      "Explicit is better than implicit.\n",
      "Simple is better than complex.\n",
      "Complex is better than complicated.\n",
      "Flat is better than nested.\n",
      "Sparse is better than dense.\n",
      "Readability counts.\n",
      "Special cases aren't special enough to break the rules.\n",
      "Although practicality beats purity.\n",
      "Errors should never pass silently.\n",
      "Unless explicitly silenced.\n",
      "In the face of ambiguity, refuse the temptation to guess.\n",
      "There should be one-- and preferably only one --obvious way to do it.\n",
      "Although that way may not be obvious at first unless you're Dutch.\n",
      "Now is better than never.\n",
      "Although never is often better than *right* now.\n",
      "If the implementation is hard to explain, it's a bad idea.\n",
      "If the implementation is easy to explain, it may be a good idea.\n",
      "Namespaces are one honking great idea -- let's do more of those!\n"
     ]
    }
   ],
   "source": [
    "# You can see the python philosophy by running this cell\n",
    "import this"
   ]
  },
  {
   "cell_type": "markdown",
   "id": "champion-dubai",
   "metadata": {},
   "source": [
    "---\n",
    "\n",
    "## Part 1.- Variables\n",
    "\n",
    "\n",
    "Variables are a fundamental building block in programming: They are the means that allow us to link an identifier/variable with values/data.\n",
    "In Python they are defined by means of the ` = ` operator.\n",
    "\n",
    "**Example:**"
   ]
  },
  {
   "cell_type": "code",
   "execution_count": 2,
   "id": "extensive-basis",
   "metadata": {
    "ExecuteTime": {
     "end_time": "2021-03-22T19:22:38.821644Z",
     "start_time": "2021-03-22T19:22:38.817644Z"
    }
   },
   "outputs": [],
   "source": [
    "variable = 10"
   ]
  },
  {
   "cell_type": "markdown",
   "id": "atlantic-insight",
   "metadata": {},
   "source": [
    "You can show (or print in programming words) the value of a variable using the function `print(variable_name)`. \n",
    "\n",
    "**Note**: We will see what are the functions later; in the meantime, just use it."
   ]
  },
  {
   "cell_type": "code",
   "execution_count": 3,
   "id": "eleven-austria",
   "metadata": {
    "ExecuteTime": {
     "end_time": "2021-03-22T19:23:23.900022Z",
     "start_time": "2021-03-22T19:23:23.887023Z"
    }
   },
   "outputs": [
    {
     "name": "stdout",
     "output_type": "stream",
     "text": [
      "10\n"
     ]
    }
   ],
   "source": [
    "print(variable)"
   ]
  },
  {
   "cell_type": "markdown",
   "id": "prepared-collector",
   "metadata": {},
   "source": [
    "Or when you are running a Jupyter Notebook, you can see the value of the variable by putting it at the end of a cell."
   ]
  },
  {
   "cell_type": "code",
   "execution_count": 4,
   "id": "gentle-illinois",
   "metadata": {
    "ExecuteTime": {
     "end_time": "2021-03-22T19:24:03.318890Z",
     "start_time": "2021-03-22T19:24:03.311841Z"
    },
    "scrolled": true,
    "tags": []
   },
   "outputs": [
    {
     "data": {
      "text/plain": [
       "10"
      ]
     },
     "execution_count": 4,
     "metadata": {},
     "output_type": "execute_result"
    }
   ],
   "source": [
    "# esto es una variable\n",
    "variable"
   ]
  },
  {
   "cell_type": "markdown",
   "id": "damaged-louis",
   "metadata": {},
   "source": [
    "> **Note 🗒️:** You can write comments (lines that will not be executed) using #:"
   ]
  },
  {
   "cell_type": "code",
   "execution_count": 76,
   "id": "f23a482d",
   "metadata": {},
   "outputs": [],
   "source": [
    "# this is a comment\n",
    "variable = 2"
   ]
  },
  {
   "cell_type": "markdown",
   "id": "73f8489d-7c99-4e3d-802c-df70989adc81",
   "metadata": {
    "ExecuteTime": {
     "end_time": "2021-03-22T14:32:19.114508Z",
     "start_time": "2021-03-22T14:32:19.100507Z"
    }
   },
   "source": [
    "### Variable Naming Conventions\n",
    "\n",
    "These are the conventions that are commonly used in `python` when writing code and that we will **use in the course**.\n",
    "\n",
    "- Variables and functions:\n",
    "\n",
    "```python\n",
    "integer = 10\n",
    "largest_integer = 100\n",
    "any_function\n",
    "```\n",
    "\n",
    "- Constants (identifiers that should not change in the future): \n",
    "\n",
    "```python\n",
    "PI = 3.14\n",
    "GRAVITY_AT_MARS = 3.711\n",
    "```\n",
    "\n",
    "> **Question ❓**: Can the values of the constants change?"
   ]
  },
  {
   "cell_type": "markdown",
   "id": "egyptian-sharp",
   "metadata": {
    "tags": []
   },
   "source": [
    "---\n",
    "\n",
    "## Part 2: Data Types\n",
    "\n",
    "Next we will look at the basic data types: **raw data** that is assigned to variables.\n",
    "\n",
    "\n",
    "### Basic Data Types\n"
   ]
  },
  {
   "cell_type": "markdown",
   "id": "jewish-documentation",
   "metadata": {},
   "source": [
    "#### Integers\n",
    "\n",
    "Integers created without complex part and decimal places. In this data type it is possible to perform integer division operations."
   ]
  },
  {
   "cell_type": "code",
   "execution_count": 5,
   "id": "julian-tennessee",
   "metadata": {
    "ExecuteTime": {
     "end_time": "2021-03-22T19:25:31.129685Z",
     "start_time": "2021-03-22T19:25:31.110685Z"
    }
   },
   "outputs": [
    {
     "data": {
      "text/plain": [
       "9"
      ]
     },
     "execution_count": 5,
     "metadata": {},
     "output_type": "execute_result"
    }
   ],
   "source": [
    "integer = 9\n",
    "integer"
   ]
  },
  {
   "cell_type": "markdown",
   "id": "extreme-oxide",
   "metadata": {},
   "source": [
    "#### Floats\n",
    "\n",
    "Floating point numeric values, can be created by adding decimal places e.g. ```0.87```."
   ]
  },
  {
   "cell_type": "code",
   "execution_count": 6,
   "id": "square-jones",
   "metadata": {
    "ExecuteTime": {
     "end_time": "2021-03-22T19:25:47.489212Z",
     "start_time": "2021-03-22T19:25:47.480216Z"
    }
   },
   "outputs": [
    {
     "data": {
      "text/plain": [
       "9.2344"
      ]
     },
     "execution_count": 6,
     "metadata": {},
     "output_type": "execute_result"
    }
   ],
   "source": [
    "floating_number = 9.2344\n",
    "floating_number"
   ]
  },
  {
   "cell_type": "markdown",
   "id": "affecting-session",
   "metadata": {},
   "source": [
    "#### Booleans/Bools\n",
    "\n",
    "Truth values: `True` or `False`."
   ]
  },
  {
   "cell_type": "code",
   "execution_count": 7,
   "id": "super-affair",
   "metadata": {
    "ExecuteTime": {
     "end_time": "2021-03-22T19:26:29.515577Z",
     "start_time": "2021-03-22T19:26:29.500546Z"
    }
   },
   "outputs": [
    {
     "data": {
      "text/plain": [
       "False"
      ]
     },
     "execution_count": 7,
     "metadata": {},
     "output_type": "execute_result"
    }
   ],
   "source": [
    "boolean = False\n",
    "boolean"
   ]
  },
  {
   "cell_type": "markdown",
   "id": "e8e7e6ae-d18a-4984-9a91-7575f49d21e1",
   "metadata": {},
   "source": [
    "#### Strings\n",
    "\n",
    "\"Strings\" of characters containing text. These can be defined using single quotes ``` ' ' ``` or double quotes ``` \" \" ```."
   ]
  },
  {
   "cell_type": "code",
   "execution_count": 77,
   "id": "inside-departure",
   "metadata": {
    "ExecuteTime": {
     "end_time": "2021-03-22T19:27:24.309550Z",
     "start_time": "2021-03-22T19:27:24.305543Z"
    }
   },
   "outputs": [
    {
     "data": {
      "text/plain": [
       "'Juan is drinking tea 🍵'"
      ]
     },
     "execution_count": 77,
     "metadata": {},
     "output_type": "execute_result"
    }
   ],
   "source": [
    "sentence = \"Juan is drinking tea 🍵\"\n",
    "sentence"
   ]
  },
  {
   "cell_type": "markdown",
   "id": "suburban-radar",
   "metadata": {
    "ExecuteTime": {
     "end_time": "2021-03-22T15:21:25.296930Z",
     "start_time": "2021-03-22T15:21:25.278931Z"
    }
   },
   "source": [
    "#### `None`\n",
    "\n",
    "Special type representing that the variable has an unspecific value."
   ]
  },
  {
   "cell_type": "code",
   "execution_count": 78,
   "id": "committed-citizen",
   "metadata": {
    "ExecuteTime": {
     "end_time": "2021-03-22T19:11:41.641505Z",
     "start_time": "2021-03-22T19:11:41.627508Z"
    }
   },
   "outputs": [],
   "source": [
    "variable_without_any_value = None\n",
    "variable_without_any_value"
   ]
  },
  {
   "cell_type": "code",
   "execution_count": 79,
   "id": "b00014f2",
   "metadata": {},
   "outputs": [
    {
     "name": "stdout",
     "output_type": "stream",
     "text": [
      "None\n"
     ]
    }
   ],
   "source": [
    "print(variable_without_any_value)"
   ]
  },
  {
   "cell_type": "code",
   "execution_count": 80,
   "id": "accredited-objective",
   "metadata": {
    "ExecuteTime": {
     "end_time": "2021-03-22T19:27:31.586122Z",
     "start_time": "2021-03-22T19:27:31.569122Z"
    }
   },
   "outputs": [],
   "source": [
    "variable_without_any_value"
   ]
  },
  {
   "cell_type": "markdown",
   "id": "unlimited-diameter",
   "metadata": {
    "ExecuteTime": {
     "end_time": "2021-03-22T14:17:09.464686Z",
     "start_time": "2021-03-22T14:17:09.444669Z"
    }
   },
   "source": [
    "### Function `type`\n",
    "\n",
    "We can use the `type(identifier)` function to find out what is the type of data contained in a variable."
   ]
  },
  {
   "cell_type": "code",
   "execution_count": 81,
   "id": "5a9cc107-2b15-45da-bff2-e8f20af873db",
   "metadata": {},
   "outputs": [
    {
     "data": {
      "text/plain": [
       "'Juan is drinking tea 🍵'"
      ]
     },
     "execution_count": 81,
     "metadata": {},
     "output_type": "execute_result"
    }
   ],
   "source": [
    "sentence"
   ]
  },
  {
   "cell_type": "code",
   "execution_count": 82,
   "id": "dental-filling",
   "metadata": {
    "ExecuteTime": {
     "end_time": "2021-03-22T19:28:13.717955Z",
     "start_time": "2021-03-22T19:28:13.708955Z"
    },
    "scrolled": true
   },
   "outputs": [
    {
     "data": {
      "text/plain": [
       "str"
      ]
     },
     "execution_count": 82,
     "metadata": {},
     "output_type": "execute_result"
    }
   ],
   "source": [
    "type(sentence)"
   ]
  },
  {
   "cell_type": "code",
   "execution_count": 83,
   "id": "1a6cfc9f-7cb9-475c-87e2-c4ba3fccce53",
   "metadata": {},
   "outputs": [
    {
     "data": {
      "text/plain": [
       "9"
      ]
     },
     "execution_count": 83,
     "metadata": {},
     "output_type": "execute_result"
    }
   ],
   "source": [
    "integer"
   ]
  },
  {
   "cell_type": "code",
   "execution_count": 84,
   "id": "unauthorized-oregon",
   "metadata": {
    "ExecuteTime": {
     "end_time": "2021-03-22T19:28:19.987131Z",
     "start_time": "2021-03-22T19:28:19.972132Z"
    },
    "scrolled": true
   },
   "outputs": [
    {
     "data": {
      "text/plain": [
       "int"
      ]
     },
     "execution_count": 84,
     "metadata": {},
     "output_type": "execute_result"
    }
   ],
   "source": [
    "type(integer)"
   ]
  },
  {
   "cell_type": "markdown",
   "id": "34dbd0a5",
   "metadata": {},
   "source": [
    "### Check data type with `isinstance`.\n",
    "\n",
    "The `isinstance` function allows you to \"ask\" if a variable contains a specific data type."
   ]
  },
  {
   "cell_type": "code",
   "execution_count": 16,
   "id": "aaa3add4",
   "metadata": {},
   "outputs": [
    {
     "data": {
      "text/plain": [
       "'Juan esta tomando té 🍵'"
      ]
     },
     "execution_count": 16,
     "metadata": {},
     "output_type": "execute_result"
    }
   ],
   "source": [
    "sentence"
   ]
  },
  {
   "cell_type": "code",
   "execution_count": 17,
   "id": "d42122bd",
   "metadata": {},
   "outputs": [
    {
     "data": {
      "text/plain": [
       "False"
      ]
     },
     "execution_count": 17,
     "metadata": {},
     "output_type": "execute_result"
    }
   ],
   "source": [
    "isinstance(sentence, int)"
   ]
  },
  {
   "cell_type": "code",
   "execution_count": 18,
   "id": "80b6beea-3c58-4104-a9db-8693761baa46",
   "metadata": {},
   "outputs": [
    {
     "data": {
      "text/plain": [
       "False"
      ]
     },
     "execution_count": 18,
     "metadata": {},
     "output_type": "execute_result"
    }
   ],
   "source": [
    "isinstance(sentence, float)"
   ]
  },
  {
   "cell_type": "code",
   "execution_count": 19,
   "id": "a9563d98",
   "metadata": {},
   "outputs": [
    {
     "data": {
      "text/plain": [
       "True"
      ]
     },
     "execution_count": 19,
     "metadata": {},
     "output_type": "execute_result"
    }
   ],
   "source": [
    "isinstance(sentence, str)"
   ]
  },
  {
   "cell_type": "markdown",
   "id": "lesser-accountability",
   "metadata": {},
   "source": [
    "### Dynamic Typing"
   ]
  },
  {
   "cell_type": "markdown",
   "id": "abroad-dance",
   "metadata": {},
   "source": [
    "It is worth considering that the **value of a variable has a data type**, but there is no reciprocal relationship. \n",
    "That is to say, **a variable does not have an associated data type**. \n",
    "\n",
    "This allows us to define the concept of **Dynamic Typing**, that is, we can reuse the same variable pointing to a different data type. That is, we use the identifier only as a name."
   ]
  },
  {
   "cell_type": "code",
   "execution_count": 20,
   "id": "measured-palestine",
   "metadata": {
    "ExecuteTime": {
     "end_time": "2021-03-22T19:29:17.307289Z",
     "start_time": "2021-03-22T19:29:17.296292Z"
    }
   },
   "outputs": [
    {
     "data": {
      "text/plain": [
       "100"
      ]
     },
     "execution_count": 20,
     "metadata": {},
     "output_type": "execute_result"
    }
   ],
   "source": [
    "int_num = 100\n",
    "int_num"
   ]
  },
  {
   "cell_type": "code",
   "execution_count": 21,
   "id": "widespread-singles",
   "metadata": {
    "ExecuteTime": {
     "end_time": "2021-03-22T19:11:41.705018Z",
     "start_time": "2021-03-22T19:11:41.692020Z"
    }
   },
   "outputs": [
    {
     "data": {
      "text/plain": [
       "int"
      ]
     },
     "execution_count": 21,
     "metadata": {},
     "output_type": "execute_result"
    }
   ],
   "source": [
    "type(int_num)"
   ]
  },
  {
   "cell_type": "code",
   "execution_count": 22,
   "id": "operating-sustainability",
   "metadata": {
    "ExecuteTime": {
     "end_time": "2021-03-22T19:29:49.984338Z",
     "start_time": "2021-03-22T19:29:49.964338Z"
    }
   },
   "outputs": [
    {
     "data": {
      "text/plain": [
       "3.0"
      ]
     },
     "execution_count": 22,
     "metadata": {},
     "output_type": "execute_result"
    }
   ],
   "source": [
    "# Redefinimos entero:\n",
    "\n",
    "int_num = 3.0\n",
    "int_num"
   ]
  },
  {
   "cell_type": "code",
   "execution_count": 23,
   "id": "informed-warner",
   "metadata": {
    "ExecuteTime": {
     "end_time": "2021-03-22T19:29:51.422847Z",
     "start_time": "2021-03-22T19:29:51.412841Z"
    }
   },
   "outputs": [
    {
     "data": {
      "text/plain": [
       "float"
      ]
     },
     "execution_count": 23,
     "metadata": {},
     "output_type": "execute_result"
    }
   ],
   "source": [
    "type(int_num)"
   ]
  },
  {
   "cell_type": "markdown",
   "id": "consecutive-linux",
   "metadata": {},
   "source": [
    "Flexibility in the declaration of variables does not imply flexibility in the handling of data types.\n",
    "\n",
    "That is, there are operations that are not allowed between different data types (for example, squaring a string). In Python there is data conversion, which consists of changing the data type associated with a certain variable to perform the operation we are looking for."
   ]
  },
  {
   "cell_type": "code",
   "execution_count": 24,
   "id": "58e7c9de-6412-4be1-8672-93094c03aed6",
   "metadata": {},
   "outputs": [
    {
     "ename": "TypeError",
     "evalue": "unsupported operand type(s) for +: 'int' and 'str'",
     "output_type": "error",
     "traceback": [
      "\u001b[1;31m---------------------------------------------------------------------------\u001b[0m",
      "\u001b[1;31mTypeError\u001b[0m                                 Traceback (most recent call last)",
      "Input \u001b[1;32mIn [24]\u001b[0m, in \u001b[0;36m<cell line: 3>\u001b[1;34m()\u001b[0m\n\u001b[0;32m      1\u001b[0m int_num \u001b[38;5;241m=\u001b[39m \u001b[38;5;241m100\u001b[39m\n\u001b[1;32m----> 3\u001b[0m \u001b[43mint_num\u001b[49m\u001b[43m \u001b[49m\u001b[38;5;241;43m+\u001b[39;49m\u001b[43m \u001b[49m\u001b[38;5;124;43m\"\u001b[39;49m\u001b[38;5;124;43mhola\u001b[39;49m\u001b[38;5;124;43m\"\u001b[39;49m\n",
      "\u001b[1;31mTypeError\u001b[0m: unsupported operand type(s) for +: 'int' and 'str'"
     ]
    }
   ],
   "source": [
    "int_num = 100\n",
    "\n",
    "int_num + \"hola\""
   ]
  },
  {
   "cell_type": "markdown",
   "id": "5689808c-bbe0-4141-b8dc-ae234b2c9350",
   "metadata": {
    "tags": []
   },
   "source": [
    "## Transform Data to Other Types\n",
    "\n",
    "We can use the functions \n",
    "\n",
    "- `int()` functions\n",
    "- `float()` functions\n",
    "- `str()`\n",
    "- etc...\n",
    "\n",
    "to transform a data of a given type into another one."
   ]
  },
  {
   "cell_type": "markdown",
   "id": "3eafba9b-e894-40a4-9f6b-befc446fa0d0",
   "metadata": {
    "tags": []
   },
   "source": [
    "### Entero a flotante"
   ]
  },
  {
   "cell_type": "code",
   "execution_count": 85,
   "id": "pressing-canberra",
   "metadata": {
    "ExecuteTime": {
     "end_time": "2021-03-22T19:50:49.771248Z",
     "start_time": "2021-03-22T19:50:49.754221Z"
    }
   },
   "outputs": [
    {
     "data": {
      "text/plain": [
       "3.0"
      ]
     },
     "execution_count": 85,
     "metadata": {},
     "output_type": "execute_result"
    }
   ],
   "source": [
    "float(3)"
   ]
  },
  {
   "cell_type": "code",
   "execution_count": 86,
   "id": "e19afce7-c631-4773-aeca-219200ecaaf8",
   "metadata": {},
   "outputs": [
    {
     "data": {
      "text/plain": [
       "int"
      ]
     },
     "execution_count": 86,
     "metadata": {},
     "output_type": "execute_result"
    }
   ],
   "source": [
    "type(3)"
   ]
  },
  {
   "cell_type": "code",
   "execution_count": 87,
   "id": "53cc9c47-e6eb-4f30-b7eb-6021e7eaead3",
   "metadata": {},
   "outputs": [
    {
     "data": {
      "text/plain": [
       "float"
      ]
     },
     "execution_count": 87,
     "metadata": {},
     "output_type": "execute_result"
    }
   ],
   "source": [
    "type(float(3))"
   ]
  },
  {
   "cell_type": "code",
   "execution_count": 88,
   "id": "0af1724a-cfad-4673-8303-b1c9f4ca2ea7",
   "metadata": {},
   "outputs": [
    {
     "data": {
      "text/plain": [
       "4.1"
      ]
     },
     "execution_count": 88,
     "metadata": {},
     "output_type": "execute_result"
    }
   ],
   "source": [
    "3 + 1.1"
   ]
  },
  {
   "cell_type": "code",
   "execution_count": 89,
   "id": "99fc6d84-771e-4c57-8716-a644cf9829da",
   "metadata": {},
   "outputs": [
    {
     "data": {
      "text/plain": [
       "float"
      ]
     },
     "execution_count": 89,
     "metadata": {},
     "output_type": "execute_result"
    }
   ],
   "source": [
    "type(3 + 1.1)"
   ]
  },
  {
   "cell_type": "markdown",
   "id": "96c2e0d9-597b-491e-9908-4fb7d7491e88",
   "metadata": {},
   "source": [
    "### Floating to integer\n",
    "\n",
    "Note that it loses the decimal part."
   ]
  },
  {
   "cell_type": "code",
   "execution_count": 90,
   "id": "45bd0c6f-53a5-4c15-9413-50556da623ef",
   "metadata": {
    "ExecuteTime": {
     "end_time": "2021-03-22T19:50:37.609745Z",
     "start_time": "2021-03-22T19:50:37.594744Z"
    }
   },
   "outputs": [
    {
     "data": {
      "text/plain": [
       "3"
      ]
     },
     "execution_count": 90,
     "metadata": {},
     "output_type": "execute_result"
    }
   ],
   "source": [
    "int(3.14)"
   ]
  },
  {
   "cell_type": "markdown",
   "id": "6a6dbc63-36d5-43e8-8291-9a84037fb859",
   "metadata": {},
   "source": [
    "### Strings\n",
    "\n",
    "Almost all data can be converted to strings.\n"
   ]
  },
  {
   "cell_type": "code",
   "execution_count": 91,
   "id": "9bb6b59f-1e66-4e8e-b0fa-f865b70ae279",
   "metadata": {},
   "outputs": [
    {
     "data": {
      "text/plain": [
       "'3'"
      ]
     },
     "execution_count": 91,
     "metadata": {},
     "output_type": "execute_result"
    }
   ],
   "source": [
    "str(3)"
   ]
  },
  {
   "cell_type": "code",
   "execution_count": 92,
   "id": "flush-personal",
   "metadata": {
    "ExecuteTime": {
     "end_time": "2021-03-22T19:50:59.858741Z",
     "start_time": "2021-03-22T19:50:59.838753Z"
    }
   },
   "outputs": [
    {
     "data": {
      "text/plain": [
       "'3.14'"
      ]
     },
     "execution_count": 92,
     "metadata": {},
     "output_type": "execute_result"
    }
   ],
   "source": [
    "str(3.14)"
   ]
  },
  {
   "cell_type": "markdown",
   "id": "08cedca2-4422-4d94-9fb4-ba1131977978",
   "metadata": {
    "ExecuteTime": {
     "end_time": "2021-03-22T15:19:06.000262Z",
     "start_time": "2021-03-22T15:19:05.983263Z"
    }
   },
   "source": [
    "But you have to be very careful with the operation in reverse, as python will try to convert it or \"*die trying*\"."
   ]
  },
  {
   "cell_type": "code",
   "execution_count": 93,
   "id": "honey-liquid",
   "metadata": {
    "ExecuteTime": {
     "end_time": "2021-03-22T19:51:36.544668Z",
     "start_time": "2021-03-22T19:51:36.528668Z"
    }
   },
   "outputs": [
    {
     "data": {
      "text/plain": [
       "3.14"
      ]
     },
     "execution_count": 93,
     "metadata": {},
     "output_type": "execute_result"
    }
   ],
   "source": [
    "float('3.14')"
   ]
  },
  {
   "cell_type": "code",
   "execution_count": 94,
   "id": "divided-climate",
   "metadata": {
    "ExecuteTime": {
     "end_time": "2021-03-22T19:51:26.767713Z",
     "start_time": "2021-03-22T19:51:26.748704Z"
    }
   },
   "outputs": [
    {
     "ename": "ValueError",
     "evalue": "could not convert string to float: '3.13aa'",
     "output_type": "error",
     "traceback": [
      "\u001b[1;31m---------------------------------------------------------------------------\u001b[0m",
      "\u001b[1;31mValueError\u001b[0m                                Traceback (most recent call last)",
      "Input \u001b[1;32mIn [94]\u001b[0m, in \u001b[0;36m<cell line: 1>\u001b[1;34m()\u001b[0m\n\u001b[1;32m----> 1\u001b[0m \u001b[38;5;28;43mfloat\u001b[39;49m\u001b[43m(\u001b[49m\u001b[38;5;124;43m'\u001b[39;49m\u001b[38;5;124;43m3.13aa\u001b[39;49m\u001b[38;5;124;43m'\u001b[39;49m\u001b[43m)\u001b[49m\n",
      "\u001b[1;31mValueError\u001b[0m: could not convert string to float: '3.13aa'"
     ]
    }
   ],
   "source": [
    "float('3.13aa')"
   ]
  },
  {
   "cell_type": "markdown",
   "id": "polish-plasma",
   "metadata": {},
   "source": [
    "## Part 3: Operations between data"
   ]
  },
  {
   "cell_type": "markdown",
   "id": "fiscal-encounter",
   "metadata": {},
   "source": [
    "Python operators are special **symbols and keywords** that allow you to perform arithmetic or logical operations on data.\n",
    "\n",
    "Arithmetic:\n",
    "\n",
    "- `+` \n",
    "- `-` \n",
    "- `*`\n",
    "- `/`\n",
    "- `//` (integer division)\n",
    "- `%` (modulus) \n",
    "- `**` (power)\n",
    "\n",
    "Comparison and equality:\n",
    "\n",
    "- `>` y `>=`\n",
    "- `<` y `<=`\n",
    "- `==`\n",
    "\n",
    "Logic:\n",
    "\n",
    "- `and`\n",
    "- `or`\n",
    "- `not`\n",
    "- `is`\n",
    "- `in`\n",
    "- `not in`"
   ]
  },
  {
   "cell_type": "markdown",
   "id": "thorough-milan",
   "metadata": {},
   "source": [
    "### Expression\n",
    "\n",
    "An expression is a combination of values, variables, and operators that can be evaluated by the interpreter.\n",
    "\n",
    "> **Note 🗒️**: Python is interpreted. This means that there is an *interpreter* that converts the code to `bytecode` (code that the processor is able to understand and execute) at the time the code is executed. Another paradigm: Compiled Languages."
   ]
  },
  {
   "cell_type": "markdown",
   "id": "stuck-dollar",
   "metadata": {
    "ExecuteTime": {
     "end_time": "2021-03-22T15:06:13.576207Z",
     "start_time": "2021-03-22T15:06:13.565203Z"
    }
   },
   "source": [
    "### Arithmetic and Comparison  Operators"
   ]
  },
  {
   "cell_type": "markdown",
   "id": "7a877c86",
   "metadata": {},
   "source": [
    "**Sum**\n",
    "\n",
    "> **Question ❓**: What happens to `+` when operating on data of type `float` and `int`?"
   ]
  },
  {
   "cell_type": "code",
   "execution_count": 95,
   "id": "c3f6255a",
   "metadata": {},
   "outputs": [
    {
     "data": {
      "text/plain": [
       "2.0"
      ]
     },
     "execution_count": 95,
     "metadata": {},
     "output_type": "execute_result"
    }
   ],
   "source": [
    "1.0 + 1"
   ]
  },
  {
   "cell_type": "markdown",
   "id": "d3916c1b-6a55-4d58-89dd-a894f89fc06a",
   "metadata": {},
   "source": [
    "#### Integer Division\n",
    "\n",
    "Preserves only the integer part of the division."
   ]
  },
  {
   "cell_type": "code",
   "execution_count": 96,
   "id": "correct-romantic",
   "metadata": {
    "ExecuteTime": {
     "end_time": "2021-03-22T19:35:24.591066Z",
     "start_time": "2021-03-22T19:35:24.571007Z"
    }
   },
   "outputs": [
    {
     "data": {
      "text/plain": [
       "2"
      ]
     },
     "execution_count": 96,
     "metadata": {},
     "output_type": "execute_result"
    }
   ],
   "source": [
    "5 // 2"
   ]
  },
  {
   "cell_type": "markdown",
   "id": "according-cabin",
   "metadata": {},
   "source": [
    "> **Question ❓**: What happens to `//` with when operating on `float` type data?"
   ]
  },
  {
   "cell_type": "code",
   "execution_count": 97,
   "id": "coral-satin",
   "metadata": {
    "ExecuteTime": {
     "end_time": "2021-03-22T19:36:41.810644Z",
     "start_time": "2021-03-22T19:36:41.789647Z"
    }
   },
   "outputs": [
    {
     "data": {
      "text/plain": [
       "1.95"
      ]
     },
     "execution_count": 97,
     "metadata": {},
     "output_type": "execute_result"
    }
   ],
   "source": [
    "3.9 / 2.0"
   ]
  },
  {
   "cell_type": "code",
   "execution_count": 98,
   "id": "former-bermuda",
   "metadata": {
    "ExecuteTime": {
     "end_time": "2021-03-22T19:36:57.964286Z",
     "start_time": "2021-03-22T19:36:57.946286Z"
    },
    "scrolled": true
   },
   "outputs": [
    {
     "data": {
      "text/plain": [
       "1.0"
      ]
     },
     "execution_count": 98,
     "metadata": {},
     "output_type": "execute_result"
    }
   ],
   "source": [
    "3.9 // 2.0"
   ]
  },
  {
   "cell_type": "markdown",
   "id": "f1b3b93e-01cb-425d-9b4e-947ca43e0d00",
   "metadata": {},
   "source": [
    "#### Remainder of a division\n"
   ]
  },
  {
   "cell_type": "code",
   "execution_count": 99,
   "id": "martial-bonus",
   "metadata": {
    "ExecuteTime": {
     "end_time": "2021-03-22T19:35:27.157300Z",
     "start_time": "2021-03-22T19:35:27.139301Z"
    },
    "scrolled": true
   },
   "outputs": [
    {
     "data": {
      "text/plain": [
       "1"
      ]
     },
     "execution_count": 99,
     "metadata": {},
     "output_type": "execute_result"
    }
   ],
   "source": [
    "5 % 2"
   ]
  },
  {
   "cell_type": "markdown",
   "id": "56e4cb85-0ba1-4611-abad-86dc4837a0c8",
   "metadata": {},
   "source": [
    "#### Potentiation \n",
    "\n",
    "2 raised to 3:"
   ]
  },
  {
   "cell_type": "code",
   "execution_count": 100,
   "id": "narrow-salmon",
   "metadata": {
    "ExecuteTime": {
     "end_time": "2021-03-22T19:35:48.238020Z",
     "start_time": "2021-03-22T19:35:48.220022Z"
    }
   },
   "outputs": [
    {
     "data": {
      "text/plain": [
       "8"
      ]
     },
     "execution_count": 100,
     "metadata": {},
     "output_type": "execute_result"
    }
   ],
   "source": [
    "2 ** 3"
   ]
  },
  {
   "cell_type": "code",
   "execution_count": 101,
   "id": "c28e9fb5-ce62-4fe8-9c33-0ca0c01aae5a",
   "metadata": {},
   "outputs": [
    {
     "data": {
      "text/plain": [
       "0.125"
      ]
     },
     "execution_count": 101,
     "metadata": {},
     "output_type": "execute_result"
    }
   ],
   "source": [
    "2 ** -3"
   ]
  },
  {
   "cell_type": "code",
   "execution_count": 102,
   "id": "0484298a-a8c4-46e5-a9dd-150269793eff",
   "metadata": {},
   "outputs": [
    {
     "data": {
      "text/plain": [
       "0.10632848158618281"
      ]
     },
     "execution_count": 102,
     "metadata": {},
     "output_type": "execute_result"
    }
   ],
   "source": [
    "2 ** -3.2334"
   ]
  },
  {
   "cell_type": "markdown",
   "id": "starting-timeline",
   "metadata": {
    "ExecuteTime": {
     "end_time": "2021-03-22T16:35:35.923564Z",
     "start_time": "2021-03-22T16:35:35.905524Z"
    }
   },
   "source": [
    "### Comparison and Equality Operators:"
   ]
  },
  {
   "cell_type": "markdown",
   "id": "6a2b026d-02c2-4630-b5e7-6426295d66f1",
   "metadata": {},
   "source": [
    "#### Equality"
   ]
  },
  {
   "cell_type": "markdown",
   "id": "50eba53f-edc9-4b9b-8462-8ba670319d87",
   "metadata": {},
   "source": [
    "> **Question ❓**: What happens to `==` when we compare different types (`int` with `float` and `string`)?"
   ]
  },
  {
   "cell_type": "code",
   "execution_count": 103,
   "id": "crazy-lighting",
   "metadata": {
    "ExecuteTime": {
     "end_time": "2021-03-22T19:38:19.828468Z",
     "start_time": "2021-03-22T19:38:19.808466Z"
    }
   },
   "outputs": [
    {
     "data": {
      "text/plain": [
       "True"
      ]
     },
     "execution_count": 103,
     "metadata": {},
     "output_type": "execute_result"
    }
   ],
   "source": [
    "2 == 2.0"
   ]
  },
  {
   "cell_type": "code",
   "execution_count": 104,
   "id": "286893f0-738b-4ca1-93c9-069c35872c65",
   "metadata": {},
   "outputs": [
    {
     "data": {
      "text/plain": [
       "False"
      ]
     },
     "execution_count": 104,
     "metadata": {},
     "output_type": "execute_result"
    }
   ],
   "source": [
    "2 == \"2\""
   ]
  },
  {
   "cell_type": "code",
   "execution_count": 105,
   "id": "0f84aab5-35ba-4725-b6e7-4c56565ae649",
   "metadata": {},
   "outputs": [
    {
     "data": {
      "text/plain": [
       "True"
      ]
     },
     "execution_count": 105,
     "metadata": {},
     "output_type": "execute_result"
    }
   ],
   "source": [
    "2 == int(\"2\")"
   ]
  },
  {
   "cell_type": "markdown",
   "id": "a0424b09-7127-4032-93f9-96f3e5db8685",
   "metadata": {},
   "source": [
    "#### Greater and greater than"
   ]
  },
  {
   "cell_type": "markdown",
   "id": "bd87d1bb-049d-4081-8470-146067f91662",
   "metadata": {},
   "source": [
    "> **Pregunta ❓**: ¿Qué sucede con `>`/`>=` cuando comparamos tipos distintos (`int` con `string`)?"
   ]
  },
  {
   "cell_type": "code",
   "execution_count": 106,
   "id": "checked-baker",
   "metadata": {
    "ExecuteTime": {
     "end_time": "2021-03-22T19:39:52.016912Z",
     "start_time": "2021-03-22T19:39:51.989914Z"
    },
    "scrolled": true
   },
   "outputs": [
    {
     "ename": "TypeError",
     "evalue": "'>=' not supported between instances of 'int' and 'str'",
     "output_type": "error",
     "traceback": [
      "\u001b[1;31m---------------------------------------------------------------------------\u001b[0m",
      "\u001b[1;31mTypeError\u001b[0m                                 Traceback (most recent call last)",
      "Input \u001b[1;32mIn [106]\u001b[0m, in \u001b[0;36m<cell line: 1>\u001b[1;34m()\u001b[0m\n\u001b[1;32m----> 1\u001b[0m \u001b[38;5;241;43m3\u001b[39;49m\u001b[43m \u001b[49m\u001b[38;5;241;43m>\u001b[39;49m\u001b[38;5;241;43m=\u001b[39;49m\u001b[43m \u001b[49m\u001b[38;5;124;43m\"\u001b[39;49m\u001b[38;5;124;43m3\u001b[39;49m\u001b[38;5;124;43m\"\u001b[39;49m\n",
      "\u001b[1;31mTypeError\u001b[0m: '>=' not supported between instances of 'int' and 'str'"
     ]
    }
   ],
   "source": [
    "3 >= \"3\""
   ]
  },
  {
   "cell_type": "markdown",
   "id": "twenty-customer",
   "metadata": {},
   "source": [
    "---\n",
    "\n",
    "### Operations with Strings\n",
    "\n",
    "\n",
    "#### Comparison operators"
   ]
  },
  {
   "cell_type": "code",
   "execution_count": 107,
   "id": "df2356b8",
   "metadata": {},
   "outputs": [
    {
     "data": {
      "text/plain": [
       "True"
      ]
     },
     "execution_count": 107,
     "metadata": {},
     "output_type": "execute_result"
    }
   ],
   "source": [
    "'Avocado' == 'Avocado'"
   ]
  },
  {
   "cell_type": "code",
   "execution_count": 108,
   "id": "2884d4b9-fdf1-4683-b461-6d64d8f4692a",
   "metadata": {},
   "outputs": [
    {
     "data": {
      "text/plain": [
       "False"
      ]
     },
     "execution_count": 108,
     "metadata": {},
     "output_type": "execute_result"
    }
   ],
   "source": [
    "'Avocado' == 'Avocado'"
   ]
  },
  {
   "cell_type": "markdown",
   "id": "950d3b4d-ec05-436b-a0f7-b148e78b0b93",
   "metadata": {},
   "source": [
    "> Question ❓: Is it possible to compare with '<'/'<=' and '>'/'>=' strings?\n",
    "\n",
    "\n",
    "See [Lexicographic order in Wikipedia](https://es.wikipedia.org/wiki/Orden_lexicogr%C3%A1fico)."
   ]
  },
  {
   "cell_type": "code",
   "execution_count": 113,
   "id": "55e186ce",
   "metadata": {
    "scrolled": true
   },
   "outputs": [
    {
     "data": {
      "text/plain": [
       "True"
      ]
     },
     "execution_count": 113,
     "metadata": {},
     "output_type": "execute_result"
    }
   ],
   "source": [
    "'Avocado' > 'Asparagus'"
   ]
  },
  {
   "cell_type": "code",
   "execution_count": 114,
   "id": "c193ea0f",
   "metadata": {},
   "outputs": [
    {
     "data": {
      "text/plain": [
       "False"
      ]
     },
     "execution_count": 114,
     "metadata": {},
     "output_type": "execute_result"
    }
   ],
   "source": [
    "'3' > '5'"
   ]
  },
  {
   "cell_type": "markdown",
   "id": "b7c4f15b-a397-4f10-878a-3c88735a456d",
   "metadata": {},
   "source": [
    "#### Concatenation"
   ]
  },
  {
   "cell_type": "code",
   "execution_count": 116,
   "id": "detailed-saver",
   "metadata": {
    "ExecuteTime": {
     "end_time": "2021-03-22T19:40:31.963073Z",
     "start_time": "2021-03-22T19:40:31.949079Z"
    }
   },
   "outputs": [],
   "source": [
    "question = 'do you want a '\n",
    "\n",
    "question_a = 'tea?'\n",
    "question_b = 'coffe?'"
   ]
  },
  {
   "cell_type": "code",
   "execution_count": 117,
   "id": "regional-trauma",
   "metadata": {
    "ExecuteTime": {
     "end_time": "2021-03-22T19:40:32.799073Z",
     "start_time": "2021-03-22T19:40:32.785072Z"
    }
   },
   "outputs": [
    {
     "data": {
      "text/plain": [
       "'do you want a tea?'"
      ]
     },
     "execution_count": 117,
     "metadata": {},
     "output_type": "execute_result"
    }
   ],
   "source": [
    "question + question_a"
   ]
  },
  {
   "cell_type": "markdown",
   "id": "speaking-replica",
   "metadata": {},
   "source": [
    "#### String formatting"
   ]
  },
  {
   "cell_type": "code",
   "execution_count": 118,
   "id": "mounted-transaction",
   "metadata": {
    "ExecuteTime": {
     "end_time": "2021-03-22T19:42:28.638229Z",
     "start_time": "2021-03-22T19:42:28.616228Z"
    }
   },
   "outputs": [
    {
     "data": {
      "text/plain": [
       "'do you want a coffe?'"
      ]
     },
     "execution_count": 118,
     "metadata": {},
     "output_type": "execute_result"
    }
   ],
   "source": [
    "full_question = f\"do you want a {question_b}\"\n",
    "full_question"
   ]
  },
  {
   "cell_type": "markdown",
   "id": "a287f29a-529e-4dd0-8a6c-75082af07821",
   "metadata": {},
   "source": [
    "#### Repeating Strings"
   ]
  },
  {
   "cell_type": "code",
   "execution_count": 119,
   "id": "accessory-pulse",
   "metadata": {
    "ExecuteTime": {
     "end_time": "2021-03-22T19:44:30.723837Z",
     "start_time": "2021-03-22T19:44:30.717836Z"
    },
    "scrolled": true
   },
   "outputs": [
    {
     "data": {
      "text/plain": [
       "'tea?tea?tea?tea?tea?tea?tea?tea?tea?tea?'"
      ]
     },
     "execution_count": 119,
     "metadata": {},
     "output_type": "execute_result"
    }
   ],
   "source": [
    "question_a * 10"
   ]
  },
  {
   "cell_type": "markdown",
   "id": "3339c61b",
   "metadata": {},
   "source": [
    "This is particularly useful when we want to mark separations in the output of a program. For example:"
   ]
  },
  {
   "cell_type": "code",
   "execution_count": 121,
   "id": "10fc3179-18c1-42d1-a51d-56109249a9ed",
   "metadata": {},
   "outputs": [
    {
     "name": "stdout",
     "output_type": "stream",
     "text": [
      "Result of some operation\n",
      "++++++++++++++++++++\n",
      "Result of another operation\n"
     ]
    }
   ],
   "source": [
    "a = \"Result of some operation\"\n",
    "b = \"Result of another operation\"\n",
    "print(a)\n",
    "print('+'*20)\n",
    "print(b)"
   ]
  },
  {
   "cell_type": "markdown",
   "id": "patent-trance",
   "metadata": {
    "ExecuteTime": {
     "end_time": "2021-03-22T15:05:16.889531Z",
     "start_time": "2021-03-22T15:05:16.869533Z"
    }
   },
   "source": [
    "> **Question** : ¿ `a / 10` ? ¿ `a // 10` ? "
   ]
  },
  {
   "cell_type": "code",
   "execution_count": 122,
   "id": "lasting-courage",
   "metadata": {
    "ExecuteTime": {
     "end_time": "2021-03-22T19:44:42.074505Z",
     "start_time": "2021-03-22T19:44:42.061506Z"
    }
   },
   "outputs": [
    {
     "ename": "TypeError",
     "evalue": "unsupported operand type(s) for /: 'str' and 'int'",
     "output_type": "error",
     "traceback": [
      "\u001b[1;31m---------------------------------------------------------------------------\u001b[0m",
      "\u001b[1;31mTypeError\u001b[0m                                 Traceback (most recent call last)",
      "Input \u001b[1;32mIn [122]\u001b[0m, in \u001b[0;36m<cell line: 1>\u001b[1;34m()\u001b[0m\n\u001b[1;32m----> 1\u001b[0m \u001b[43mquestion_a\u001b[49m\u001b[43m \u001b[49m\u001b[38;5;241;43m/\u001b[39;49m\u001b[43m \u001b[49m\u001b[38;5;241;43m10\u001b[39;49m\n",
      "\u001b[1;31mTypeError\u001b[0m: unsupported operand type(s) for /: 'str' and 'int'"
     ]
    }
   ],
   "source": [
    "question_a / 10"
   ]
  },
  {
   "cell_type": "markdown",
   "id": "af4d30de-5447-4d70-8c6f-c46b6e335cd0",
   "metadata": {},
   "source": [
    "#### `in` operator"
   ]
  },
  {
   "cell_type": "code",
   "execution_count": 123,
   "id": "35add86b-206b-42ec-aa74-73690ee2e37a",
   "metadata": {},
   "outputs": [
    {
     "data": {
      "text/plain": [
       "'coffe?'"
      ]
     },
     "execution_count": 123,
     "metadata": {},
     "output_type": "execute_result"
    }
   ],
   "source": [
    "question_b"
   ]
  },
  {
   "cell_type": "code",
   "execution_count": 124,
   "id": "disciplinary-clock",
   "metadata": {
    "ExecuteTime": {
     "end_time": "2021-03-22T19:45:43.393616Z",
     "start_time": "2021-03-22T19:45:43.384616Z"
    }
   },
   "outputs": [
    {
     "data": {
      "text/plain": [
       "False"
      ]
     },
     "execution_count": 124,
     "metadata": {},
     "output_type": "execute_result"
    }
   ],
   "source": [
    "'te' in question_b"
   ]
  },
  {
   "cell_type": "code",
   "execution_count": 126,
   "id": "corrected-shade",
   "metadata": {
    "ExecuteTime": {
     "end_time": "2021-03-22T19:45:46.932781Z",
     "start_time": "2021-03-22T19:45:46.912751Z"
    },
    "scrolled": true
   },
   "outputs": [
    {
     "data": {
      "text/plain": [
       "True"
      ]
     },
     "execution_count": 126,
     "metadata": {},
     "output_type": "execute_result"
    }
   ],
   "source": [
    "'coffe' in question_b"
   ]
  },
  {
   "cell_type": "markdown",
   "id": "538b11d5-4402-4a86-ba33-0644c480dbac",
   "metadata": {},
   "source": [
    "#### Operator `not`"
   ]
  },
  {
   "cell_type": "code",
   "execution_count": 127,
   "id": "specific-kazakhstan",
   "metadata": {
    "ExecuteTime": {
     "end_time": "2021-03-22T19:45:55.867701Z",
     "start_time": "2021-03-22T19:45:55.847673Z"
    }
   },
   "outputs": [
    {
     "data": {
      "text/plain": [
       "True"
      ]
     },
     "execution_count": 127,
     "metadata": {},
     "output_type": "execute_result"
    }
   ],
   "source": [
    "'te' not in question_b"
   ]
  },
  {
   "cell_type": "markdown",
   "id": "42c50381-eea7-42bf-967b-8dea76e3bcb5",
   "metadata": {},
   "source": [
    "### Methods: Functions associated to `strings`."
   ]
  },
  {
   "cell_type": "markdown",
   "id": "7330a8c0-376e-46d0-9772-c941302c06d9",
   "metadata": {},
   "source": [
    "#### Change to uppercase, lowercase, etc..."
   ]
  },
  {
   "cell_type": "code",
   "execution_count": 128,
   "id": "45ea8b6b-1e39-4550-8905-2f533852edf7",
   "metadata": {},
   "outputs": [
    {
     "data": {
      "text/plain": [
       "'do you want a coffe?'"
      ]
     },
     "execution_count": 128,
     "metadata": {},
     "output_type": "execute_result"
    }
   ],
   "source": [
    "full_question"
   ]
  },
  {
   "cell_type": "code",
   "execution_count": 129,
   "id": "satellite-volume",
   "metadata": {
    "ExecuteTime": {
     "end_time": "2021-03-22T19:46:07.738762Z",
     "start_time": "2021-03-22T19:46:07.724763Z"
    }
   },
   "outputs": [
    {
     "name": "stdout",
     "output_type": "stream",
     "text": [
      "Lower: do you want a coffe?\n",
      "Upper: DO YOU WANT A COFFE?\n",
      "Title: Do You Want A Coffe?\n"
     ]
    }
   ],
   "source": [
    "print('Lower:', full_question.lower())\n",
    "print('Upper:', full_question.upper())\n",
    "print('Title:', full_question.title())"
   ]
  },
  {
   "cell_type": "markdown",
   "id": "1caa528f-cd90-4028-a8c8-31a07aba4c32",
   "metadata": {},
   "source": [
    "#### Replace"
   ]
  },
  {
   "cell_type": "code",
   "execution_count": 130,
   "id": "18fe284c-401a-4b4a-87fd-135542e87833",
   "metadata": {},
   "outputs": [
    {
     "data": {
      "text/plain": [
       "'do you want a coffe?'"
      ]
     },
     "execution_count": 130,
     "metadata": {},
     "output_type": "execute_result"
    }
   ],
   "source": [
    "full_question"
   ]
  },
  {
   "cell_type": "code",
   "execution_count": 131,
   "id": "fdaccb71-ea76-4877-850c-ea72c8b8be26",
   "metadata": {},
   "outputs": [
    {
     "data": {
      "text/plain": [
       "'do you want a coffe?'"
      ]
     },
     "execution_count": 131,
     "metadata": {},
     "output_type": "execute_result"
    }
   ],
   "source": [
    "full_question.replace('cafecito', 'tecito')"
   ]
  },
  {
   "cell_type": "markdown",
   "id": "094a6f84-5c15-4855-913f-8813803d79f1",
   "metadata": {},
   "source": [
    "#### Remove spaces at the beginning and end"
   ]
  },
  {
   "cell_type": "code",
   "execution_count": 132,
   "id": "f0e56d04-d520-410e-936f-f2a0d031506f",
   "metadata": {},
   "outputs": [
    {
     "data": {
      "text/plain": [
       "'    hola      '"
      ]
     },
     "execution_count": 132,
     "metadata": {},
     "output_type": "execute_result"
    }
   ],
   "source": [
    "hola = '    hola      '\n",
    "hola"
   ]
  },
  {
   "cell_type": "code",
   "execution_count": 133,
   "id": "76be00e0-c205-4347-ac41-6c01a51d241b",
   "metadata": {},
   "outputs": [
    {
     "data": {
      "text/plain": [
       "'hola'"
      ]
     },
     "execution_count": 133,
     "metadata": {},
     "output_type": "execute_result"
    }
   ],
   "source": [
    "hola.strip()"
   ]
  },
  {
   "cell_type": "markdown",
   "id": "distinguished-basin",
   "metadata": {},
   "source": [
    "More information and methods: \n",
    "    \n",
    "https://www.programiz.com/python-programming/string"
   ]
  },
  {
   "cell_type": "markdown",
   "id": "diagnostic-doctrine",
   "metadata": {
    "tags": []
   },
   "source": [
    "### Boolean operators\n",
    "\n",
    "The following tables show how the logical operations `and`, `or` and `not` work."
   ]
  },
  {
   "cell_type": "markdown",
   "id": "physical-gathering",
   "metadata": {},
   "source": [
    "#### Operator `and`\n",
    "\n",
    "Implements the logical operation `and`."
   ]
  },
  {
   "cell_type": "code",
   "execution_count": 134,
   "id": "empty-episode",
   "metadata": {
    "ExecuteTime": {
     "end_time": "2021-03-22T19:47:25.648406Z",
     "start_time": "2021-03-22T19:47:25.636406Z"
    }
   },
   "outputs": [
    {
     "name": "stdout",
     "output_type": "stream",
     "text": [
      "| Bool1  -  Bool2 |  Resultado\n",
      "------------------------------\n",
      "| True  and True  |  True\n",
      "| False and True  |  False\n",
      "| True  and False |  False\n",
      "| False and False |  False\n"
     ]
    }
   ],
   "source": [
    "print('| Bool1  -  Bool2 |  Resultado')\n",
    "print('-'*30)\n",
    "print('| True  and True  | ', True and True)\n",
    "print('| False and True  | ', False and True)\n",
    "print('| True  and False | ', True and False)\n",
    "print('| False and False | ', False and False)"
   ]
  },
  {
   "cell_type": "markdown",
   "id": "olympic-louisville",
   "metadata": {},
   "source": [
    "#### Operator `or`\n",
    "\n",
    "Implements the logical operation `or`."
   ]
  },
  {
   "cell_type": "code",
   "execution_count": 135,
   "id": "played-breakfast",
   "metadata": {
    "ExecuteTime": {
     "end_time": "2021-03-22T19:47:40.866246Z",
     "start_time": "2021-03-22T19:47:40.858245Z"
    }
   },
   "outputs": [
    {
     "name": "stdout",
     "output_type": "stream",
     "text": [
      "| Bool1  -  Bool2 |  Resultado\n",
      "------------------------------\n",
      "| True  or True  |  True\n",
      "| False or True  |  True\n",
      "| True  or False |  True\n",
      "| False or False |  False\n"
     ]
    }
   ],
   "source": [
    "print('| Bool1  -  Bool2 |  Resultado')\n",
    "print('------------------------------')\n",
    "print('| True  or True  | ', True or True)\n",
    "print('| False or True  | ', False or True)\n",
    "print('| True  or False | ', True or False)\n",
    "print('| False or False | ', False or False)"
   ]
  },
  {
   "cell_type": "markdown",
   "id": "grateful-atlas",
   "metadata": {},
   "source": [
    "#### Operator `not`\n",
    "\n",
    "\n",
    "Implements the logical operation \"negation\"."
   ]
  },
  {
   "cell_type": "code",
   "execution_count": 136,
   "id": "ad43ed3c-e999-41ad-9b5a-56079ccef153",
   "metadata": {},
   "outputs": [
    {
     "name": "stdout",
     "output_type": "stream",
     "text": [
      "| Bool1      |  Resultado\n",
      "-------------------------\n",
      "| not True   |  False\n",
      "| not False  |  True\n"
     ]
    }
   ],
   "source": [
    "print('| Bool1      |  Resultado')\n",
    "print('-------------------------')\n",
    "print('| not True   | ', not True)\n",
    "print('| not False  | ', not False)"
   ]
  },
  {
   "cell_type": "markdown",
   "id": "little-instrumentation",
   "metadata": {
    "ExecuteTime": {
     "end_time": "2021-03-22T15:16:11.183686Z",
     "start_time": "2021-03-22T15:16:11.173687Z"
    }
   },
   "source": [
    "> **Question ❓:** In other languages do `&&` and `||` operators exist in Python?"
   ]
  },
  {
   "cell_type": "markdown",
   "id": "greater-internship",
   "metadata": {},
   "source": [
    "---\n",
    "\n",
    "## Part 4: Flow Control"
   ]
  },
  {
   "cell_type": "markdown",
   "id": "ordinary-navigation",
   "metadata": {},
   "source": [
    "A **Flow Control** structure refers to a type of code structure that allows us to decide whether or not to execute a given code segment based on a Boolean expression or variable:\n",
    "\n",
    "````python\n",
    "\n",
    "if expression_boolean_0:\n",
    "    # I execute this code if expression_boolean_0 is True.\n",
    "    ...  \n",
    "\n",
    "elif boolean_expression_1:\n",
    "    # I execute this code if expression_boolean_1 is `True` and expression_boolean_0 is False.\n",
    "    ...\n",
    "    \n",
    "else:\n",
    "    # I execute this code if expression_boolean_0 and expression_boolean_1 are False.\n",
    "    ...\n",
    "\n",
    "```\n",
    "\n",
    "- Note 1:** You can use ```elif``` as many times as necessary (zero times if you don't need it). \n",
    "- Note 2:**: The keyword ```else``` ends the flow and is optional. That is, you can make\n",
    "a flow control without using ``else``.\n"
   ]
  },
  {
   "cell_type": "markdown",
   "id": "infrared-crossing",
   "metadata": {},
   "source": [
    "### Indented Block\n",
    "\n",
    "\n",
    "It is possible to observe that under each expression ```if```, ```elif``` or ```else```, the corresponding actions are executed 4 spaces further inside. This is known as indentation.\n",
    "\n",
    "In `Python`, each line of code belongs to a *block*. In addition, each block has a hierarchy: in the case of flow control, each keyword defines a 4-space indented block under it. \n",
    "\n",
    "> **Question ❓**: How is block-dependent code handled in other languages?"
   ]
  },
  {
   "cell_type": "code",
   "execution_count": 139,
   "id": "working-garden",
   "metadata": {
    "ExecuteTime": {
     "end_time": "2021-03-22T19:55:30.847496Z",
     "start_time": "2021-03-22T19:55:30.831497Z"
    }
   },
   "outputs": [
    {
     "name": "stdout",
     "output_type": "stream",
     "text": [
      "I do not have what you are requesting 🤷\n"
     ]
    }
   ],
   "source": [
    "question = \"Hello, what would you like to drink?\"\n",
    "\n",
    "answer = 'juice'\n",
    "\n",
    "if 'tea' in answer:\n",
    "    print(\"I'll bring you your 🍵 in a moment.\")\n",
    "    \n",
    "elif answer == 'coffe':\n",
    "    print(\"I'll bring you your ☕ right away.\")\n",
    "    \n",
    "else: \n",
    "    print('I do not have what you are requesting 🤷')"
   ]
  },
  {
   "cell_type": "markdown",
   "id": "a3fa9c2b",
   "metadata": {},
   "source": [
    "\n",
    "We can write compact if/else statements in Python as follows:"
   ]
  },
  {
   "cell_type": "code",
   "execution_count": 140,
   "id": "aff43757",
   "metadata": {},
   "outputs": [],
   "source": [
    "number = 31"
   ]
  },
  {
   "cell_type": "code",
   "execution_count": 143,
   "id": "7ad41866",
   "metadata": {},
   "outputs": [
    {
     "data": {
      "text/plain": [
       "'Odd'"
      ]
     },
     "execution_count": 143,
     "metadata": {},
     "output_type": "execute_result"
    }
   ],
   "source": [
    "if number % 2 == 0:\n",
    "    result = 'Even'\n",
    "else: \n",
    "    result = 'Odd'\n",
    "result"
   ]
  },
  {
   "cell_type": "code",
   "execution_count": 145,
   "id": "0f15a758",
   "metadata": {},
   "outputs": [
    {
     "data": {
      "text/plain": [
       "'Odd'"
      ]
     },
     "execution_count": 145,
     "metadata": {},
     "output_type": "execute_result"
    }
   ],
   "source": [
    "result = 'Even' if number % 2 == 0 else 'Odd'\n",
    "result"
   ]
  },
  {
   "cell_type": "markdown",
   "id": "digital-incentive",
   "metadata": {},
   "source": [
    "---\n",
    "\n",
    "## Part 5: Collections\n",
    "\n",
    "A **collection** is a structure that allows you to store data and operate on it. Some of the possible operations are:\n",
    "- Sorting\n",
    "- Mappings (applying a function to each element)\n",
    "- Filtering\n",
    "- Reduction (aggregate all elements according to some function, for example sum)\n",
    "- Etc... \n",
    "\n",
    "\n",
    "In turn, they can be: \n",
    "\n",
    "1. **Mutables** (lists, sets), which in simple words, allow addition, deletion and modification of their elements. \n",
    "\n",
    "2. **Immutable** (tuples). Their elements cannot be modified,\n",
    "\n",
    "Finally, it is possible to **iterate** (*(Perform a certain action several times)*) on these structures and calculate reduction operations on them (averages, medians, sums, etc ...).\n",
    "\n",
    "For this reason, *iterators are closely related to Python programming for data analysis*."
   ]
  },
  {
   "cell_type": "markdown",
   "id": "dynamic-dragon",
   "metadata": {},
   "source": [
    "## Lists\n",
    "\n",
    "We create the lists using the brackets ([]). "
   ]
  },
  {
   "cell_type": "code",
   "execution_count": 146,
   "id": "racial-optimum",
   "metadata": {
    "ExecuteTime": {
     "end_time": "2021-03-22T19:57:50.566059Z",
     "start_time": "2021-03-22T19:57:50.551060Z"
    }
   },
   "outputs": [
    {
     "data": {
      "text/plain": [
       "[]"
      ]
     },
     "execution_count": 146,
     "metadata": {},
     "output_type": "execute_result"
    }
   ],
   "source": [
    "# List without elements but initialized.\n",
    "empty_list = []\n",
    "empty_list"
   ]
  },
  {
   "cell_type": "code",
   "execution_count": 148,
   "id": "amateur-morocco",
   "metadata": {
    "scrolled": true
   },
   "outputs": [
    {
     "data": {
      "text/plain": [
       "[1, 2, 3]"
      ]
     },
     "execution_count": 148,
     "metadata": {},
     "output_type": "execute_result"
    }
   ],
   "source": [
    "# List with elements\n",
    "list_1 = [1, 2, 3]\n",
    "list_1"
   ]
  },
  {
   "cell_type": "markdown",
   "id": "discrete-filter",
   "metadata": {},
   "source": [
    "We can also create a list with different types of data (including other collections)."
   ]
  },
  {
   "cell_type": "code",
   "execution_count": 149,
   "id": "collaborative-rescue",
   "metadata": {
    "ExecuteTime": {
     "end_time": "2021-03-22T19:58:06.077336Z",
     "start_time": "2021-03-22T19:58:06.062335Z"
    }
   },
   "outputs": [
    {
     "data": {
      "text/plain": [
       "[1, 2, 10.0, 'hola', True, [0, 1, 2]]"
      ]
     },
     "execution_count": 149,
     "metadata": {},
     "output_type": "execute_result"
    }
   ],
   "source": [
    "lista_2 = [1, 2, 10.0, 'hola', True, [0, 1, 2]]\n",
    "lista_2"
   ]
  },
  {
   "cell_type": "markdown",
   "id": "8a5f65bf",
   "metadata": {},
   "source": [
    "> Philosophical Question 🤔: Is it good to do this in data science? What consequences can it have?"
   ]
  },
  {
   "cell_type": "markdown",
   "id": "compound-civilization",
   "metadata": {},
   "source": [
    "And we can access the number of elements in the list using the `len(variable_list)` function."
   ]
  },
  {
   "cell_type": "code",
   "execution_count": 151,
   "id": "adapted-failing",
   "metadata": {
    "ExecuteTime": {
     "end_time": "2021-03-23T13:47:49.256063Z",
     "start_time": "2021-03-23T13:47:49.006052Z"
    }
   },
   "outputs": [
    {
     "data": {
      "text/plain": [
       "6"
      ]
     },
     "execution_count": 151,
     "metadata": {},
     "output_type": "execute_result"
    }
   ],
   "source": [
    "# Length of the list = Number of elements in the list.\n",
    "len(lista_2)"
   ]
  },
  {
   "cell_type": "markdown",
   "id": "orange-operation",
   "metadata": {},
   "source": [
    "### Operaciones con listas"
   ]
  },
  {
   "cell_type": "markdown",
   "id": "cleared-mattress",
   "metadata": {},
   "source": [
    "#### Indexed: How to access certain items in the list\n",
    "\n",
    "\n",
    "Each element of a list is associated with an index, which identifies the position of the element within the list.\n",
    "```python\n",
    "lista = ['Grapes 🍇', 'Melon 🍈', 'Watermelon 🍉', 'Apricot 🍊', 'Lemon 🍋']]\n",
    "indices -> [ 0 1 2 3 4 ] \n",
    "\n",
    "```\n",
    "\n",
    "We can access a certain element of the list using the following syntax \n",
    "\n",
    "```python\n",
    "lista[index]\n",
    "```\n",
    "\n"
   ]
  },
  {
   "cell_type": "code",
   "execution_count": 180,
   "id": "6b0ef001-0d3c-4489-825f-b4683abd90d8",
   "metadata": {
    "ExecuteTime": {
     "end_time": "2021-03-22T19:59:05.476354Z",
     "start_time": "2021-03-22T19:59:05.461354Z"
    }
   },
   "outputs": [
    {
     "data": {
      "text/plain": [
       "5"
      ]
     },
     "execution_count": 180,
     "metadata": {},
     "output_type": "execute_result"
    }
   ],
   "source": [
    "lista = ['Grapes 🍇', 'Melon 🍈', 'Watermelon 🍉', 'Apricot 🍊', 'Lemon 🍋']\n",
    "\n",
    "# len(list) allows us to see the number of elements contained in the list.\n",
    "\n",
    "len(lista)"
   ]
  },
  {
   "cell_type": "code",
   "execution_count": 181,
   "id": "premium-contribution",
   "metadata": {},
   "outputs": [
    {
     "data": {
      "text/plain": [
       "'Grapes 🍇'"
      ]
     },
     "execution_count": 181,
     "metadata": {},
     "output_type": "execute_result"
    }
   ],
   "source": [
    "lista[0]"
   ]
  },
  {
   "cell_type": "code",
   "execution_count": 182,
   "id": "younger-harbor",
   "metadata": {
    "ExecuteTime": {
     "end_time": "2021-03-22T19:59:13.168055Z",
     "start_time": "2021-03-22T19:59:13.158028Z"
    }
   },
   "outputs": [
    {
     "data": {
      "text/plain": [
       "'Melon 🍈'"
      ]
     },
     "execution_count": 182,
     "metadata": {},
     "output_type": "execute_result"
    }
   ],
   "source": [
    "lista[1]"
   ]
  },
  {
   "cell_type": "markdown",
   "id": "a97d1d41-3d68-4f31-b9e5-5807015c6ab3",
   "metadata": {},
   "source": [
    "Negative indexing allows us to start from the last element to the first one.\n"
   ]
  },
  {
   "cell_type": "code",
   "execution_count": 183,
   "id": "beautiful-prayer",
   "metadata": {
    "ExecuteTime": {
     "end_time": "2021-03-22T19:59:30.685686Z",
     "start_time": "2021-03-22T19:59:30.673688Z"
    }
   },
   "outputs": [
    {
     "data": {
      "text/plain": [
       "'Lemon 🍋'"
      ]
     },
     "execution_count": 183,
     "metadata": {},
     "output_type": "execute_result"
    }
   ],
   "source": [
    "lista[-1]"
   ]
  },
  {
   "cell_type": "markdown",
   "id": "8c43cf2a-8e1c-4ce1-ab18-ff87641f4b02",
   "metadata": {
    "jp-MarkdownHeadingCollapsed": true,
    "tags": []
   },
   "source": [
    "Indices start from zero. Then, to remove element i, we have to subtract 1 from it."
   ]
  },
  {
   "cell_type": "code",
   "execution_count": 184,
   "id": "competitive-valuation",
   "metadata": {
    "ExecuteTime": {
     "end_time": "2021-03-22T20:01:32.006964Z",
     "start_time": "2021-03-22T20:01:31.991966Z"
    }
   },
   "outputs": [
    {
     "data": {
      "text/plain": [
       "'Lemon 🍋'"
      ]
     },
     "execution_count": 184,
     "metadata": {},
     "output_type": "execute_result"
    }
   ],
   "source": [
    "# El código anterior es equivalente a algo similar a esto:\n",
    "lista[len(lista) - 1]"
   ]
  },
  {
   "cell_type": "code",
   "execution_count": 185,
   "id": "determined-olympus",
   "metadata": {
    "ExecuteTime": {
     "end_time": "2021-03-22T20:01:41.166890Z",
     "start_time": "2021-03-22T20:01:41.153886Z"
    }
   },
   "outputs": [
    {
     "data": {
      "text/plain": [
       "'Lemon 🍋'"
      ]
     },
     "execution_count": 185,
     "metadata": {},
     "output_type": "execute_result"
    }
   ],
   "source": [
    "lista[-1]"
   ]
  },
  {
   "cell_type": "markdown",
   "id": "widespread-serbia",
   "metadata": {},
   "source": [
    "We can mutate a value in a list using \n",
    "\n",
    "```python\n",
    "lista[index] = new_value\n",
    "```"
   ]
  },
  {
   "cell_type": "code",
   "execution_count": 186,
   "id": "defined-allergy",
   "metadata": {},
   "outputs": [
    {
     "data": {
      "text/plain": [
       "['Grapes 🍇', 'Melon 🍈', 'Watermelon 🍉', 'Apricot 🍊', 'Lemon 🍋']"
      ]
     },
     "execution_count": 186,
     "metadata": {},
     "output_type": "execute_result"
    }
   ],
   "source": [
    "lista"
   ]
  },
  {
   "cell_type": "code",
   "execution_count": 187,
   "id": "threatened-channel",
   "metadata": {
    "scrolled": true
   },
   "outputs": [
    {
     "data": {
      "text/plain": [
       "['Manzana🍏', 'Melon 🍈', 'Watermelon 🍉', 'Apricot 🍊', 'Lemon 🍋']"
      ]
     },
     "execution_count": 187,
     "metadata": {},
     "output_type": "execute_result"
    }
   ],
   "source": [
    "lista[0] = 'Manzana🍏' # Modify the element at index 0 to '🍏 '.\n",
    "lista"
   ]
  },
  {
   "cell_type": "markdown",
   "id": "tracked-quality",
   "metadata": {},
   "source": [
    "Note: We can simulate matrices through lists of lists."
   ]
  },
  {
   "cell_type": "code",
   "execution_count": 188,
   "id": "driven-vacuum",
   "metadata": {
    "ExecuteTime": {
     "end_time": "2021-03-22T20:02:01.976235Z",
     "start_time": "2021-03-22T20:02:01.959238Z"
    }
   },
   "outputs": [
    {
     "data": {
      "text/plain": [
       "[7, 8, 9]"
      ]
     },
     "execution_count": 188,
     "metadata": {},
     "output_type": "execute_result"
    }
   ],
   "source": [
    "matrix = [\n",
    "    [1, 2, 3], \n",
    "    [4, 5, 6], \n",
    "    [7, 8, 9]\n",
    "]\n",
    "\n",
    "matrix[2]  # i = Third row"
   ]
  },
  {
   "cell_type": "markdown",
   "id": "e0a06c34",
   "metadata": {},
   "source": [
    "Since we have a list with lists, the first index brings us a complete list, and with a second index we can extract a single value from the array."
   ]
  },
  {
   "cell_type": "code",
   "execution_count": 189,
   "id": "english-missile",
   "metadata": {
    "ExecuteTime": {
     "end_time": "2021-03-22T20:02:26.495024Z",
     "start_time": "2021-03-22T20:02:26.487026Z"
    },
    "scrolled": true
   },
   "outputs": [
    {
     "data": {
      "text/plain": [
       "7"
      ]
     },
     "execution_count": 189,
     "metadata": {},
     "output_type": "execute_result"
    }
   ],
   "source": [
    "# To access an element of the matrix, we can use a double indexing.\n",
    "\n",
    "matrix[2][0] # i = Third row, j = first column"
   ]
  },
  {
   "cell_type": "markdown",
   "id": "respected-principal",
   "metadata": {},
   "source": [
    "#### Slice: Select a sublist from certain indexes.\n",
    "\n",
    "Note that this operation returns a new list with references to the data of the original list (it does not copy them)."
   ]
  },
  {
   "cell_type": "code",
   "execution_count": 190,
   "id": "different-uzbekistan",
   "metadata": {
    "ExecuteTime": {
     "end_time": "2021-03-22T20:02:49.919181Z",
     "start_time": "2021-03-22T20:02:49.901179Z"
    }
   },
   "outputs": [
    {
     "data": {
      "text/plain": [
       "['Grapes 🍇', 'Melon 🍈', 'Watermelon 🍉', 'Apricot 🍊', 'Lemon 🍋']"
      ]
     },
     "execution_count": 190,
     "metadata": {},
     "output_type": "execute_result"
    }
   ],
   "source": [
    "lista_3 = ['Grapes 🍇', 'Melon 🍈', 'Watermelon 🍉', 'Apricot 🍊', 'Lemon 🍋']\n",
    "\n",
    "lista_3[:]"
   ]
  },
  {
   "cell_type": "markdown",
   "id": "mighty-first",
   "metadata": {},
   "source": [
    "#### Append: Adds an element to the end of the list.\n",
    "\n",
    "This operation mutates the original list"
   ]
  },
  {
   "cell_type": "code",
   "execution_count": 191,
   "id": "banner-cowboy",
   "metadata": {
    "ExecuteTime": {
     "end_time": "2021-03-22T20:06:11.031940Z",
     "start_time": "2021-03-22T20:06:11.021910Z"
    }
   },
   "outputs": [
    {
     "data": {
      "text/plain": [
       "['Grapes 🍇', 'Melon 🍈', 'Watermelon 🍉', 'Apricot 🍊', 'Lemon 🍋', 'Manzana 🍎']"
      ]
     },
     "execution_count": 191,
     "metadata": {},
     "output_type": "execute_result"
    }
   ],
   "source": [
    "lista = ['Grapes 🍇', 'Melon 🍈', 'Watermelon 🍉', 'Apricot 🍊', 'Lemon 🍋']\n",
    "\n",
    "lista.append('Manzana 🍎')\n",
    "lista"
   ]
  },
  {
   "cell_type": "markdown",
   "id": "functioning-header",
   "metadata": {
    "ExecuteTime": {
     "end_time": "2021-03-22T17:22:38.838554Z",
     "start_time": "2021-03-22T17:22:38.823544Z"
    }
   },
   "source": [
    "> **Question**: What happens if we run it again?"
   ]
  },
  {
   "cell_type": "code",
   "execution_count": 192,
   "id": "amino-commodity",
   "metadata": {
    "ExecuteTime": {
     "end_time": "2021-03-22T20:06:24.586145Z",
     "start_time": "2021-03-22T20:06:24.575142Z"
    }
   },
   "outputs": [
    {
     "data": {
      "text/plain": [
       "['Grapes 🍇',\n",
       " 'Melon 🍈',\n",
       " 'Watermelon 🍉',\n",
       " 'Apricot 🍊',\n",
       " 'Lemon 🍋',\n",
       " 'Manzana 🍎',\n",
       " 'Manzana 🍎']"
      ]
     },
     "execution_count": 192,
     "metadata": {},
     "output_type": "execute_result"
    }
   ],
   "source": [
    "lista.append('Manzana 🍎')\n",
    "lista"
   ]
  },
  {
   "cell_type": "code",
   "execution_count": 193,
   "id": "1fd560f9-dfe4-4378-ab26-64fa2f1e1297",
   "metadata": {},
   "outputs": [
    {
     "data": {
      "text/plain": [
       "['Grapes 🍇',\n",
       " 'Melon 🍈',\n",
       " 'Watermelon 🍉',\n",
       " 'Apricot 🍊',\n",
       " 'Lemon 🍋',\n",
       " 'Manzana 🍎',\n",
       " 'Manzana 🍎']"
      ]
     },
     "execution_count": 193,
     "metadata": {},
     "output_type": "execute_result"
    }
   ],
   "source": [
    "lista"
   ]
  },
  {
   "cell_type": "markdown",
   "id": "proof-vaccine",
   "metadata": {
    "ExecuteTime": {
     "end_time": "2021-03-22T17:25:28.562746Z",
     "start_time": "2021-03-22T17:25:28.552750Z"
    }
   },
   "source": [
    "#### Concatenation of lists\n",
    "\n",
    "Lists can also be concatenated. These lists will generate a **new list** instead of mutating the source list."
   ]
  },
  {
   "cell_type": "code",
   "execution_count": 194,
   "id": "copyrighted-schema",
   "metadata": {
    "ExecuteTime": {
     "end_time": "2021-03-23T13:48:20.670219Z",
     "start_time": "2021-03-23T13:48:20.651210Z"
    }
   },
   "outputs": [
    {
     "data": {
      "text/plain": [
       "['Grapes 🍇',\n",
       " 'Melon 🍈',\n",
       " 'Watermelon 🍉',\n",
       " 'Apricot 🍊',\n",
       " 'Lemon 🍋',\n",
       " 'Apple 🍎',\n",
       " 'Banana 🍌',\n",
       " 'Pineapple 🍍']"
      ]
     },
     "execution_count": 194,
     "metadata": {},
     "output_type": "execute_result"
    }
   ],
   "source": [
    "# We clean the list before the original one we had.\n",
    "lista = ['Grapes 🍇', 'Melon 🍈', 'Watermelon 🍉', 'Apricot 🍊', 'Lemon 🍋']\n",
    "\n",
    "# Concatenate\n",
    "new_list = lista + ['Apple 🍎', 'Banana 🍌', 'Pineapple 🍍']\n",
    "new_list"
   ]
  },
  {
   "cell_type": "code",
   "execution_count": 195,
   "id": "6ae613d3-dee6-45b3-9407-a056cc7d7976",
   "metadata": {},
   "outputs": [
    {
     "data": {
      "text/plain": [
       "['Piña 🍍', 'Grapes 🍇', 'Melon 🍈', 'Watermelon 🍉', 'Apricot 🍊', 'Lemon 🍋']"
      ]
     },
     "execution_count": 195,
     "metadata": {},
     "output_type": "execute_result"
    }
   ],
   "source": [
    "['Piña 🍍'] + lista"
   ]
  },
  {
   "cell_type": "markdown",
   "id": "identified-terrorist",
   "metadata": {},
   "source": [
    "#### Pop: Removes from the list the element indicated by a certain index.\n",
    "\n",
    "Remark: If it does not find an element at the specified index, it raises an exception and terminates the execution of the program."
   ]
  },
  {
   "cell_type": "code",
   "execution_count": 196,
   "id": "threaded-future",
   "metadata": {
    "ExecuteTime": {
     "end_time": "2021-03-23T13:48:26.935898Z",
     "start_time": "2021-03-23T13:48:26.915897Z"
    }
   },
   "outputs": [
    {
     "data": {
      "text/plain": [
       "'Melon 🍈'"
      ]
     },
     "execution_count": 196,
     "metadata": {},
     "output_type": "execute_result"
    }
   ],
   "source": [
    "lista.pop(1)"
   ]
  },
  {
   "cell_type": "code",
   "execution_count": 197,
   "id": "monetary-theater",
   "metadata": {
    "ExecuteTime": {
     "end_time": "2021-03-23T13:48:27.708582Z",
     "start_time": "2021-03-23T13:48:27.698582Z"
    }
   },
   "outputs": [
    {
     "ename": "IndexError",
     "evalue": "pop index out of range",
     "output_type": "error",
     "traceback": [
      "\u001b[1;31m---------------------------------------------------------------------------\u001b[0m",
      "\u001b[1;31mIndexError\u001b[0m                                Traceback (most recent call last)",
      "Input \u001b[1;32mIn [197]\u001b[0m, in \u001b[0;36m<cell line: 1>\u001b[1;34m()\u001b[0m\n\u001b[1;32m----> 1\u001b[0m \u001b[43mlista\u001b[49m\u001b[38;5;241;43m.\u001b[39;49m\u001b[43mpop\u001b[49m\u001b[43m(\u001b[49m\u001b[38;5;241;43m100\u001b[39;49m\u001b[43m)\u001b[49m\n",
      "\u001b[1;31mIndexError\u001b[0m: pop index out of range"
     ]
    }
   ],
   "source": [
    "lista.pop(100)"
   ]
  },
  {
   "cell_type": "markdown",
   "id": "behavioral-master",
   "metadata": {
    "ExecuteTime": {
     "end_time": "2021-03-22T18:06:52.967997Z",
     "start_time": "2021-03-22T18:06:52.953004Z"
    }
   },
   "source": [
    "#### Sorting\n",
    "\n",
    "Note: Sorts according to how >= is defined for the data."
   ]
  },
  {
   "cell_type": "code",
   "execution_count": 198,
   "id": "persistent-stretch",
   "metadata": {
    "ExecuteTime": {
     "end_time": "2021-03-23T13:48:32.069063Z",
     "start_time": "2021-03-23T13:48:32.052063Z"
    },
    "scrolled": true
   },
   "outputs": [
    {
     "data": {
      "text/plain": [
       "[-8, -3, 0, 0, 1, 2, 3, 10]"
      ]
     },
     "execution_count": 198,
     "metadata": {},
     "output_type": "execute_result"
    }
   ],
   "source": [
    "# Orden numérico.\n",
    "unsorted_list = [10, 3, 2, -8, 1, 0, 0, -3]\n",
    "unsorted_list.sort()\n",
    "unsorted_list"
   ]
  },
  {
   "cell_type": "markdown",
   "id": "cf31b50d-fa59-4b87-979f-ccd6924a2f97",
   "metadata": {},
   "source": [
    "The lexicographic order is also used for string sorting"
   ]
  },
  {
   "cell_type": "code",
   "execution_count": 199,
   "id": "aggressive-production",
   "metadata": {
    "ExecuteTime": {
     "end_time": "2021-03-23T13:48:32.845205Z",
     "start_time": "2021-03-23T13:48:32.829250Z"
    }
   },
   "outputs": [
    {
     "data": {
      "text/plain": [
       "['Viennese 🍖', 'avocado 🥑', 'bread 🥖', 'ketchup 🍶', 'mayo 🍶', 'tomato 🍅']"
      ]
     },
     "execution_count": 199,
     "metadata": {},
     "output_type": "execute_result"
    }
   ],
   "source": [
    "# Using lists with strings is done with lexicographic order.\n",
    "unsorted_list_2 = ['Viennese 🍖', 'bread 🥖', 'tomato 🍅', 'avocado 🥑', 'mayo 🍶', 'ketchup 🍶']\n",
    "unsorted_list_2.sort()\n",
    "unsorted_list_2"
   ]
  },
  {
   "cell_type": "markdown",
   "id": "metropolitan-nashville",
   "metadata": {},
   "source": [
    "#### Index: Searches for the delivered item in the list and returns its index."
   ]
  },
  {
   "cell_type": "code",
   "execution_count": 200,
   "id": "modular-maximum",
   "metadata": {
    "ExecuteTime": {
     "end_time": "2021-03-23T13:49:32.322633Z",
     "start_time": "2021-03-23T13:49:32.302594Z"
    }
   },
   "outputs": [
    {
     "data": {
      "text/plain": [
       "['Grapes 🍇', 'Melon 🍈', 'Watermelon 🍉', 'Apricot 🍊', 'Lemon 🍋']"
      ]
     },
     "execution_count": 200,
     "metadata": {},
     "output_type": "execute_result"
    }
   ],
   "source": [
    "# We remember that there was in list\n",
    "lista = ['Grapes 🍇', 'Melon 🍈', 'Watermelon 🍉', 'Apricot 🍊', 'Lemon 🍋']\n",
    "lista"
   ]
  },
  {
   "cell_type": "code",
   "execution_count": 201,
   "id": "allied-coral",
   "metadata": {
    "ExecuteTime": {
     "end_time": "2021-03-23T13:49:33.304645Z",
     "start_time": "2021-03-23T13:49:33.291629Z"
    },
    "scrolled": true
   },
   "outputs": [
    {
     "data": {
      "text/plain": [
       "2"
      ]
     },
     "execution_count": 201,
     "metadata": {},
     "output_type": "execute_result"
    }
   ],
   "source": [
    "lista.index('Watermelon 🍉')"
   ]
  },
  {
   "cell_type": "code",
   "execution_count": 202,
   "id": "amended-congress",
   "metadata": {
    "ExecuteTime": {
     "end_time": "2021-03-23T13:49:36.762155Z",
     "start_time": "2021-03-23T13:49:36.746124Z"
    }
   },
   "outputs": [
    {
     "ename": "ValueError",
     "evalue": "'Blueberry 🫐' is not in list",
     "output_type": "error",
     "traceback": [
      "\u001b[1;31m---------------------------------------------------------------------------\u001b[0m",
      "\u001b[1;31mValueError\u001b[0m                                Traceback (most recent call last)",
      "Input \u001b[1;32mIn [202]\u001b[0m, in \u001b[0;36m<cell line: 1>\u001b[1;34m()\u001b[0m\n\u001b[1;32m----> 1\u001b[0m \u001b[43mlista\u001b[49m\u001b[38;5;241;43m.\u001b[39;49m\u001b[43mindex\u001b[49m\u001b[43m(\u001b[49m\u001b[38;5;124;43m'\u001b[39;49m\u001b[38;5;124;43mBlueberry 🫐\u001b[39;49m\u001b[38;5;124;43m'\u001b[39;49m\u001b[43m)\u001b[49m\n",
      "\u001b[1;31mValueError\u001b[0m: 'Blueberry 🫐' is not in list"
     ]
    }
   ],
   "source": [
    "lista.index('Blueberry 🫐')"
   ]
  },
  {
   "cell_type": "markdown",
   "id": "graduate-alignment",
   "metadata": {},
   "source": [
    "You can find a complete guide here of all the methods (functions) you can run with a list:\n",
    "    \n",
    "https://www.programiz.com/python-programming/list"
   ]
  },
  {
   "cell_type": "markdown",
   "id": "advanced-administrator",
   "metadata": {
    "ExecuteTime": {
     "end_time": "2021-03-22T18:01:08.375069Z",
     "start_time": "2021-03-22T18:01:08.362071Z"
    },
    "tags": []
   },
   "source": [
    "### Parentheses: Strings.\n",
    "\n",
    "Strings are a special type of list that is not mutable, but can be indexed."
   ]
  },
  {
   "cell_type": "code",
   "execution_count": 203,
   "id": "c51d0fa6-9587-4124-977e-cbaa37af6bb9",
   "metadata": {},
   "outputs": [
    {
     "data": {
      "text/plain": [
       "['j', 'u', 'a', 'n']"
      ]
     },
     "execution_count": 203,
     "metadata": {},
     "output_type": "execute_result"
    }
   ],
   "source": [
    "['j', 'u', 'a', 'n']"
   ]
  },
  {
   "cell_type": "code",
   "execution_count": 204,
   "id": "derived-identifier",
   "metadata": {
    "ExecuteTime": {
     "end_time": "2021-03-22T20:03:15.091952Z",
     "start_time": "2021-03-22T20:03:15.076952Z"
    }
   },
   "outputs": [
    {
     "data": {
      "text/plain": [
       "'an'"
      ]
     },
     "execution_count": 204,
     "metadata": {},
     "output_type": "execute_result"
    }
   ],
   "source": [
    "name = 'Juan'\n",
    "name[2:4]"
   ]
  },
  {
   "cell_type": "markdown",
   "id": "final-nicaragua",
   "metadata": {},
   "source": [
    "They can also be converted to list, and lists to string."
   ]
  },
  {
   "cell_type": "code",
   "execution_count": 205,
   "id": "olive-meeting",
   "metadata": {
    "ExecuteTime": {
     "end_time": "2021-03-22T20:03:39.934091Z",
     "start_time": "2021-03-22T20:03:39.916065Z"
    }
   },
   "outputs": [
    {
     "data": {
      "text/plain": [
       "['J', 'u', 'a', 'n']"
      ]
     },
     "execution_count": 205,
     "metadata": {},
     "output_type": "execute_result"
    }
   ],
   "source": [
    "list(name)"
   ]
  },
  {
   "cell_type": "code",
   "execution_count": 206,
   "id": "immune-endorsement",
   "metadata": {
    "ExecuteTime": {
     "end_time": "2021-03-22T20:03:54.221041Z",
     "start_time": "2021-03-22T20:03:54.207054Z"
    }
   },
   "outputs": [
    {
     "data": {
      "text/plain": [
       "\"['J', 'u', 'a', 'n']\""
      ]
     },
     "execution_count": 206,
     "metadata": {},
     "output_type": "execute_result"
    }
   ],
   "source": [
    "str(['J', 'u', 'a', 'n'])"
   ]
  },
  {
   "cell_type": "code",
   "execution_count": 207,
   "id": "d46b8d7b-185e-46c0-8a40-557815d7790e",
   "metadata": {},
   "outputs": [
    {
     "data": {
      "text/plain": [
       "'Juan'"
      ]
     },
     "execution_count": 207,
     "metadata": {},
     "output_type": "execute_result"
    }
   ],
   "source": [
    "''.join(['J', 'u', 'a', 'n'])"
   ]
  },
  {
   "cell_type": "markdown",
   "id": "organic-strap",
   "metadata": {},
   "source": [
    "And we can separate/join them according to some character"
   ]
  },
  {
   "cell_type": "code",
   "execution_count": 210,
   "id": "australian-summer",
   "metadata": {
    "ExecuteTime": {
     "end_time": "2021-03-22T20:04:50.394800Z",
     "start_time": "2021-03-22T20:04:50.386782Z"
    }
   },
   "outputs": [
    {
     "data": {
      "text/plain": [
       "['Juan', 'eats', 'vegetables']"
      ]
     },
     "execution_count": 210,
     "metadata": {},
     "output_type": "execute_result"
    }
   ],
   "source": [
    "'Juan eats vegetables'.split(' ')"
   ]
  },
  {
   "cell_type": "code",
   "execution_count": 212,
   "id": "sonic-meaning",
   "metadata": {
    "ExecuteTime": {
     "end_time": "2021-03-22T20:05:39.326724Z",
     "start_time": "2021-03-22T20:05:39.315728Z"
    }
   },
   "outputs": [
    {
     "data": {
      "text/plain": [
       "'Juan-eats-vegetables'"
      ]
     },
     "execution_count": 212,
     "metadata": {},
     "output_type": "execute_result"
    }
   ],
   "source": [
    "# The string you put before the join will be the one that joins the strings of the array. \n",
    "# In this case, they will be joined with '-'.\n",
    "'-'.join(['Juan', 'eats', 'vegetables'])"
   ]
  },
  {
   "cell_type": "markdown",
   "id": "experimental-store",
   "metadata": {
    "ExecuteTime": {
     "end_time": "2021-03-22T18:13:21.155383Z",
     "start_time": "2021-03-22T18:13:21.138410Z"
    }
   },
   "source": [
    "## Tuples\n",
    "\n",
    "Tuples follow the same principle as lists in terms of storing data, however, unlike lists, tuples are **inmutable**. An advantage over lists is that **they are more computationally efficient and lighter weight**. "
   ]
  },
  {
   "cell_type": "code",
   "execution_count": 213,
   "id": "incorporated-coffee",
   "metadata": {
    "ExecuteTime": {
     "end_time": "2021-03-23T13:49:58.837087Z",
     "start_time": "2021-03-23T13:49:58.819087Z"
    }
   },
   "outputs": [
    {
     "data": {
      "text/plain": [
       "(1, 2, 3)"
      ]
     },
     "execution_count": 213,
     "metadata": {},
     "output_type": "execute_result"
    }
   ],
   "source": [
    "# Parentheses are used to create them.\n",
    "\n",
    "tupla = (1, 2, 3)\n",
    "tupla"
   ]
  },
  {
   "cell_type": "markdown",
   "id": "textile-table",
   "metadata": {},
   "source": [
    "Like lists, their elements can be accessed through indexing (starting from 0!)."
   ]
  },
  {
   "cell_type": "code",
   "execution_count": 214,
   "id": "unlimited-candidate",
   "metadata": {
    "ExecuteTime": {
     "end_time": "2021-03-23T13:50:00.583597Z",
     "start_time": "2021-03-23T13:50:00.564640Z"
    }
   },
   "outputs": [
    {
     "data": {
      "text/plain": [
       "1"
      ]
     },
     "execution_count": 214,
     "metadata": {},
     "output_type": "execute_result"
    }
   ],
   "source": [
    "tupla[0]"
   ]
  },
  {
   "cell_type": "code",
   "execution_count": 215,
   "id": "decent-partition",
   "metadata": {
    "ExecuteTime": {
     "end_time": "2021-03-23T13:50:01.245933Z",
     "start_time": "2021-03-23T13:50:01.227906Z"
    }
   },
   "outputs": [
    {
     "data": {
      "text/plain": [
       "3"
      ]
     },
     "execution_count": 215,
     "metadata": {},
     "output_type": "execute_result"
    }
   ],
   "source": [
    "tupla[-1]"
   ]
  },
  {
   "cell_type": "code",
   "execution_count": 216,
   "id": "standard-birmingham",
   "metadata": {
    "ExecuteTime": {
     "end_time": "2021-03-23T13:50:01.811887Z",
     "start_time": "2021-03-23T13:50:01.803886Z"
    }
   },
   "outputs": [
    {
     "data": {
      "text/plain": [
       "(1, 2)"
      ]
     },
     "execution_count": 216,
     "metadata": {},
     "output_type": "execute_result"
    }
   ],
   "source": [
    "tupla[0:2]"
   ]
  },
  {
   "cell_type": "markdown",
   "id": "medium-mining",
   "metadata": {},
   "source": [
    "> **Question**: What happens if we try to change a value in a tuple?"
   ]
  },
  {
   "cell_type": "code",
   "execution_count": 217,
   "id": "primary-doctrine",
   "metadata": {
    "ExecuteTime": {
     "end_time": "2021-03-22T20:10:48.920390Z",
     "start_time": "2021-03-22T20:10:48.909387Z"
    }
   },
   "outputs": [
    {
     "ename": "TypeError",
     "evalue": "'tuple' object does not support item assignment",
     "output_type": "error",
     "traceback": [
      "\u001b[1;31m---------------------------------------------------------------------------\u001b[0m",
      "\u001b[1;31mTypeError\u001b[0m                                 Traceback (most recent call last)",
      "Input \u001b[1;32mIn [217]\u001b[0m, in \u001b[0;36m<cell line: 1>\u001b[1;34m()\u001b[0m\n\u001b[1;32m----> 1\u001b[0m tupla[\u001b[38;5;241m0\u001b[39m] \u001b[38;5;241m=\u001b[39m \u001b[38;5;241m1\u001b[39m\n",
      "\u001b[1;31mTypeError\u001b[0m: 'tuple' object does not support item assignment"
     ]
    }
   ],
   "source": [
    "tupla[0] = 1"
   ]
  },
  {
   "cell_type": "markdown",
   "id": "1cf52fde-7625-410e-b072-e53ef6c0ac03",
   "metadata": {},
   "source": [
    "> **Question**: How could I add new elements to a tuple?"
   ]
  },
  {
   "cell_type": "code",
   "execution_count": 218,
   "id": "03544ab5-eba6-4337-85fe-52ebecac9376",
   "metadata": {},
   "outputs": [
    {
     "data": {
      "text/plain": [
       "(1, 2, 3, 4)"
      ]
     },
     "execution_count": 218,
     "metadata": {},
     "output_type": "execute_result"
    }
   ],
   "source": [
    "nueva_tupla = (1, 2, 3, 4)\n",
    "nueva_tupla"
   ]
  },
  {
   "cell_type": "markdown",
   "id": "verbal-pocket",
   "metadata": {},
   "source": [
    "#### Unpacking\n",
    "\n",
    "Tuples and lists share access to their elements through the syntax ```[*]```. Both tuples and lists can be \"unpacked\", the *pythonic* term is **unpacking**. Example:"
   ]
  },
  {
   "cell_type": "code",
   "execution_count": 219,
   "id": "pregnant-stamp",
   "metadata": {
    "ExecuteTime": {
     "end_time": "2021-03-23T13:50:04.356386Z",
     "start_time": "2021-03-23T13:50:04.348385Z"
    }
   },
   "outputs": [],
   "source": [
    "# Tuples Unpacking\n",
    "a, b, c, d = ('🚗', '🚌', '🚒', '🚕')"
   ]
  },
  {
   "cell_type": "code",
   "execution_count": 220,
   "id": "anticipated-seeking",
   "metadata": {
    "ExecuteTime": {
     "end_time": "2021-03-23T13:50:04.949324Z",
     "start_time": "2021-03-23T13:50:04.931285Z"
    }
   },
   "outputs": [
    {
     "data": {
      "text/plain": [
       "'🚗'"
      ]
     },
     "execution_count": 220,
     "metadata": {},
     "output_type": "execute_result"
    }
   ],
   "source": [
    "a"
   ]
  },
  {
   "cell_type": "code",
   "execution_count": 221,
   "id": "charitable-hotel",
   "metadata": {
    "ExecuteTime": {
     "end_time": "2021-03-23T13:50:05.473217Z",
     "start_time": "2021-03-23T13:50:05.458188Z"
    },
    "scrolled": true
   },
   "outputs": [
    {
     "data": {
      "text/plain": [
       "'🚌'"
      ]
     },
     "execution_count": 221,
     "metadata": {},
     "output_type": "execute_result"
    }
   ],
   "source": [
    "b"
   ]
  },
  {
   "cell_type": "code",
   "execution_count": 222,
   "id": "397d107c-382a-43a7-be7c-bce1f9ef0416",
   "metadata": {},
   "outputs": [
    {
     "data": {
      "text/plain": [
       "'🚒'"
      ]
     },
     "execution_count": 222,
     "metadata": {},
     "output_type": "execute_result"
    }
   ],
   "source": [
    "c"
   ]
  },
  {
   "cell_type": "code",
   "execution_count": 223,
   "id": "98cdfbc7-4273-44ed-95c7-16b3e4831530",
   "metadata": {},
   "outputs": [
    {
     "data": {
      "text/plain": [
       "'🚕'"
      ]
     },
     "execution_count": 223,
     "metadata": {},
     "output_type": "execute_result"
    }
   ],
   "source": [
    "d"
   ]
  },
  {
   "cell_type": "markdown",
   "id": "brilliant-hungarian",
   "metadata": {},
   "source": [
    "## Dictionaries\n",
    "\n",
    "A dictionary corresponds to the Pythonic implementation of a \"key-value\" type application.\n",
    "It allows us to create structures that allow us to represent data in a more natural way.\n",
    "\n",
    "**Example**:"
   ]
  },
  {
   "cell_type": "code",
   "execution_count": 224,
   "id": "deadly-lloyd",
   "metadata": {
    "ExecuteTime": {
     "end_time": "2021-03-23T13:50:12.556210Z",
     "start_time": "2021-03-23T13:50:12.547228Z"
    }
   },
   "outputs": [
    {
     "data": {
      "text/plain": [
       "{'name': 'Juan', 'age': 29, 'hobby': 'guitar'}"
      ]
     },
     "execution_count": 224,
     "metadata": {},
     "output_type": "execute_result"
    }
   ],
   "source": [
    "d = {\n",
    "    'name': 'Juan', \n",
    "    'age': 29,\n",
    "    'hobby': 'guitar',\n",
    "}\n",
    "d"
   ]
  },
  {
   "cell_type": "markdown",
   "id": "centered-cursor",
   "metadata": {},
   "source": [
    "The data in a dictionary can be accessed using the syntax ``dictionary[key]``."
   ]
  },
  {
   "cell_type": "code",
   "execution_count": 225,
   "id": "tropical-trinity",
   "metadata": {
    "ExecuteTime": {
     "end_time": "2021-03-23T13:50:14.083270Z",
     "start_time": "2021-03-23T13:50:14.064275Z"
    }
   },
   "outputs": [
    {
     "data": {
      "text/plain": [
       "'Juan'"
      ]
     },
     "execution_count": 225,
     "metadata": {},
     "output_type": "execute_result"
    }
   ],
   "source": [
    "d['name']"
   ]
  },
  {
   "cell_type": "markdown",
   "id": "successful-buffer",
   "metadata": {},
   "source": [
    "> **Question**: What happens if we try to access a key that does not exist in the dictionary?"
   ]
  },
  {
   "cell_type": "code",
   "execution_count": 226,
   "id": "creative-institute",
   "metadata": {
    "ExecuteTime": {
     "end_time": "2021-03-23T13:50:15.397944Z",
     "start_time": "2021-03-23T13:50:15.386966Z"
    }
   },
   "outputs": [
    {
     "ename": "KeyError",
     "evalue": "'last_name'",
     "output_type": "error",
     "traceback": [
      "\u001b[1;31m---------------------------------------------------------------------------\u001b[0m",
      "\u001b[1;31mKeyError\u001b[0m                                  Traceback (most recent call last)",
      "Input \u001b[1;32mIn [226]\u001b[0m, in \u001b[0;36m<cell line: 1>\u001b[1;34m()\u001b[0m\n\u001b[1;32m----> 1\u001b[0m \u001b[43md\u001b[49m\u001b[43m[\u001b[49m\u001b[38;5;124;43m'\u001b[39;49m\u001b[38;5;124;43mlast_name\u001b[39;49m\u001b[38;5;124;43m'\u001b[39;49m\u001b[43m]\u001b[49m\n",
      "\u001b[1;31mKeyError\u001b[0m: 'last_name'"
     ]
    }
   ],
   "source": [
    "d['last_name']"
   ]
  },
  {
   "cell_type": "markdown",
   "id": "architectural-thesaurus",
   "metadata": {},
   "source": [
    "We can check if a key exists in the dictionary using the operator `in`."
   ]
  },
  {
   "cell_type": "code",
   "execution_count": 227,
   "id": "amino-mortgage",
   "metadata": {
    "ExecuteTime": {
     "end_time": "2021-03-23T13:50:16.641522Z",
     "start_time": "2021-03-23T13:50:16.634521Z"
    }
   },
   "outputs": [
    {
     "data": {
      "text/plain": [
       "False"
      ]
     },
     "execution_count": 227,
     "metadata": {},
     "output_type": "execute_result"
    }
   ],
   "source": [
    "'last_name' in d"
   ]
  },
  {
   "cell_type": "code",
   "execution_count": 228,
   "id": "d2ddb245-d867-4a8f-b737-0803d3a0577f",
   "metadata": {},
   "outputs": [
    {
     "name": "stdout",
     "output_type": "stream",
     "text": [
      "last_name is not present in the dictionary\n"
     ]
    }
   ],
   "source": [
    "if 'last_name' in d:\n",
    "    print(d['last_name'])\n",
    "else:\n",
    "    print('last_name is not present in the dictionary')"
   ]
  },
  {
   "cell_type": "markdown",
   "id": "015bd33a-2d3b-4939-ba66-0c622df899c4",
   "metadata": {},
   "source": [
    "#### Add key to the dictionary"
   ]
  },
  {
   "cell_type": "code",
   "execution_count": 229,
   "id": "89d12392-0b8c-4514-830c-3c2cd9484d08",
   "metadata": {},
   "outputs": [],
   "source": [
    "d['last_name'] = 'Pérez'"
   ]
  },
  {
   "cell_type": "code",
   "execution_count": 230,
   "id": "8e71eddd-9a26-4c74-8ccb-cc072e0d2835",
   "metadata": {},
   "outputs": [
    {
     "data": {
      "text/plain": [
       "{'name': 'Juan', 'age': 29, 'hobby': 'guitar', 'last_name': 'Pérez'}"
      ]
     },
     "execution_count": 230,
     "metadata": {},
     "output_type": "execute_result"
    }
   ],
   "source": [
    "d"
   ]
  },
  {
   "cell_type": "markdown",
   "id": "laden-burlington",
   "metadata": {},
   "source": [
    "#### Mutate Dictionary\n",
    "\n",
    "We can modify a value present in the dictionary similar to how we did with lists, but changing the index by the key:"
   ]
  },
  {
   "cell_type": "code",
   "execution_count": 231,
   "id": "future-asthma",
   "metadata": {
    "ExecuteTime": {
     "end_time": "2021-03-22T20:16:08.234933Z",
     "start_time": "2021-03-22T20:16:08.211924Z"
    }
   },
   "outputs": [
    {
     "data": {
      "text/plain": [
       "{'name': 'Juan', 'age': 39, 'hobby': 'guitar', 'last_name': 'Pérez'}"
      ]
     },
     "execution_count": 231,
     "metadata": {},
     "output_type": "execute_result"
    }
   ],
   "source": [
    "d['age'] = 39\n",
    "d"
   ]
  },
  {
   "cell_type": "markdown",
   "id": "alert-water",
   "metadata": {},
   "source": [
    "You can remove elements from the dictionary using the `del` operator."
   ]
  },
  {
   "cell_type": "code",
   "execution_count": 232,
   "id": "blank-wednesday",
   "metadata": {
    "ExecuteTime": {
     "end_time": "2021-03-22T20:16:58.312264Z",
     "start_time": "2021-03-22T20:16:58.302264Z"
    }
   },
   "outputs": [
    {
     "data": {
      "text/plain": [
       "{'name': 'Juan', 'age': 39, 'last_name': 'Pérez'}"
      ]
     },
     "execution_count": 232,
     "metadata": {},
     "output_type": "execute_result"
    }
   ],
   "source": [
    "del d['hobby']\n",
    "d"
   ]
  },
  {
   "cell_type": "markdown",
   "id": "arctic-antarctica",
   "metadata": {},
   "source": [
    "#### Access *collections* with dictionary items"
   ]
  },
  {
   "cell_type": "markdown",
   "id": "massive-revelation",
   "metadata": {},
   "source": [
    "To obtain the keys of a dictionary you can use the ```.keys()`` method. \n"
   ]
  },
  {
   "cell_type": "code",
   "execution_count": 233,
   "id": "extensive-royal",
   "metadata": {
    "ExecuteTime": {
     "end_time": "2021-03-22T20:16:50.035215Z",
     "start_time": "2021-03-22T20:16:50.029208Z"
    }
   },
   "outputs": [],
   "source": [
    "# We redefine the dictionary to the original one for the following example\n",
    "d = {'name': 'Juan', 'age': 29}"
   ]
  },
  {
   "cell_type": "code",
   "execution_count": 234,
   "id": "sophisticated-praise",
   "metadata": {
    "ExecuteTime": {
     "end_time": "2021-03-22T20:16:24.765298Z",
     "start_time": "2021-03-22T20:16:24.753298Z"
    }
   },
   "outputs": [
    {
     "data": {
      "text/plain": [
       "dict_keys(['name', 'age'])"
      ]
     },
     "execution_count": 234,
     "metadata": {},
     "output_type": "execute_result"
    }
   ],
   "source": [
    "d.keys() # Note that it is not a list!\n",
    "d.keys()"
   ]
  },
  {
   "cell_type": "code",
   "execution_count": 235,
   "id": "b4645299",
   "metadata": {},
   "outputs": [
    {
     "data": {
      "text/plain": [
       "['name', 'age']"
      ]
     },
     "execution_count": 235,
     "metadata": {},
     "output_type": "execute_result"
    }
   ],
   "source": [
    "list(d.keys())"
   ]
  },
  {
   "cell_type": "markdown",
   "id": "opponent-palmer",
   "metadata": {},
   "source": [
    "To obtain the elements we can use the `.values()` method."
   ]
  },
  {
   "cell_type": "code",
   "execution_count": 236,
   "id": "three-insider",
   "metadata": {
    "ExecuteTime": {
     "end_time": "2021-03-22T20:16:40.046254Z",
     "start_time": "2021-03-22T20:16:40.032232Z"
    }
   },
   "outputs": [
    {
     "data": {
      "text/plain": [
       "dict_values(['Juan', 29])"
      ]
     },
     "execution_count": 236,
     "metadata": {},
     "output_type": "execute_result"
    }
   ],
   "source": [
    "d.values()"
   ]
  },
  {
   "cell_type": "markdown",
   "id": "controlled-theology",
   "metadata": {},
   "source": [
    "And tuples can be obtained by specifying all the `(keys, value)` in the dictionary"
   ]
  },
  {
   "cell_type": "code",
   "execution_count": 237,
   "id": "about-toolbox",
   "metadata": {},
   "outputs": [
    {
     "data": {
      "text/plain": [
       "dict_items([('name', 'Juan'), ('age', 29)])"
      ]
     },
     "execution_count": 237,
     "metadata": {},
     "output_type": "execute_result"
    }
   ],
   "source": [
    "d.items()"
   ]
  },
  {
   "cell_type": "markdown",
   "id": "magnetic-gambling",
   "metadata": {},
   "source": [
    "----\n",
    "\n",
    "## Part 6: Iterations"
   ]
  },
  {
   "cell_type": "markdown",
   "id": "emerging-storm",
   "metadata": {},
   "source": [
    "Iterations allow you to step through and perform some action on each element of a collection. There are several ways to accomplish this:\n",
    "\n",
    "\n",
    "### While Cycle - Proposed Personal study.\n",
    "\n",
    "\n",
    "**While:** a ```while``` cycle allows to perform an ```action``` depending on the truth value of a ```condition```, its structure is:\n",
    "\n",
    "```python\n",
    "while condition: # Boolean condition\n",
    "    action # Indented block\n",
    "```"
   ]
  },
  {
   "cell_type": "code",
   "execution_count": 238,
   "id": "wanted-maker",
   "metadata": {
    "ExecuteTime": {
     "end_time": "2021-03-23T13:50:19.897248Z",
     "start_time": "2021-03-23T13:50:19.875247Z"
    }
   },
   "outputs": [
    {
     "name": "stdout",
     "output_type": "stream",
     "text": [
      "0 10\n",
      "1 20\n",
      "2 30\n",
      "3 40\n",
      "4 50\n",
      "5 60\n",
      "6 70\n",
      "7 80\n",
      "8 90\n",
      "9 100\n"
     ]
    }
   ],
   "source": [
    "counter = 0\n",
    "lista = [10, 20, 30, 40, 50, 60, 70, 80, 90, 100]\n",
    "\n",
    "while counter < len(lista):\n",
    "    print(counter, lista[counter])\n",
    "    counter += 1"
   ]
  },
  {
   "cell_type": "markdown",
   "id": "gothic-concern",
   "metadata": {},
   "source": [
    "### For loop\n",
    "\n",
    "A ```for``` loop allows you to repeat performing an ```action``` depending on the elements of a *collection*. Its structure corresponds to:\n",
    "\n",
    "```python\n",
    "for element in collection: \n",
    "    action_on_element\n",
    "\n",
    "```\n",
    "\n",
    "in this case ```element``` corresponds to a variable that takes, sequentially, the values of the iterator. \n"
   ]
  },
  {
   "cell_type": "markdown",
   "id": "f1e4147f-847d-4a93-abc2-d8a905969c46",
   "metadata": {},
   "source": [
    "#### Iteration on list"
   ]
  },
  {
   "cell_type": "code",
   "execution_count": 239,
   "id": "alleged-mercy",
   "metadata": {
    "ExecuteTime": {
     "end_time": "2021-03-23T13:50:21.833277Z",
     "start_time": "2021-03-23T13:50:21.818239Z"
    }
   },
   "outputs": [],
   "source": [
    "lista = [0, 1, 2, 3, 4, 5]\n"
   ]
  },
  {
   "cell_type": "code",
   "execution_count": 240,
   "id": "smoking-secret",
   "metadata": {
    "ExecuteTime": {
     "end_time": "2021-03-23T13:50:22.476165Z",
     "start_time": "2021-03-23T13:50:22.459150Z"
    }
   },
   "outputs": [
    {
     "name": "stdout",
     "output_type": "stream",
     "text": [
      "0 ^ 2 = 0\n",
      "1 ^ 2 = 1\n",
      "2 ^ 2 = 4\n",
      "3 ^ 2 = 9\n",
      "4 ^ 2 = 16\n",
      "5 ^ 2 = 25\n"
     ]
    }
   ],
   "source": [
    "for element in lista:\n",
    "    print(element, '^ 2 =', element ** 2)"
   ]
  },
  {
   "cell_type": "markdown",
   "id": "8a3365d2-6d2a-46f6-91c6-3511dbd313e6",
   "metadata": {},
   "source": [
    "### Iteration on dictionary keys"
   ]
  },
  {
   "cell_type": "code",
   "execution_count": 241,
   "id": "6f955e5d",
   "metadata": {},
   "outputs": [
    {
     "data": {
      "text/plain": [
       "{'name': 'Juan', 'age': 29, 'hobby': 'guitar'}"
      ]
     },
     "execution_count": 241,
     "metadata": {},
     "output_type": "execute_result"
    }
   ],
   "source": [
    "d = {\n",
    "    'name': 'Juan', \n",
    "    'age': 29, \n",
    "    'hobby': 'guitar',\n",
    "}\n",
    "d"
   ]
  },
  {
   "cell_type": "code",
   "execution_count": 242,
   "id": "amateur-stewart",
   "metadata": {
    "ExecuteTime": {
     "end_time": "2021-03-22T20:21:39.879297Z",
     "start_time": "2021-03-22T20:21:39.859296Z"
    }
   },
   "outputs": [
    {
     "name": "stdout",
     "output_type": "stream",
     "text": [
      "NAME : Juan\n",
      "AGE : 29\n",
      "HOBBY : guitar\n"
     ]
    }
   ],
   "source": [
    "for key in d:\n",
    "    value = d[key]\n",
    "    print(f'{key.upper()} : {value}')"
   ]
  },
  {
   "cell_type": "markdown",
   "id": "4e3d70ce-2008-4ae3-a600-1b49e2db90a0",
   "metadata": {},
   "source": [
    "#### Iteration on dictionary items\n",
    "\n",
    "Recall that `d.items()` gave us a structure similar to a list `[(key_1, value_1), ...]`.\n",
    "Since each item is a tuple, we can unpack it into key, value in the same loop."
   ]
  },
  {
   "cell_type": "code",
   "execution_count": 243,
   "id": "f9528bc1-f2b5-4d24-887e-495127fe89fc",
   "metadata": {},
   "outputs": [
    {
     "data": {
      "text/plain": [
       "dict_items([('name', 'Juan'), ('age', 29), ('hobby', 'guitar')])"
      ]
     },
     "execution_count": 243,
     "metadata": {},
     "output_type": "execute_result"
    }
   ],
   "source": [
    "d.items()"
   ]
  },
  {
   "cell_type": "code",
   "execution_count": 244,
   "id": "guilty-effects",
   "metadata": {
    "ExecuteTime": {
     "end_time": "2021-03-22T20:22:17.080653Z",
     "start_time": "2021-03-22T20:22:17.073658Z"
    }
   },
   "outputs": [
    {
     "name": "stdout",
     "output_type": "stream",
     "text": [
      "NAME : Juan\n",
      "AGE : 29\n",
      "HOBBY : guitar\n"
     ]
    }
   ],
   "source": [
    "for key, value in d.items():\n",
    "    print(f'{key.upper()} : {value}')"
   ]
  },
  {
   "cell_type": "markdown",
   "id": "computational-norman",
   "metadata": {},
   "source": [
    "### Utilities for iteration"
   ]
  },
  {
   "cell_type": "markdown",
   "id": "corporate-message",
   "metadata": {},
   "source": [
    "#### Enumerator\n",
    "\n",
    "It allows to have the index of the element to which we are accessing. For this, use the `enumerate(list)` function."
   ]
  },
  {
   "cell_type": "code",
   "execution_count": 245,
   "id": "d3a77bb8-cee6-42fa-8314-ef829050ceb3",
   "metadata": {},
   "outputs": [
    {
     "data": {
      "text/plain": [
       "[(0, 10), (1, 11), (2, 12), (3, 13), (4, 14), (5, 15)]"
      ]
     },
     "execution_count": 245,
     "metadata": {},
     "output_type": "execute_result"
    }
   ],
   "source": [
    "lista = [10, 11, 12, 13, 14, 15]\n",
    "\n",
    "list(enumerate(lista))"
   ]
  },
  {
   "cell_type": "code",
   "execution_count": 246,
   "id": "elect-adelaide",
   "metadata": {
    "ExecuteTime": {
     "end_time": "2021-03-22T20:22:27.345116Z",
     "start_time": "2021-03-22T20:22:27.325122Z"
    }
   },
   "outputs": [
    {
     "name": "stdout",
     "output_type": "stream",
     "text": [
      "Index: 0 | Element: 10\n",
      "I found an index that is a multiple of 3: 0\n",
      "Index: 1 | Element: 11\n",
      "Index: 2 | Element: 12\n",
      "Index: 3 | Element: 13\n",
      "I found an index that is a multiple of 3: 3\n",
      "Index: 4 | Element: 14\n",
      "Index: 5 | Element: 15\n"
     ]
    }
   ],
   "source": [
    "for index, element in enumerate(lista):\n",
    "    print(f'Index: {index} | Element: {element}')\n",
    "    if index % 3 == 0:\n",
    "        print(f'I found an index that is a multiple of 3: {index}')"
   ]
  },
  {
   "cell_type": "markdown",
   "id": "ecological-halloween",
   "metadata": {},
   "source": [
    "#### Range\n",
    "\n",
    "Generates a sequence of numbers. It is not a list as such, but a generator.Syntax: \n",
    " \n",
    "```python\n",
    "range(start, end, optional(skip) )\n",
    "```"
   ]
  },
  {
   "cell_type": "code",
   "execution_count": 247,
   "id": "moved-century",
   "metadata": {
    "ExecuteTime": {
     "end_time": "2021-03-23T14:00:50.184140Z",
     "start_time": "2021-03-23T14:00:50.165117Z"
    }
   },
   "outputs": [
    {
     "name": "stdout",
     "output_type": "stream",
     "text": [
      "0\n",
      "1\n",
      "2\n",
      "3\n",
      "4\n"
     ]
    }
   ],
   "source": [
    "for element in range(0, 5):\n",
    "    print(element)"
   ]
  },
  {
   "cell_type": "code",
   "execution_count": 248,
   "id": "casual-recycling",
   "metadata": {
    "ExecuteTime": {
     "end_time": "2021-03-23T14:02:11.120715Z",
     "start_time": "2021-03-23T14:02:11.109702Z"
    }
   },
   "outputs": [
    {
     "name": "stdout",
     "output_type": "stream",
     "text": [
      "0\n",
      "3\n",
      "6\n",
      "9\n"
     ]
    }
   ],
   "source": [
    "# We can also give it a jump, i.e., how much we will jump between one element and another.\n",
    "for element in range(0, 10, 3):\n",
    "    print(element)"
   ]
  },
  {
   "cell_type": "markdown",
   "id": "corrected-ballet",
   "metadata": {},
   "source": [
    "#### Zip\n",
    "\n",
    "Allows to iterate between two or more sequences at the same time. For this, it generates tuples with both values."
   ]
  },
  {
   "cell_type": "code",
   "execution_count": 251,
   "id": "sixth-communication",
   "metadata": {
    "ExecuteTime": {
     "end_time": "2021-03-23T13:58:54.552693Z",
     "start_time": "2021-03-23T13:58:54.542693Z"
    }
   },
   "outputs": [
    {
     "data": {
      "text/plain": [
       "[('name', 'Juan'), ('age', '27'), ('hair', 'brown')]"
      ]
     },
     "execution_count": 251,
     "metadata": {},
     "output_type": "execute_result"
    }
   ],
   "source": [
    "questions = ['name', 'age', 'hair']\n",
    "answers = ['Juan', '27', 'brown']\n",
    "\n",
    "list(zip(questions, answers))\n"
   ]
  },
  {
   "cell_type": "code",
   "execution_count": 252,
   "id": "59809ab2-e7dd-4a20-9254-b33aa6897e6d",
   "metadata": {},
   "outputs": [
    {
     "name": "stdout",
     "output_type": "stream",
     "text": [
      "What is your name? It's Juan.\n",
      "What is your age? It's 27.\n",
      "What is your hair? It's brown.\n"
     ]
    }
   ],
   "source": [
    "for question, answer in zip(questions, answers):\n",
    "    print(f\"What is your {question}? It's {answer}.\")"
   ]
  },
  {
   "cell_type": "markdown",
   "id": "practical-protection",
   "metadata": {},
   "source": [
    "#### Reverse\n",
    "\n",
    "Reverses the order of the collection:"
   ]
  },
  {
   "cell_type": "code",
   "execution_count": 253,
   "id": "f892f5d5-31eb-4a7f-a967-e7f1c7012fb4",
   "metadata": {},
   "outputs": [
    {
     "data": {
      "text/plain": [
       "{'name': 'Juan', 'age': 29, 'hobby': 'guitar'}"
      ]
     },
     "execution_count": 253,
     "metadata": {},
     "output_type": "execute_result"
    }
   ],
   "source": [
    "d"
   ]
  },
  {
   "cell_type": "code",
   "execution_count": 254,
   "id": "fitting-firewall",
   "metadata": {
    "ExecuteTime": {
     "end_time": "2021-03-23T13:59:47.139452Z",
     "start_time": "2021-03-23T13:59:47.133466Z"
    }
   },
   "outputs": [
    {
     "name": "stdout",
     "output_type": "stream",
     "text": [
      "hobby\n",
      "age\n",
      "name\n"
     ]
    }
   ],
   "source": [
    "for i in reversed(d):\n",
    "    print(i)"
   ]
  },
  {
   "cell_type": "markdown",
   "id": "fifth-recording",
   "metadata": {},
   "source": [
    "### List Comprehensions\n",
    "\n",
    "This is a *elegant* 🧐 way to create collections.\n",
    "\n",
    "Suppose we want to create a list with all the letters of the word `notebook`."
   ]
  },
  {
   "cell_type": "code",
   "execution_count": 255,
   "id": "registered-sword",
   "metadata": {
    "ExecuteTime": {
     "end_time": "2021-03-22T20:23:14.764115Z",
     "start_time": "2021-03-22T20:23:14.751130Z"
    }
   },
   "outputs": [
    {
     "name": "stdout",
     "output_type": "stream",
     "text": [
      "I added to the list: N\n",
      "I added to the list: O\n",
      "I added to the list: T\n",
      "I added to the list: E\n",
      "I added to the list: B\n",
      "I added to the list: O\n",
      "I added to the list: O\n",
      "I added to the list: K\n",
      "I added to the list:  \n",
      "I added to the list: 📗\n"
     ]
    },
    {
     "data": {
      "text/plain": [
       "['N', 'O', 'T', 'E', 'B', 'O', 'O', 'K', ' ', '📗']"
      ]
     },
     "execution_count": 255,
     "metadata": {},
     "output_type": "execute_result"
    }
   ],
   "source": [
    "characters = []\n",
    "word = 'Notebook 📗'\n",
    "\n",
    "for char in word:\n",
    "    characters.append(char.upper())\n",
    "    print(f'I added to the list: {char.upper()}')\n",
    "\n",
    "characters"
   ]
  },
  {
   "cell_type": "markdown",
   "id": "illegal-meaning",
   "metadata": {},
   "source": [
    "We can replace this `for` loop with a more compact syntax:"
   ]
  },
  {
   "cell_type": "code",
   "execution_count": 256,
   "id": "formal-reset",
   "metadata": {
    "ExecuteTime": {
     "end_time": "2021-03-22T20:23:58.748825Z",
     "start_time": "2021-03-22T20:23:58.740827Z"
    }
   },
   "outputs": [
    {
     "data": {
      "text/plain": [
       "['N', 'O', 'T', 'E', 'B', 'O', 'O', 'K', ' ', '📗']"
      ]
     },
     "execution_count": 256,
     "metadata": {},
     "output_type": "execute_result"
    }
   ],
   "source": [
    "characters = [char.upper() for char in word]\n",
    "characters"
   ]
  },
  {
   "cell_type": "markdown",
   "id": "severe-artwork",
   "metadata": {
    "ExecuteTime": {
     "end_time": "2021-03-22T19:02:53.523752Z",
     "start_time": "2021-03-22T19:02:53.515781Z"
    }
   },
   "source": [
    "This is known as **List Comprehension**."
   ]
  },
  {
   "cell_type": "markdown",
   "id": "distributed-vision",
   "metadata": {},
   "source": [
    "Suppose now that we generate a list of the first 10 integers and of these we want only the even numbers.\n",
    "A code using `for` would look like:"
   ]
  },
  {
   "cell_type": "code",
   "execution_count": 257,
   "id": "bf5d7ccb-3c35-4675-ba36-317771f96ded",
   "metadata": {},
   "outputs": [
    {
     "data": {
      "text/plain": [
       "[0, 1, 2, 3, 4, 5, 6, 7, 8, 9]"
      ]
     },
     "execution_count": 257,
     "metadata": {},
     "output_type": "execute_result"
    }
   ],
   "source": [
    "list(range(10))"
   ]
  },
  {
   "cell_type": "code",
   "execution_count": 258,
   "id": "rough-toner",
   "metadata": {
    "ExecuteTime": {
     "end_time": "2021-03-22T20:24:21.286110Z",
     "start_time": "2021-03-22T20:24:21.276108Z"
    }
   },
   "outputs": [
    {
     "data": {
      "text/plain": [
       "[0, 2, 4, 6, 8]"
      ]
     },
     "execution_count": 258,
     "metadata": {},
     "output_type": "execute_result"
    }
   ],
   "source": [
    "even_numbers = []\n",
    "for number in range(10):\n",
    "    if number % 2 == 0:\n",
    "        even_numbers.append(number)\n",
    "\n",
    "even_numbers"
   ]
  },
  {
   "cell_type": "markdown",
   "id": "completed-check",
   "metadata": {},
   "source": [
    "Using **List Comprehension**:"
   ]
  },
  {
   "cell_type": "code",
   "execution_count": 262,
   "id": "prostate-information",
   "metadata": {
    "ExecuteTime": {
     "end_time": "2021-03-22T20:25:13.348291Z",
     "start_time": "2021-03-22T20:25:13.341291Z"
    }
   },
   "outputs": [
    {
     "data": {
      "text/plain": [
       "[0, 2, 4, 6, 8]"
      ]
     },
     "execution_count": 262,
     "metadata": {},
     "output_type": "execute_result"
    }
   ],
   "source": [
    "even_numbers = [number for number in range(10) if number % 2 == 0]\n",
    "even_numbers"
   ]
  },
  {
   "cell_type": "code",
   "execution_count": 263,
   "id": "subsequent-wright",
   "metadata": {
    "ExecuteTime": {
     "end_time": "2021-03-22T20:25:25.368603Z",
     "start_time": "2021-03-22T20:25:25.352606Z"
    }
   },
   "outputs": [
    {
     "data": {
      "text/plain": [
       "['Even', 'Odd', 'Even', 'Odd', 'Even', 'Odd', 'Even', 'Odd', 'Even', 'Odd']"
      ]
     },
     "execution_count": 263,
     "metadata": {},
     "output_type": "execute_result"
    }
   ],
   "source": [
    "even_numbers = ['Even' if number % 2 == 0 else 'Odd' for number in range(10)]\n",
    "even_numbers"
   ]
  },
  {
   "cell_type": "markdown",
   "id": "transsexual-color",
   "metadata": {},
   "source": [
    "> **Question ❓:** Can sets or dictionaries be created using this notation?"
   ]
  },
  {
   "cell_type": "code",
   "execution_count": 264,
   "id": "a31cf772-18c0-4e08-b2cd-2b0a61e84d61",
   "metadata": {},
   "outputs": [
    {
     "data": {
      "text/plain": [
       "{0: 'Even',\n",
       " 1: 'Odd',\n",
       " 2: 'Even',\n",
       " 3: 'Odd',\n",
       " 4: 'Even',\n",
       " 5: 'Odd',\n",
       " 6: 'Even',\n",
       " 7: 'Odd',\n",
       " 8: 'Even',\n",
       " 9: 'Odd'}"
      ]
     },
     "execution_count": 264,
     "metadata": {},
     "output_type": "execute_result"
    }
   ],
   "source": [
    "{number: 'Even' if number % 2 == 0 else 'Odd' for number in range(10) }"
   ]
  },
  {
   "cell_type": "markdown",
   "id": "finnish-swimming",
   "metadata": {},
   "source": [
    "## Other references"
   ]
  },
  {
   "cell_type": "markdown",
   "id": "dimensional-cyprus",
   "metadata": {},
   "source": [
    "An excellent Python tutorial:\n",
    "    \n",
    "https://www.programiz.com/python-programming\n",
    "\n",
    "And the official tutorial: \n",
    "\n",
    "https://docs.python.org/es/3/tutorial/\n"
   ]
  },
  {
   "cell_type": "code",
   "execution_count": null,
   "id": "aad89ca4",
   "metadata": {},
   "outputs": [],
   "source": []
  },
  {
   "cell_type": "code",
   "execution_count": null,
   "id": "cd306309",
   "metadata": {},
   "outputs": [],
   "source": []
  },
  {
   "cell_type": "code",
   "execution_count": null,
   "id": "5edd54b9",
   "metadata": {},
   "outputs": [],
   "source": []
  }
 ],
 "metadata": {
  "kernelspec": {
   "display_name": "Python 3 (ipykernel)",
   "language": "python",
   "name": "python3"
  },
  "language_info": {
   "codemirror_mode": {
    "name": "ipython",
    "version": 3
   },
   "file_extension": ".py",
   "mimetype": "text/x-python",
   "name": "python",
   "nbconvert_exporter": "python",
   "pygments_lexer": "ipython3",
   "version": "3.9.12"
  },
  "toc": {
   "base_numbering": 1,
   "nav_menu": {},
   "number_sections": true,
   "sideBar": true,
   "skip_h1_title": false,
   "title_cell": "Table of Contents",
   "title_sidebar": "Contents",
   "toc_cell": false,
   "toc_position": {
    "height": "calc(100% - 180px)",
    "left": "10px",
    "top": "150px",
    "width": "294.233px"
   },
   "toc_section_display": true,
   "toc_window_display": true
  },
  "varInspector": {
   "cols": {
    "lenName": 16,
    "lenType": 16,
    "lenVar": 40
   },
   "kernels_config": {
    "python": {
     "delete_cmd_postfix": "",
     "delete_cmd_prefix": "del ",
     "library": "var_list.py",
     "varRefreshCmd": "print(var_dic_list())"
    },
    "r": {
     "delete_cmd_postfix": ") ",
     "delete_cmd_prefix": "rm(",
     "library": "var_list.r",
     "varRefreshCmd": "cat(var_dic_list()) "
    }
   },
   "types_to_exclude": [
    "module",
    "function",
    "builtin_function_or_method",
    "instance",
    "_Feature"
   ],
   "window_display": false
  }
 },
 "nbformat": 4,
 "nbformat_minor": 5
}
